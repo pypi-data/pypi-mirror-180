{
 "cells": [
  {
   "cell_type": "code",
   "execution_count": null,
   "id": "a7494b7a",
   "metadata": {},
   "outputs": [],
   "source": [
    "! [ -d \"GroceryStoreDataset-master\" ] && echo \"skipping\" || (wget -nc --no-check-certificate https://github.com/marcusklasson/GroceryStoreDataset/archive/refs/heads/master.zip && unzip master.zip -d .)"
   ]
  },
  {
   "cell_type": "code",
   "execution_count": null,
   "id": "c1cf7bee",
   "metadata": {},
   "outputs": [],
   "source": [
    "import os\n",
    "os.environ[\"CUDA_DEVICE_ORDER\"]=\"PCI_BUS_ID\"\n",
    "os.environ[\"CUDA_VISIBLE_DEVICES\"]=\"0\""
   ]
  },
  {
   "cell_type": "code",
   "execution_count": null,
   "id": "d71f8b1e",
   "metadata": {},
   "outputs": [],
   "source": [
    "import pathlib, json\n",
    "\n",
    "from sap_computer_vision.datasets import image_folder as imgf\n",
    "\n",
    "dataset_folder = pathlib.Path('GroceryStoreDataset-master/').resolve()\n",
    "\n",
    "images_train, class_names = imgf.register('grocery_train',\n",
    "                                          base_dir=dataset_folder / 'dataset' / 'train')\n",
    "images_val, class_names = imgf.register('grocery_val',\n",
    "                                          base_dir=dataset_folder / 'dataset' / 'val',\n",
    "                                          class_names=class_names)\n",
    "images_test, class_names = imgf.register('grocery_test',\n",
    "                                          base_dir=dataset_folder / 'dataset' / 'test',\n",
    "                                          class_names=class_names)"
   ]
  },
  {
   "cell_type": "code",
   "execution_count": null,
   "id": "f7782a3a",
   "metadata": {},
   "outputs": [],
   "source": [
    "import numpy as np\n",
    "from sap_computer_vision import setup_loggers, get_cfg, get_config_file\n",
    "\n",
    "out_dir = 'distance_learning_grocery_higher_lr'\n",
    "\n",
    "setup_loggers(out_dir)\n",
    "\n",
    "cfg = get_cfg()\n",
    "cfg.merge_from_file(get_config_file('Base-EarlyStopping'))\n",
    "cfg.merge_from_file(get_config_file('Base-Evaluation'))\n",
    "cfg.merge_from_file(get_config_file('TripletDistanceLearner/FPN-Resnet50'))\n",
    "\n",
    "cfg.OUTPUT_DIR = out_dir\n",
    "cfg.DATASETS.TRAIN = ('grocery_train', )\n",
    "cfg.DATASETS.TEST = ('grocery_val', )\n",
    "\n",
    "cfg.DATALOADER.PK_SAMPLER.P_CLASSES_PER_BATCH = 30\n",
    "cfg.DATALOADER.PK_SAMPLER.K_EXAMPLES_PER_CLASS = 4\n",
    "cfg.DATALOADER.NUM_WORKERS = 10\n",
    "cfg.SOLVER.MAX_ITER = 5000\n",
    "cfg.SOLVER.BASE_LR = 0.01\n",
    "cfg.SOLVER.GAMMA = float(np.sqrt(0.1))\n",
    "cfg.SOLVER.EARLY_STOPPING.ENABLED = False\n",
    "\n",
    "cfg.SOLVER.WARMUP_ITERS = max(int(0.01 * cfg.SOLVER.MAX_ITER), 0)\n",
    "cfg.SOLVER.STEPS = [cfg.SOLVER.MAX_ITER * p for p in (0.25, 0.375, 0.5, 0.75, 0.9)]\n",
    "for aug in ['RANDOM_LIGHTING', 'RANDOM_BRIGHTNESS', 'RANDOM_SATURATION', 'RANDOM_CONTRAST', 'RANDOM_ROTATION', 'CROP', 'CUT_OUT']:\n",
    "    if cfg.INPUT.get(aug, None) is not None:\n",
    "        cfg.INPUT[aug].ENABLED = True\n",
    "cfg.MODEL.TRIPLET_DISTANCE_LEARNER.MARGIN_LOSS.MARGIN = 0.5\n",
    "cfg.MODEL.TRIPLET_DISTANCE_LEARNER.LOSS = 'MARGIN_LOSS'\n",
    "cfg.MODEL.FEATURE_EXTRACTION.PROJECTION_SIZE = 512\n",
    "cfg.MODEL.FEATURE_EXTRACTION.INTERMEDIATE_SIZE = None\n",
    "cfg.DATALOADER.SAMPLER_TRAIN = 'PKSampler'\n",
    "cfg.MODEL.TRIPLET_DISTANCE_LEARNER.TRIPLET_STRATEGY = ('*', '*')\n",
    "delay = (cfg.SOLVER.MAX_ITER  * 0.5)\n",
    "strategies_pos = np.linspace(0.5, 0.8, 21)\n",
    "strategies_neg = 1. - strategies_pos\n",
    "strategies = [(float(p), float(n)) for p, n in zip(strategies_pos, strategies_neg)]\n",
    "switch_steps = np.linspace(delay, cfg.SOLVER.MAX_ITER, len(strategies)+1)[:-1]\n",
    "cfg.DATALOADER.PK_SAMPLER.STRATEGY_SWITCHES = [(int(step), strat) for (step, strat) in zip(switch_steps, strategies)]\n",
    "\n",
    "cfg.TEST.EVAL_PERIOD = 250"
   ]
  },
  {
   "cell_type": "code",
   "execution_count": null,
   "id": "923f958f",
   "metadata": {},
   "outputs": [],
   "source": [
    "out_dir = pathlib.Path(out_dir)\n",
    "out_dir.mkdir(parents=True, exist_ok=True)\n",
    "with (out_dir / 'used_config.yaml').open('w') as stream:\n",
    "    stream.write(cfg.dump())"
   ]
  },
  {
   "cell_type": "code",
   "execution_count": null,
   "id": "b81133b2",
   "metadata": {},
   "outputs": [],
   "source": [
    "from sap_computer_vision.engine import TripletDistanceTrainer"
   ]
  },
  {
   "cell_type": "code",
   "execution_count": null,
   "id": "1cd1c7c0",
   "metadata": {
    "scrolled": true
   },
   "outputs": [],
   "source": [
    "trainer = TripletDistanceTrainer(cfg)"
   ]
  },
  {
   "cell_type": "code",
   "execution_count": null,
   "id": "003d1cb7",
   "metadata": {
    "scrolled": false
   },
   "outputs": [],
   "source": [
    "trainer.resume_or_load(resume=False)\n",
    "trainer.train()"
   ]
  },
  {
   "cell_type": "code",
   "execution_count": null,
   "id": "bd9db694",
   "metadata": {},
   "outputs": [],
   "source": [
    "cfg.DATASETS.TEST = ('grocery_test', )\n",
    "metrics = trainer.test(cfg, trainer.model)\n",
    "print(json.dumps(metrics, ident=2))"
   ]
  }
 ],
 "metadata": {
  "kernelspec": {
   "display_name": "Python 3 (ipykernel)",
   "language": "python",
   "name": "python3"
  },
  "language_info": {
   "codemirror_mode": {
    "name": "ipython",
    "version": 3
   },
   "file_extension": ".py",
   "mimetype": "text/x-python",
   "name": "python",
   "nbconvert_exporter": "python",
   "pygments_lexer": "ipython3",
   "version": "3.9.7"
  }
 },
 "nbformat": 4,
 "nbformat_minor": 5
}
