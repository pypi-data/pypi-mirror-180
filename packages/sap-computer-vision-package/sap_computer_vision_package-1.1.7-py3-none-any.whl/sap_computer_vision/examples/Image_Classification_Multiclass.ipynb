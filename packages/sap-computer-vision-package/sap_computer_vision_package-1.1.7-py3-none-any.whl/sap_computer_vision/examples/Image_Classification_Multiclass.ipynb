{
 "cells": [
  {
   "cell_type": "code",
   "execution_count": null,
   "id": "a7494b7a",
   "metadata": {},
   "outputs": [],
   "source": [
    "! [ -d \"oxford_pets/images\" ] && echo \"skipping\" || (wget -nc --no-check-certificate https://www.robots.ox.ac.uk/~vgg/data/pets/data/images.tar.gz -O oxford_pets.tar.gz && mkdir -p oxford_pets && tar -xzf oxford_pets.tar.gz -C \"oxford_pets\" && rm oxford_pets.tar.gz)\n",
    "#!rm -f \"PetImages/Dog/11702.jpg\" # Remove broken image bar.tar.gz -C foo\n",
    "#!rm -f \"PetImages/Cat/666.jpg\" # Remove broken image"
   ]
  },
  {
   "cell_type": "code",
   "execution_count": null,
   "id": "587cd7f8",
   "metadata": {},
   "outputs": [],
   "source": [
    "import os\n",
    "import shutil\n",
    "os.environ[\"CUDA_DEVICE_ORDER\"]=\"PCI_BUS_ID\"\n",
    "os.environ[\"CUDA_VISIBLE_DEVICES\"]=\"0\""
   ]
  },
  {
   "cell_type": "code",
   "execution_count": null,
   "id": "0befa971",
   "metadata": {},
   "outputs": [],
   "source": [
    "import pathlib\n",
    "\n",
    "f_ = lambda f: '_'.join(pathlib.Path(f).stem.split('_')[:-1]).lower()"
   ]
  },
  {
   "cell_type": "code",
   "execution_count": null,
   "id": "d71f8b1e",
   "metadata": {},
   "outputs": [],
   "source": [
    "from sap_computer_vision.datasets import image_folder as imgf\n",
    "import pathlib, json\n",
    "\n",
    "dataset_folder = 'oxford_pets/'\n",
    "\n",
    "datasets, class_names = split_and_register('oxford_pets_v3',\n",
    "                                           base_dir=dataset_folder,\n",
    "                                           splits={'test': 0.1, 'validation': 0.1, 'train': 0.8},\n",
    "                                           extract_class_func=lambda f: '_'.join(pathlib.Path(f).stem.split('_')[:-1]).lower())"
   ]
  },
  {
   "cell_type": "code",
   "execution_count": null,
   "id": "b007aec1",
   "metadata": {},
   "outputs": [],
   "source": [
    "print({k: len(v) for k, v in datasets.items()})"
   ]
  },
  {
   "cell_type": "code",
   "execution_count": null,
   "id": "f7782a3a",
   "metadata": {},
   "outputs": [],
   "source": [
    "from sap_computer_vision import setup_loggers, get_cfg, get_config_file\n",
    "import numpy as np\n",
    "\n",
    "out_dir = 'image_classification_model'\n",
    "if pathlib.Path(out_dir).exists():\n",
    "    shutil.rmtree(out_dir)\n",
    "\n",
    "setup_loggers(out_dir)\n",
    "\n",
    "cfg = get_cfg()\n",
    "cfg.merge_from_file(get_config_file('Base-EarlyStopping'))\n",
    "cfg.merge_from_file(get_config_file('Base-Evaluation'))\n",
    "cfg.merge_from_file(get_config_file('ImageClassifier/FPN-Resnet50'))\n",
    "\n",
    "cfg.OUTPUT_DIR = out_dir\n",
    "cfg.DATASETS.TRAIN = ('oxford_pets_train', )\n",
    "cfg.DATASETS.TEST = ('oxford_pets_validation', )\n",
    "\n",
    "cfg.SOLVER.MAX_ITER = 10000\n",
    "cfg.SOLVER.BASE_LR = 0.00025\n",
    "\n",
    "cfg.SOLVER.GAMMA = float(np.sqrt(0.1))\n",
    "cfg.SOLVER.EARLY_STOPPING.ENABLED = False\n",
    "\n",
    "cfg.SOLVER.WARMUP_ITERS = max(int(0.01 * cfg.SOLVER.MAX_ITER), 200)\n",
    "cfg.SOLVER.STEPS = [cfg.SOLVER.MAX_ITER * p for p in (0.15, 0.375, 0.5, 0.75, 0.9)]\n",
    "for aug in ['RANDOM_LIGHTING', 'RANDOM_BRIGHTNESS', 'RANDOM_SATURATION', 'RANDOM_CONTRAST', 'RANDOM_ROTATION', 'CROP']:\n",
    "    if cfg.INPUT.get(aug, None) is not None:\n",
    "        cfg.INPUT[aug].ENABLED = True\n",
    "\n",
    "cfg.SOLVER.IMS_PER_BATCH = 16\n",
    "cfg.SOLVER.IMS_PER_BATCH_EVAL = 16\n",
    "\n",
    "cfg.MODEL.IMAGE_CLASSIFIER.NUM_CLASSES = len(class_names)\n",
    "#cfg.MODEL.FEATURE_EXTRACTION.POOL_BACKBONE_FEATURES = 'average' \n",
    "cfg.MODEL.FEATURE_EXTRACTION.INTERMEDIATE_SIZE = []\n",
    "cfg.DATALOADER.NUM_WORKERS = 10\n",
    "cfg.TEST.EVAL_PERIOD = int(cfg.SOLVER.MAX_ITER * 0.05)"
   ]
  },
  {
   "cell_type": "code",
   "execution_count": null,
   "id": "95af9154",
   "metadata": {},
   "outputs": [],
   "source": [
    "import os\n",
    "out_dir = pathlib.Path(out_dir)\n",
    "out_dir.mkdir(parents=True, exist_ok=True)\n",
    "with (out_dir / 'used_config.yaml').open('w') as stream:\n",
    "    stream.write(cfg.dump())"
   ]
  },
  {
   "cell_type": "code",
   "execution_count": null,
   "id": "b81133b2",
   "metadata": {},
   "outputs": [],
   "source": [
    "from sap_computer_vision.engine import ImageClassificationTrainer"
   ]
  },
  {
   "cell_type": "code",
   "execution_count": null,
   "id": "1cd1c7c0",
   "metadata": {
    "scrolled": false
   },
   "outputs": [],
   "source": [
    "trainer = ImageClassificationTrainer(cfg)\n",
    "trainer.resume_or_load(resume=False)"
   ]
  },
  {
   "cell_type": "code",
   "execution_count": null,
   "id": "003d1cb7",
   "metadata": {},
   "outputs": [],
   "source": [
    "trainer.train()"
   ]
  },
  {
   "cell_type": "code",
   "execution_count": null,
   "id": "bd9db694",
   "metadata": {},
   "outputs": [],
   "source": [
    "cfg.DATASETS.TEST = ('oxford_pets_test', )\n",
    "metrics = trainer.test(cfg, trainer.model)\n",
    "print(json.dumps(metrics, indent=2))"
   ]
  },
  {
   "cell_type": "code",
   "execution_count": null,
   "id": "6386766e",
   "metadata": {},
   "outputs": [],
   "source": [
    "dl_test = trainer.build_train_loader(cfg)"
   ]
  },
  {
   "cell_type": "code",
   "execution_count": null,
   "id": "2d199f64",
   "metadata": {},
   "outputs": [],
   "source": [
    "for batch in dl_test:\n",
    "    break"
   ]
  },
  {
   "cell_type": "code",
   "execution_count": null,
   "id": "a98afdb6",
   "metadata": {},
   "outputs": [],
   "source": [
    "print(batch)"
   ]
  },
  {
   "cell_type": "code",
   "execution_count": null,
   "id": "e9f0bdbf",
   "metadata": {},
   "outputs": [],
   "source": []
  }
 ],
 "metadata": {
  "kernelspec": {
   "display_name": "Python 3 (ipykernel)",
   "language": "python",
   "name": "python3"
  },
  "language_info": {
   "codemirror_mode": {
    "name": "ipython",
    "version": 3
   },
   "file_extension": ".py",
   "mimetype": "text/x-python",
   "name": "python",
   "nbconvert_exporter": "python",
   "pygments_lexer": "ipython3",
   "version": "3.9.7"
  }
 },
 "nbformat": 4,
 "nbformat_minor": 5
}
