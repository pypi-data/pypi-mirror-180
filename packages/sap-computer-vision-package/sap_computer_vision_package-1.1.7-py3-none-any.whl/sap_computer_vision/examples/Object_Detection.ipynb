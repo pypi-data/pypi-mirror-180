{
 "cells": [
  {
   "cell_type": "code",
   "execution_count": null,
   "id": "940072d7",
   "metadata": {},
   "outputs": [],
   "source": [
    "! [ -d \"MaskWearing\" ] && echo \"skipping\" || (wget -nc --no-check-certificate -O mask_wearing_v4.zip \"https://public.roboflow.com/ds/gWZZEe9H1W?key=GsYEoVOTBs\" && unzip mask_wearing_v4 -d \"MaskWearing\")\n",
    "!rm -f \"MaskWearing/train/IMG_5690 2_jpg.rf.7198a97a65ae7dde21284ca6e356f7a8.jpg\" # Remove file with broken annotation\n",
    "!rm -f \"MaskWearing/train/IMG_5690 2_jpg.rf.7198a97a65ae7dde21284ca6e356f7a8.xml\" # Remove file with broken annotation"
   ]
  },
  {
   "cell_type": "code",
   "execution_count": null,
   "id": "c047d6c7",
   "metadata": {},
   "outputs": [],
   "source": [
    "import pathlib, json\n",
    "import os\n",
    "\n",
    "dataset_folder = pathlib.Path('MaskWearing')"
   ]
  },
  {
   "cell_type": "code",
   "execution_count": null,
   "id": "f5f567bf",
   "metadata": {},
   "outputs": [],
   "source": [
    "from sap_computer_vision.datasets import pascal_voc_style as pvs"
   ]
  },
  {
   "cell_type": "code",
   "execution_count": null,
   "id": "3ec4ff30",
   "metadata": {},
   "outputs": [],
   "source": [
    "d, c = pvs.register('dataset_train',\n",
    "                    img_dir=dataset_folder / 'train',\n",
    "                    xml_dir=dataset_folder / 'train')\n",
    "print(f'{len(d)} examples in the train set!')\n",
    "d, c = pvs.register('dataset_validation',\n",
    "                    img_dir=dataset_folder / 'valid',\n",
    "                    xml_dir=dataset_folder / 'valid',\n",
    "                    class_names=c)\n",
    "print(f'{len(d)} examples in the validation set!')\n",
    "d, c = pvs.register('dataset_test',\n",
    "                    img_dir=dataset_folder / 'test',\n",
    "                    xml_dir=dataset_folder / 'test',\n",
    "                    class_names=c)\n",
    "print(f'{len(d)} examples in the test set!')"
   ]
  },
  {
   "cell_type": "code",
   "execution_count": null,
   "id": "d34406f5",
   "metadata": {},
   "outputs": [],
   "source": [
    "\n",
    "out_dir = 'object_detecion_model'\n",
    "if pathlib.Path(out_dir).exists():\n",
    "    raise RuntimeError('Result folder already exists. Please delete the folder or change the name of the output')\n",
    "\n",
    "setup_loggers(out_dir)"
   ]
  },
  {
   "cell_type": "code",
   "execution_count": null,
   "id": "1087874f",
   "metadata": {},
   "outputs": [],
   "source": [
    "import shutil\n",
    "\n",
    "from sap_computer_vision import setup_loggers, get_cfg, get_config_file\n",
    "import numpy as np\n",
    "cfg = get_cfg()"
   ]
  },
  {
   "cell_type": "code",
   "execution_count": null,
   "id": "399ba0b3",
   "metadata": {},
   "outputs": [],
   "source": [
    "\n",
    "cfg.merge_from_file(get_config_file('Base-EarlyStopping'))\n",
    "cfg.merge_from_file(get_config_file('Base-Evaluation'))\n",
    "cfg.merge_from_file(get_config_file('COCO-Detection/faster_rcnn_R_50_FPN_3x.yaml'))"
   ]
  },
  {
   "cell_type": "code",
   "execution_count": null,
   "id": "78412771",
   "metadata": {},
   "outputs": [],
   "source": [
    "print(cfg)"
   ]
  },
  {
   "cell_type": "code",
   "execution_count": null,
   "id": "6b441c2a",
   "metadata": {},
   "outputs": [],
   "source": [
    "import shutil\n",
    "\n",
    "from sap_computer_vision import setup_loggers, get_cfg, get_config_file\n",
    "import numpy as np\n",
    "\n",
    "out_dir = 'object_detecion_model'\n",
    "if pathlib.Path(out_dir).exists():\n",
    "    raise RuntimeError('Result folder already exists. Please delete the folder or change the name of the output')\n",
    "\n",
    "setup_loggers(out_dir)\n",
    "cfg = get_cfg()\n",
    "cfg.merge_from_file(get_config_file('Base-EarlyStopping'))\n",
    "cfg.merge_from_file(get_config_file('Base-Evaluation'))\n",
    "cfg.merge_from_file(get_config_file('COCO-Detection/faster_rcnn_R_50_FPN_3x.yaml'))\n",
    "\n",
    "\n",
    "cfg.SOLVER.MAX_ITER = 100\n",
    "cfg.SOLVER.BASE_LR = 0.001\n",
    "cfg.SOLVER.GAMMA = float(np.sqrt(0.1))\n",
    "cfg.SOLVER.EARLY_STOPPING.ENABLED = False\n",
    "\n",
    "cfg.SOLVER.WARMUP_ITERS = max(int(0.01 * cfg.SOLVER.MAX_ITER), 50)\n",
    "cfg.SOLVER.STEPS = [cfg.SOLVER.MAX_ITER * p for p in (0.05, 0.25, 0.375, 0.5, 0.75, 0.9)]\n",
    "for aug in ['RANDOM_LIGHTING', 'RANDOM_BRIGHTNESS', 'RANDOM_SATURATION', 'RANDOM_CONTRAST', 'CROP']:\n",
    "    if cfg.get(aug, None) is not None:\n",
    "        cfg.INPUT[aug].ENABLED = True\n",
    "\n",
    "cfg.MODEL.ROI_HEADS.NUM_CLASSES = len(c)\n",
    "        \n",
    "\n",
    "cfg.OUTPUT_DIR = out_dir\n",
    "cfg.DATASETS.TRAIN = ('dataset_train', )\n",
    "cfg.DATASETS.TEST = ('dataset_validation', )\n",
    "\n",
    "# Adjust to hardware\n",
    "cfg.SOLVER.IMS_PER_BATCH = 8 \n",
    "cfg.SOLVER.IMS_PER_BATCH_EVAL = 12\n",
    "cfg.DATALOADER.NUM_WORKERS = 10\n",
    "\n",
    "cfg.TEST.EVAL_PERIOD = 250"
   ]
  },
  {
   "cell_type": "code",
   "execution_count": null,
   "id": "d67f9048",
   "metadata": {},
   "outputs": [],
   "source": [
    "cfg.SOLVER.EARLY_STOPPING.ENABLED = False"
   ]
  },
  {
   "cell_type": "code",
   "execution_count": null,
   "id": "b76aafe6",
   "metadata": {},
   "outputs": [],
   "source": [
    "out_dir = pathlib.Path(out_dir)\n",
    "out_dir.mkdir(parents=True, exist_ok=True)\n",
    "with (out_dir / 'used_config.yaml').open('w') as stream:\n",
    "    stream.write(cfg.dump())"
   ]
  },
  {
   "cell_type": "code",
   "execution_count": null,
   "id": "c81b6a00",
   "metadata": {},
   "outputs": [],
   "source": [
    "from sap_computer_vision.engine import ObjectDetectionTrainer"
   ]
  },
  {
   "cell_type": "code",
   "execution_count": null,
   "id": "29a7431f",
   "metadata": {},
   "outputs": [],
   "source": [
    "trainer = ObjectDetectionTrainer(cfg)\n",
    "trainer.resume_or_load(resume=False)"
   ]
  },
  {
   "cell_type": "code",
   "execution_count": null,
   "id": "74f04904",
   "metadata": {},
   "outputs": [],
   "source": [
    "trainer.train()"
   ]
  },
  {
   "cell_type": "code",
   "execution_count": null,
   "id": "41c7a7ef",
   "metadata": {},
   "outputs": [],
   "source": [
    "cfg.DATASETS.TEST = ('dataset_test', )\n",
    "metrics = trainer.test(cfg, trainer.model)"
   ]
  },
  {
   "cell_type": "code",
   "execution_count": null,
   "id": "bb6dfab0",
   "metadata": {},
   "outputs": [],
   "source": [
    "from detectron2.data import MetadataCatalog\n",
    "\n",
    "dl = trainer.build_test_loader(cfg, cfg.DATASETS.TEST)\n",
    "metadata = MetadataCatalog.get(cfg.DATASETS.TEST[0])"
   ]
  },
  {
   "cell_type": "code",
   "execution_count": null,
   "id": "979b8e66",
   "metadata": {},
   "outputs": [],
   "source": [
    "import torch\n",
    "\n",
    "from detectron2.structures.instances import Instances\n",
    "from detectron2.structures.boxes import pairwise_iou\n",
    "\n",
    "def apply_score_and_iou_cut(inst, max_iou=0.4, score_threshold=0.8):\n",
    "    if score_threshold is not None:\n",
    "        mask = inst.scores > score_threshold\n",
    "        new_fields = {}\n",
    "        for f in inst.get_fields():\n",
    "            new_fields[f] = inst.get(f)[mask]\n",
    "        inst = Instances(inst.image_size, **new_fields)\n",
    "    if max_iou is not None:\n",
    "        iou = pairwise_iou(inst.pred_boxes, inst.pred_boxes)\n",
    "        mask_iou = torch.triu(iou > 0.4, diagonal=1)\n",
    "        mask = torch.sum(mask_iou, axis=0) == 0 \n",
    "        new_fields = {}\n",
    "        for f in inst.get_fields():\n",
    "            new_fields[f] = inst.get(f)[mask]\n",
    "        inst = Instances(new_inst.image_size, **new_fields)\n",
    "    return inst\n",
    "\n",
    "\n",
    "results = []\n",
    "for batch in dl:\n",
    "    trainer.model.eval()\n",
    "    with torch.no_grad():\n",
    "        results_batch = trainer.model(batch)\n",
    "        for i, result_i in enumerate(results_batch):\n",
    "            input_i = batch[i]\n",
    "            del input_i['image']\n",
    "            instances = result_i['instances']\n",
    "            result_i['instances'] = apply_score_and_iou_cut(instances.to(\"cpu\"))\n",
    "            results_batch[i] = {**result_i, **input_i}\n",
    "        results.extend(results_batch)"
   ]
  },
  {
   "cell_type": "code",
   "execution_count": null,
   "id": "24122652",
   "metadata": {},
   "outputs": [],
   "source": [
    "from detectron2.data.detection_utils import read_image\n",
    "from detectron2.utils.visualizer import Visualizer\n",
    "\n",
    "resuld_idx = np.random.choice([*range(len(results))])\n",
    "vis = Visualizer(img_rgb=read_image(results[resuld_idx]['file_name']), metadata=metadata)\n",
    "vis.draw_instance_predictions(results[resuld_idx]['instances']).fig"
   ]
  },
  {
   "cell_type": "code",
   "execution_count": null,
   "id": "2b4187c7",
   "metadata": {},
   "outputs": [],
   "source": [
    "import detectron2"
   ]
  },
  {
   "cell_type": "code",
   "execution_count": null,
   "id": "aa35cde2",
   "metadata": {},
   "outputs": [],
   "source": [
    "detectron2.__file__"
   ]
  },
  {
   "cell_type": "code",
   "execution_count": null,
   "id": "81c1b2a2",
   "metadata": {},
   "outputs": [],
   "source": []
  }
 ],
 "metadata": {
  "kernelspec": {
   "display_name": "Python 3 (ipykernel)",
   "language": "python",
   "name": "python3"
  },
  "language_info": {
   "codemirror_mode": {
    "name": "ipython",
    "version": 3
   },
   "file_extension": ".py",
   "mimetype": "text/x-python",
   "name": "python",
   "nbconvert_exporter": "python",
   "pygments_lexer": "ipython3",
   "version": "3.8.13"
  }
 },
 "nbformat": 4,
 "nbformat_minor": 5
}
