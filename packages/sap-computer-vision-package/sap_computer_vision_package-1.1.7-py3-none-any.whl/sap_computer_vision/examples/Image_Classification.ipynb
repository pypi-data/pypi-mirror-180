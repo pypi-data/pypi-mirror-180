{
 "cells": [
  {
   "cell_type": "code",
   "execution_count": null,
   "id": "a7494b7a",
   "metadata": {},
   "outputs": [],
   "source": [
    "! [ -d \"PetImages\" ] && echo \"skipping\" || (wget -nc --no-check-certificate https://download.microsoft.com/download/3/E/1/3E1C3F21-ECDB-4869-8368-6DEBA77B919F/kagglecatsanddogs_3367a.zip && unzip kagglecatsanddogs_3367a.zip \"PetImages/*\" -d . && rm kagglecatsanddogs_3367a.zip)\n",
    "!rm -f \"PetImages/Dog/11702.jpg\" # Remove broken image\n",
    "!rm -f \"PetImages/Cat/666.jpg\" # Remove broken image"
   ]
  },
  {
   "cell_type": "code",
   "execution_count": null,
   "id": "587cd7f8",
   "metadata": {},
   "outputs": [],
   "source": [
    "import os\n",
    "import shutil\n",
    "\n",
    "os.environ[\"CUDA_DEVICE_ORDER\"]=\"PCI_BUS_ID\"\n",
    "os.environ[\"CUDA_VISIBLE_DEVICES\"]=\"0\""
   ]
  },
  {
   "cell_type": "code",
   "execution_count": null,
   "id": "d71f8b1e",
   "metadata": {},
   "outputs": [],
   "source": [
    "from sap_computer_vision.datasets import image_folder as imgf\n",
    "import pathlib, json\n",
    "\n",
    "\n",
    "dataset_folder = pathlib.Path('PetImages/')\n",
    "datasets, class_names = imgf.split_and_register('dogs_vs_cats',\n",
    "                                                base_dir=dataset_folder,\n",
    "                                                splits={'test': 0.1, 'validation': 0.1, 'train': 0.8})"
   ]
  },
  {
   "cell_type": "code",
   "execution_count": null,
   "id": "f7782a3a",
   "metadata": {},
   "outputs": [],
   "source": [
    "from sap_computer_vision import setup_loggers, get_cfg, get_config_file\n",
    "import numpy as np\n",
    "\n",
    "out_dir = 'image_classification_model'\n",
    "if pathlib.Path(out_dir).exists():\n",
    "    raise RuntimeError('Result folder already exists. Please delete the folder or change the name of the output')\n",
    "\n",
    "setup_loggers(out_dir)\n",
    "\n",
    "cfg = get_cfg()\n",
    "cfg.merge_from_file(get_config_file('Base-EarlyStopping'))\n",
    "cfg.merge_from_file(get_config_file('Base-Evaluation'))\n",
    "cfg.merge_from_file(get_config_file('ImageClassifier/Resnet50'))\n",
    "\n",
    "cfg.OUTPUT_DIR = out_dir\n",
    "cfg.DATASETS.TRAIN = ('dogs_vs_cats_train', )\n",
    "cfg.DATASETS.TEST = ('dogs_vs_cats_validation', )\n",
    "\n",
    "cfg.SOLVER.MAX_ITER = 2000\n",
    "cfg.SOLVER.BASE_LR = 0.001\n",
    "\n",
    "cfg.SOLVER.GAMMA = float(np.sqrt(0.1))\n",
    "cfg.SOLVER.EARLY_STOPPING.ENABLED = False\n",
    "\n",
    "cfg.SOLVER.WARMUP_ITERS = max(int(0.01 * cfg.SOLVER.MAX_ITER), 50)\n",
    "cfg.SOLVER.STEPS = [cfg.SOLVER.MAX_ITER * p for p in (0.05, 0.25, 0.375, 0.5, 0.75, 0.9)]\n",
    "for aug in ['RANDOM_LIGHTING', 'RANDOM_BRIGHTNESS', 'RANDOM_SATURATION', 'RANDOM_CONTRAST', 'CROP']:\n",
    "    if cfg.get(aug, None) is not None:\n",
    "        cfg.INPUT[aug].ENABLED = True\n",
    "\n",
    "cfg.SOLVER.IMS_PER_BATCH = 64\n",
    "cfg.SOLVER.IMS_PER_BATCH_EVAL = 64\n",
    "\n",
    "cfg.MODEL.IMAGE_CLASSIFIER.NUM_CLASSES = len(class_names)\n",
    "\n",
    "cfg.TEST.EVAL_PERIOD = int(cfg.SOLVER.MAX_ITER * 0.25)"
   ]
  },
  {
   "cell_type": "code",
   "execution_count": null,
   "id": "b81133b2",
   "metadata": {},
   "outputs": [],
   "source": [
    "from sap_computer_vision.engine import ImageClassificationTrainer"
   ]
  },
  {
   "cell_type": "code",
   "execution_count": null,
   "id": "1cd1c7c0",
   "metadata": {
    "scrolled": true
   },
   "outputs": [],
   "source": [
    "trainer = ImageClassificationTrainer(cfg)\n",
    "trainer.resume_or_load(resume=False)"
   ]
  },
  {
   "cell_type": "code",
   "execution_count": null,
   "id": "003d1cb7",
   "metadata": {},
   "outputs": [],
   "source": [
    "trainer.train()"
   ]
  },
  {
   "cell_type": "code",
   "execution_count": null,
   "id": "bd9db694",
   "metadata": {},
   "outputs": [],
   "source": [
    "cfg.DATASETS.TEST = ('dogs_vs_cats_test', )\n",
    "metrics = trainer.test(cfg, trainer.model)\n",
    "print(json.dumps(metrics, ident=2))"
   ]
  }
 ],
 "metadata": {
  "kernelspec": {
   "display_name": "Python 3 (ipykernel)",
   "language": "python",
   "name": "python3"
  },
  "language_info": {
   "codemirror_mode": {
    "name": "ipython",
    "version": 3
   },
   "file_extension": ".py",
   "mimetype": "text/x-python",
   "name": "python",
   "nbconvert_exporter": "python",
   "pygments_lexer": "ipython3",
   "version": "3.9.7"
  }
 },
 "nbformat": 4,
 "nbformat_minor": 5
}
