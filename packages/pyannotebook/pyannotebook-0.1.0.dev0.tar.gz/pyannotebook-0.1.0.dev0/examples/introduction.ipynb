{
 "cells": [
  {
   "cell_type": "markdown",
   "id": "7d654a9e",
   "metadata": {},
   "source": [
    "# 🎹 pyannote + 🗒 notebook = pyannote**book**\n",
    "\n",
    "pyannote**book** is a custom [Jupyter widget](https://ipywidgets.readthedocs.io/en/stable/) built on top of [pyannote.core](http://pyannote.github.io/pyannote-core/) and [wavesurfer.js](https://wavesurfer-js.org/).\n",
    "\n",
    "It can be used to visualize and edit temporal audio labels. "
   ]
  },
  {
   "cell_type": "code",
   "execution_count": null,
   "id": "b30d1eb1",
   "metadata": {},
   "outputs": [
    {
     "data": {
      "application/vnd.jupyter.widget-view+json": {
       "model_id": "52a30d6f10ec44d5aa74c5a641b6a510",
       "version_major": 2,
       "version_minor": 0
      },
      "text/plain": [
       "Pyannotebook(children=(WavesurferWidget(active_label='a', audio='data:audio/x-wav;base64,UklGRjJMHQBXQVZFZm10I…"
      ]
     },
     "execution_count": null,
     "metadata": {},
     "output_type": "execute_result"
    }
   ],
   "source": [
    "from pyannotebook import Pyannotebook\n",
    "widget = Pyannotebook(\"sample.wav\")\n",
    "widget"
   ]
  },
  {
   "cell_type": "markdown",
   "id": "3518c53d",
   "metadata": {},
   "source": [
    "## Keyboard shortcut\n",
    "\n",
    "Keyboard shortcuts will only work when widget is active so make sure to move your mouse hover to use them.\n",
    "\n",
    "Key                                           | Description\n",
    ":---------------------------------------------|:------------------------------------------------\n",
    "`SPACE`                                       | Toggle play/pause\n",
    "`ENTER`                                       | Create region at current time\n",
    "`A`, `B`, `C`, ..., or `Z`                    | Update label of selected region\n",
    "`LEFT` or `RIGHT`                             | 1. Edit start time of selected region (if any)<br/>2. Move time cursor (when paused)\n",
    "`SHIFT`+`LEFT` or `SHIFT`+`RIGHT`             | Same, but faster.\n",
    "`ALT`+`LEFT` or `ALT`+`RIGHT`                 | Edit end time of selected segment\n",
    "`SHIFT`+`ALT`+`LEFT` or `SHIFT`+`ALT`+`RIGHT` | Same, but faster.\n",
    "`TAB`                                         | Select next segment\n",
    "`SHIFT`+`TAB`                                 | Select previous segment\n",
    "`BACKSPACE`                                   | Delete selected region and select previous one\n",
    "`DELETE` or `SHIFT`+`BACKSPACE`               | Delete selected region and select next one\n",
    "`ESC`                                         | Unselect segment\n",
    "`UP` or `DOWN`                                | Zoom in/out (work in progress)"
   ]
  },
  {
   "cell_type": "markdown",
   "id": "61b8301e",
   "metadata": {},
   "source": [
    "## Reading manual annotations\n",
    "\n",
    "Reading the `annotation` property returns a [`pyannote.core.Annotation`](http://pyannote.github.io/pyannote-core/structure.html#annotation) instance."
   ]
  },
  {
   "cell_type": "code",
   "execution_count": null,
   "id": "996e1865",
   "metadata": {},
   "outputs": [],
   "source": [
    "# check that it does indeed return an `Annotation` instance\n",
    "import pyannote.core\n",
    "assert isinstance(widget.annotation, pyannote.core.Annotation)\n",
    "\n",
    "# iterate over regions and their respective labels\n",
    "for segment, _, label in widget.annotation.itertracks(yield_label=True):\n",
    "    # segment.start\n",
    "    # segment.end\n",
    "    # label\n",
    "    pass"
   ]
  },
  {
   "cell_type": "markdown",
   "id": "1471d1b7",
   "metadata": {},
   "source": [
    "## Loading existing `pyannote.core` annotations\n",
    "\n",
    "Setting the `annotation` property creates the correspond regions in the widget."
   ]
  },
  {
   "cell_type": "code",
   "execution_count": null,
   "id": "bda51454",
   "metadata": {},
   "outputs": [],
   "source": [
    "# load existing annotation from an RTTM file...\n",
    "from pyannotebook import load_rttm\n",
    "annotation = load_rttm(\"sample.rttm\")[\"sample\"]\n",
    "\n",
    "# ... and assign them to the `annotation` property\n",
    "widget.annotation = annotation"
   ]
  }
 ],
 "metadata": {
  "kernelspec": {
   "display_name": "Python 3 (ipykernel)",
   "language": "python",
   "name": "python3"
  }
 },
 "nbformat": 4,
 "nbformat_minor": 5
}
