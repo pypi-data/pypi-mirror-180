{
 "cells": [
  {
   "cell_type": "markdown",
   "metadata": {},
   "source": [
    "# Using mcmcsampler: a demo"
   ]
  },
  {
   "cell_type": "code",
   "execution_count": 1,
   "metadata": {},
   "outputs": [],
   "source": [
    "import numpy as np\n",
    "import matplotlib.pyplot as plt\n",
    "import pickle\n",
    "import m2c3.proposal as proposal\n",
    "from m2c3.sampler import Sampler\n",
    "\n",
    "import multiprocessing as mp\n",
    "mp.set_start_method('fork') #needed for MacOS\n",
    "import warnings\n",
    "warnings.filterwarnings('ignore')"
   ]
  },
  {
   "cell_type": "markdown",
   "metadata": {},
   "source": [
    "## Define a log-likelihood function\n",
    "\n",
    "Here we take a simple multi dimensional Gaussian. \n",
    "We use a ```class``` to easily store all the meta data needed to evaluate the log-likelihood"
   ]
  },
  {
   "cell_type": "code",
   "execution_count": 2,
   "metadata": {},
   "outputs": [],
   "source": [
    "class TestLogLik:\n",
    "    \"\"\" A multi dimensional Gaussian\n",
    "    \"\"\"\n",
    "    def __init__(self, ndim):\n",
    "        \"\"\" Init number of dimensions. \n",
    "        \"\"\"\n",
    "        self.ndim = ndim\n",
    "        self.param_dic = [f\"p{i}\" for i in range(ndim)]\n",
    "        means = np.random.rand(ndim)\n",
    "        cov = 0.5 - np.random.rand(ndim ** 2).reshape((ndim, ndim))\n",
    "        cov = np.triu(cov)\n",
    "        cov += cov.T - np.diag(cov.diagonal())\n",
    "        cov = np.dot(cov, cov)\n",
    "        self.mu = means\n",
    "        self.cov = cov\n",
    "        \n",
    "    def loglik(self, x, **kwargs):\n",
    "        \"\"\" Return log-likelihood for a given point x. \n",
    "        \"\"\"\n",
    "        diff = x - self.mu\n",
    "        return -0.5 * np.dot(diff, np.linalg.solve(self.cov, diff))\n",
    "    \n",
    "    def logpi(self, p, **kwargs):\n",
    "        \"\"\" Return log-prior for a given point x. \n",
    "        \"\"\"\n",
    "        return -7.0"
   ]
  },
  {
   "cell_type": "markdown",
   "metadata": {},
   "source": [
    "## Define the sampler"
   ]
  },
  {
   "cell_type": "code",
   "execution_count": 3,
   "metadata": {},
   "outputs": [],
   "source": [
    "# Multi chains parameters\n",
    "Nchains = 5\n",
    "\n",
    "# Define likelihood, priors and starting point\n",
    "ndim = 3\n",
    "T = TestLogLik(ndim)\n",
    "priors = np.array([-3,3]*T.ndim).reshape(T.ndim,2)\n",
    "x0 = [np.random.randn(T.ndim) for n in range(Nchains)]\n",
    "S = Sampler(Nchains, priors, T.loglik, T.logpi, T.param_dic, profiling=True, kde=True)\n",
    "S.set_starting_point(x0)"
   ]
  },
  {
   "cell_type": "markdown",
   "metadata": {},
   "source": [
    "## Define the proposals"
   ]
  },
  {
   "cell_type": "code",
   "execution_count": 4,
   "metadata": {},
   "outputs": [],
   "source": [
    "# Define proposals\n",
    "SL = proposal.Slice(T.param_dic).slice\n",
    "SC = proposal.SCAM(T.param_dic).SCAM\n",
    "#KDE = proposal.AdaptiveKDE(T.param_dic).kde_jump\n",
    "p_dict = [{SC:50, SL:50}]*Nchains\n",
    "S.set_proposals(p_dict)"
   ]
  },
  {
   "cell_type": "markdown",
   "metadata": {},
   "source": [
    "## Run the sampler"
   ]
  },
  {
   "cell_type": "code",
   "execution_count": 5,
   "metadata": {},
   "outputs": [
    {
     "name": "stdout",
     "output_type": "stream",
     "text": [
      "Automatic pdb calling has been turned ON\n",
      "INFO:root:iter 0\n",
      "INFO:root:chain 0\n",
      "INFO:root:current loglik: -68.2, best: -68.2, temp: 1.0, ratio: 1.0\n",
      "INFO:root:chain 1\n",
      "INFO:root:current loglik: -2593.6, best: -2593.6, temp: 1.0, ratio: 1.0\n",
      "INFO:root:chain 2\n",
      "INFO:root:current loglik: -677.5, best: -677.5, temp: 1.0, ratio: 1.0\n",
      "INFO:root:chain 3\n",
      "INFO:root:current loglik: -291.7, best: -291.7, temp: 1.0, ratio: 1.0\n",
      "INFO:root:chain 4\n",
      "INFO:root:current loglik: -3606.3, best: -3606.3, temp: 1.0, ratio: 1.0\n",
      "INFO:root:iter 2000\n",
      "INFO:root:chain 0\n",
      "INFO:root:current loglik: -2.6, best: -0.0, temp: 1.0, ratio: 1.0\n",
      "INFO:root:chain 1\n",
      "INFO:root:current loglik: -0.8, best: -0.0, temp: 1.0, ratio: 1.0\n",
      "INFO:root:chain 2\n",
      "INFO:root:current loglik: -0.9, best: -0.0, temp: 1.0, ratio: 1.0\n",
      "INFO:root:chain 3\n",
      "INFO:root:current loglik: -7.2, best: -0.0, temp: 1.0, ratio: 1.0\n",
      "INFO:root:chain 4\n",
      "INFO:root:current loglik: -2.4, best: -0.0, temp: 1.0, ratio: 1.0\n",
      "INFO:root:iter 4000\n",
      "INFO:root:chain 0\n",
      "INFO:root:current loglik: -0.2, best: -0.0, temp: 1.0, ratio: 1.0\n",
      "INFO:root:chain 1\n",
      "INFO:root:current loglik: -3.2, best: -0.0, temp: 1.0, ratio: 1.0\n",
      "INFO:root:chain 2\n",
      "INFO:root:current loglik: -10.6, best: -0.0, temp: 1.0, ratio: 1.0\n",
      "INFO:root:chain 3\n",
      "INFO:root:current loglik: -3.5, best: -0.0, temp: 1.0, ratio: 1.0\n",
      "INFO:root:chain 4\n",
      "INFO:root:current loglik: -2.7, best: -0.0, temp: 1.0, ratio: 1.0\n"
     ]
    }
   ],
   "source": [
    "# Run mcmc\n",
    "%pdb\n",
    "niter = 5000\n",
    "c = S.run_mcmc(niter, printN=2000, multiproc=False)"
   ]
  },
  {
   "cell_type": "markdown",
   "metadata": {},
   "source": [
    "## Show posterior for 1st parameter"
   ]
  },
  {
   "cell_type": "code",
   "execution_count": 6,
   "metadata": {},
   "outputs": [
    {
     "data": {
      "text/plain": [
       "<matplotlib.legend.Legend at 0x7f2498e04040>"
      ]
     },
     "execution_count": 6,
     "metadata": {},
     "output_type": "execute_result"
    },
    {
     "data": {
      "image/png": "[encoded data removed]",
      "text/plain": [
       "<Figure size 432x288 with 1 Axes>"
      ]
     },
     "metadata": {
      "needs_background": "light"
     },
     "output_type": "display_data"
    }
   ],
   "source": [
    "# Plot distribution of first parameter\n",
    "C0 = np.array(S.chains[0].chn)\n",
    "plt.figure()\n",
    "plt.hist(C0[:,0],  bins=100, color=\"k\", histtype=\"step\")\n",
    "plt.axvline(x=T.mu[0], label='True')\n",
    "plt.legend()"
   ]
  },
  {
   "cell_type": "markdown",
   "metadata": {},
   "source": [
    "## Show likelihood evolution"
   ]
  },
  {
   "cell_type": "code",
   "execution_count": 7,
   "metadata": {},
   "outputs": [
    {
     "data": {
      "text/plain": [
       "[<matplotlib.lines.Line2D at 0x7f2498d56910>]"
      ]
     },
     "execution_count": 7,
     "metadata": {},
     "output_type": "execute_result"
    },
    {
     "data": {
      "image/png": "[encoded data removed]",
      "text/plain": [
       "<Figure size 432x288 with 1 Axes>"
      ]
     },
     "metadata": {
      "needs_background": "light"
     },
     "output_type": "display_data"
    }
   ],
   "source": [
    "L = np.load(\"chain_0.npy\")[:,-1]\n",
    "plt.figure()\n",
    "plt.plot(L)"
   ]
  },
  {
   "cell_type": "markdown",
   "metadata": {},
   "source": [
    "## Show statistics"
   ]
  },
  {
   "cell_type": "code",
   "execution_count": 8,
   "metadata": {},
   "outputs": [],
   "source": [
    "prop_names = [k.__self__.name for k,v in p_dict[0].items()]\n",
    "jumps_t = np.rec.fromarrays( [np.zeros((Nchains))]*len(prop_names), names=prop_names)\n",
    "ar_t = np.rec.fromarrays( [np.zeros((Nchains))]*len(prop_names), names=prop_names)\n",
    "nswap = np.zeros((Nchains, 2))\n",
    "for i in range(Nchains):\n",
    "    s = pickle.load(open(f\"stats_{i}.pkl\", 'rb'))\n",
    "    for n in prop_names:\n",
    "        jumps_t[n][i] = s[n]['njump'] \n",
    "        ar_t[n][i] = s[n]['ar'] "
   ]
  },
  {
   "cell_type": "markdown",
   "metadata": {},
   "source": [
    "### Acceptance rate for each proposals"
   ]
  },
  {
   "cell_type": "code",
   "execution_count": 9,
   "metadata": {},
   "outputs": [
    {
     "data": {
      "text/plain": [
       "Text(0, 0.5, 'Number of MH steps')"
      ]
     },
     "execution_count": 9,
     "metadata": {},
     "output_type": "execute_result"
    },
    {
     "data": {
      "image/png": "[encoded data removed]",
      "text/plain": [
       "<Figure size 720x360 with 2 Axes>"
      ]
     },
     "metadata": {
      "needs_background": "light"
     },
     "output_type": "display_data"
    }
   ],
   "source": [
    "plt.figure(figsize=(10,5))\n",
    "plt.subplot(121)\n",
    "y_offset = np.zeros((Nchains))\n",
    "for n in prop_names:\n",
    "    plt.bar(np.arange(0, Nchains), height=ar_t[n]/jumps_t[n], bottom=y_offset, label=n)\n",
    "    y_offset += ar_t[n]/jumps_t[n]\n",
    "plt.legend()\n",
    "plt.ylabel(\"# accepted / # jumps\")\n",
    "\n",
    "plt.subplot(122)\n",
    "y_offset = np.zeros((Nchains))\n",
    "for n in prop_names:\n",
    "    plt.bar(np.arange(0, Nchains), height=ar_t[n], bottom=y_offset, label=n)\n",
    "    y_offset += ar_t[n]\n",
    "plt.legend()\n",
    "plt.ylabel(\"Number of MH steps\")"
   ]
  }
 ],
 "metadata": {
  "kernelspec": {
   "display_name": "pv39",
   "language": "python",
   "name": "venv"
  },
  "language_info": {
   "codemirror_mode": {
    "name": "ipython",
    "version": 3
   },
   "file_extension": ".py",
   "mimetype": "text/x-python",
   "name": "python",
   "nbconvert_exporter": "python",
   "pygments_lexer": "ipython3",
   "version": "3.9.1"
  }
 },
 "nbformat": 4,
 "nbformat_minor": 4
}
