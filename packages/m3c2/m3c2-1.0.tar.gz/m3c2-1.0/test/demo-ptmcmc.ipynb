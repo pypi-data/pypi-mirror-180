{
 "cells": [
  {
   "cell_type": "markdown",
   "metadata": {},
   "source": [
    "# Using PT mcmcsampler: a demo"
   ]
  },
  {
   "cell_type": "code",
   "execution_count": 1,
   "metadata": {},
   "outputs": [],
   "source": [
    "import numpy as np\n",
    "import matplotlib.pyplot as plt\n",
    "import pickle\n",
    "import m3c2.proposal as proposal\n",
    "from m3c2.sampler import PTSampler\n",
    "\n",
    "import multiprocessing as mp\n",
    "mp.set_start_method('fork') #needed for MacOS"
   ]
  },
  {
   "cell_type": "markdown",
   "metadata": {},
   "source": [
    "## Define a log-likelihood function\n",
    "\n",
    "Here we take a simple multi dimensional Gaussian. \n",
    "We use a ```class``` to easily store all the meta data needed to evaluate the log-likelihood"
   ]
  },
  {
   "cell_type": "code",
   "execution_count": 2,
   "metadata": {},
   "outputs": [],
   "source": [
    "class TestLogLik:\n",
    "    \"\"\" A multi dimensional Gaussian\n",
    "    \"\"\"\n",
    "    def __init__(self, ndim):\n",
    "        \"\"\" Init number of dimensions. \n",
    "        \"\"\"\n",
    "        self.ndim = ndim\n",
    "        self.param_dic = [f\"p{i}\" for i in range(ndim)]\n",
    "        means = np.random.rand(ndim)\n",
    "        cov = 0.5 - np.random.rand(ndim ** 2).reshape((ndim, ndim))\n",
    "        cov = np.triu(cov)\n",
    "        cov += cov.T - np.diag(cov.diagonal())\n",
    "        cov = np.dot(cov, cov)\n",
    "        self.mu = means\n",
    "        self.cov = cov\n",
    "        \n",
    "    def loglik(self, x, **kwargs):\n",
    "        \"\"\" Return log-likelihood for a given point x. \n",
    "        \"\"\"\n",
    "        diff = x - self.mu\n",
    "        return -0.5 * np.dot(diff, np.linalg.solve(self.cov, diff))\n",
    "    \n",
    "    def logpi(self, p, **kwargs):\n",
    "        \"\"\" Return log-prior for a given point x. \n",
    "        \"\"\"\n",
    "        return -7.0"
   ]
  },
  {
   "cell_type": "markdown",
   "metadata": {},
   "source": [
    "## Define the sampler"
   ]
  },
  {
   "cell_type": "code",
   "execution_count": 3,
   "metadata": {},
   "outputs": [
    {
     "name": "stdout",
     "output_type": "stream",
     "text": [
      "INFO:root:Tmax=10, range of temperature: [ 1.          1.77827941  3.16227766  5.62341325 10.        ]\n"
     ]
    }
   ],
   "source": [
    "# Parallel tempering parameters\n",
    "Tmax = 10\n",
    "Nchains = 5\n",
    "\n",
    "# Define likelihood, priors and starting point\n",
    "ndim = 3\n",
    "T = TestLogLik(ndim)\n",
    "priors = np.array([-3,3]*T.ndim).reshape(T.ndim,2)\n",
    "x0 = [np.random.randn(T.ndim) for n in range(Nchains)]\n",
    "\n",
    "S = PTSampler(Nchains, priors, T.loglik, T.logpi, T.param_dic, Tmax=Tmax, profiling=True)\n",
    "S.set_starting_point(x0)"
   ]
  },
  {
   "cell_type": "markdown",
   "metadata": {},
   "source": [
    "## Define the proposals"
   ]
  },
  {
   "cell_type": "code",
   "execution_count": 4,
   "metadata": {},
   "outputs": [],
   "source": [
    "# Define proposals\n",
    "SL = proposal.Slice(T.param_dic).slice\n",
    "SC = proposal.SCAM(T.param_dic).SCAM\n",
    "p_dict = [{SL:40, SC:70}]*Nchains\n",
    "S.set_proposals(p_dict)"
   ]
  },
  {
   "cell_type": "markdown",
   "metadata": {},
   "source": [
    "## Run the sampler"
   ]
  },
  {
   "cell_type": "code",
   "execution_count": 5,
   "metadata": {},
   "outputs": [
    {
     "name": "stdout",
     "output_type": "stream",
     "text": [
      "INFO:root:iter 0 chain 0\n",
      "INFO:root:current loglik: -3.0, best: -3.0, temp: 1.0, ratio: 1.0\n",
      "INFO:root:iter 0 chain 1\n",
      "INFO:root:current loglik: -4.8, best: -4.8, temp: 1.8, ratio: 1.0\n",
      "INFO:root:iter 0 chain 2\n",
      "INFO:root:current loglik: -10.5, best: -10.5, temp: 3.2, ratio: 1.0\n",
      "INFO:root:iter 0 chain 4\n",
      "INFO:root:current loglik: -5.0, best: -5.0, temp: 10.0, ratio: 1.0\n",
      "INFO:root:iter 0 chain 3\n",
      "INFO:root:current loglik: -14.9, best: -14.9, temp: 5.6, ratio: 1.0\n",
      "INFO:root:iter 50 chain 0\n",
      "INFO:root:current loglik: -4.4, best: -3.0, temp: 1.0, ratio: 1.0\n",
      "INFO:root:iter 50 chain 2\n",
      "INFO:root:current loglik: -7.5, best: -5.3, temp: 3.2, ratio: 1.0\n",
      "INFO:root:iter 50 chain 3\n",
      "INFO:root:current loglik: -5.5, best: -1.5, temp: 5.6, ratio: 1.0\n",
      "INFO:root:iter 50 chain 1\n",
      "INFO:root:current loglik: -12.4, best: -4.6, temp: 1.8, ratio: 1.0\n",
      "INFO:root:iter 50 chain 4\n",
      "INFO:root:current loglik: -8.4, best: -4.3, temp: 10.0, ratio: 1.0\n",
      "INFO:root:iter 100 chain 0\n",
      "INFO:root:current loglik: -1.5, best: -0.3, temp: 1.0, ratio: 1.0\n",
      "INFO:root:iter 100 chain 2\n",
      "INFO:root:current loglik: -3.8, best: -1.6, temp: 3.2, ratio: 1.0\n",
      "INFO:root:iter 100 chain 3\n",
      "INFO:root:current loglik: -11.0, best: -1.5, temp: 5.6, ratio: 1.0\n",
      "INFO:root:iter 100 chain 1\n",
      "INFO:root:current loglik: -12.4, best: -4.6, temp: 1.8, ratio: 1.0\n",
      "INFO:root:iter 100 chain 4\n",
      "INFO:root:current loglik: -10.9, best: -2.2, temp: 10.0, ratio: 1.0\n",
      "INFO:root:iter 150 chain 0\n",
      "INFO:root:current loglik: -3.3, best: -0.3, temp: 1.0, ratio: 0.22\n",
      "INFO:root:iter 150 chain 1\n",
      "INFO:root:current loglik: -12.1, best: -0.8, temp: 1.8, ratio: 0.7346938775510204\n",
      "INFO:root:iter 150 chain 2\n",
      "INFO:root:current loglik: -13.7, best: -0.7, temp: 3.1, ratio: 0.7755102040816326\n",
      "INFO:root:iter 150 chain 3\n",
      "INFO:root:current loglik: -34.3, best: -0.7, temp: 5.5, ratio: 0.8979591836734694\n",
      "INFO:root:iter 150 chain 4\n",
      "INFO:root:current loglik: -34.3, best: -2.2, temp: 10.0, ratio: 1.0\n",
      "INFO:root:iter 200 chain 0\n",
      "INFO:root:current loglik: -4.5, best: -0.3, temp: 1.0, ratio: 0.20408163265306123\n",
      "INFO:root:iter 200 chain 1\n",
      "INFO:root:current loglik: -1.1, best: -0.8, temp: 1.8, ratio: 0.4895833333333333\n",
      "INFO:root:iter 200 chain 2\n",
      "INFO:root:current loglik: -35.6, best: -0.7, temp: 3.1, ratio: 0.6122448979591837\n",
      "INFO:root:iter 200 chain 3\n",
      "INFO:root:current loglik: -35.8, best: -0.7, temp: 5.4, ratio: 0.8979591836734694\n",
      "INFO:root:iter 200 chain 4\n",
      "INFO:root:current loglik: -35.8, best: -2.2, temp: 10.0, ratio: 1.0\n",
      "INFO:root:iter 250 chain 0\n",
      "INFO:root:current loglik: -2.8, best: -0.3, temp: 1.0, ratio: 0.21232876712328766\n",
      "INFO:root:iter 250 chain 3\n",
      "INFO:root:current loglik: -26.6, best: -0.7, temp: 5.3, ratio: 0.9183673469387755\n",
      "INFO:root:iter 250 chain 2\n",
      "INFO:root:current loglik: -26.6, best: -0.7, temp: 3.0, ratio: 0.6827586206896552\n",
      "INFO:root:iter 250 chain 1\n",
      "INFO:root:current loglik: -11.3, best: -0.8, temp: 1.7, ratio: 0.3591549295774648\n",
      "INFO:root:iter 250 chain 4\n",
      "INFO:root:current loglik: -26.6, best: -2.2, temp: 10.0, ratio: 1.0\n",
      "INFO:root:iter 300 chain 0\n",
      "INFO:root:current loglik: -2.8, best: -0.3, temp: 1.0, ratio: 0.2538860103626943\n",
      "INFO:root:iter 300 chain 1\n",
      "INFO:root:current loglik: -0.8, best: -0.4, temp: 1.7, ratio: 0.30158730158730157\n",
      "INFO:root:iter 300 chain 3\n",
      "INFO:root:current loglik: -13.4, best: -0.7, temp: 5.2, ratio: 0.9175257731958762\n",
      "INFO:root:iter 300 chain 2\n",
      "INFO:root:current loglik: -9.8, best: -0.7, temp: 3.0, ratio: 0.7447916666666666\n",
      "INFO:root:iter 300 chain 4\n",
      "INFO:root:current loglik: -12.3, best: -2.2, temp: 10.0, ratio: 1.0\n",
      "INFO:root:iter 350 chain 0\n",
      "INFO:root:current loglik: -0.0, best: -0.1, temp: 1.0, ratio: 0.30962343096234307\n",
      "INFO:root:iter 350 chain 1\n",
      "INFO:root:current loglik: -0.1, best: -0.0, temp: 1.7, ratio: 0.3291139240506329\n",
      "INFO:root:iter 350 chain 3\n",
      "INFO:root:current loglik: -3.8, best: -0.1, temp: 5.1, ratio: 0.9218106995884774\n",
      "INFO:root:iter 350 chain 4\n",
      "INFO:root:current loglik: -3.8, best: -2.2, temp: 10.0, ratio: 1.0\n",
      "INFO:root:iter 350 chain 2\n",
      "INFO:root:current loglik: -3.8, best: -0.0, temp: 3.0, ratio: 0.7531380753138075\n",
      "INFO:root:iter 400 chain 0\n",
      "INFO:root:current loglik: -3.8, best: -0.1, temp: 1.0, ratio: 0.34494773519163763\n",
      "INFO:root:iter 400 chain 1\n",
      "INFO:root:current loglik: -6.6, best: -0.0, temp: 1.7, ratio: 0.3908450704225352\n",
      "INFO:root:iter 400 chain 2\n",
      "INFO:root:current loglik: -1.5, best: -0.0, temp: 3.0, ratio: 0.7604166666666666\n",
      "INFO:root:iter 400 chain 3\n",
      "INFO:root:current loglik: -16.7, best: -0.1, temp: 5.1, ratio: 0.9315068493150684\n",
      "INFO:root:iter 400 chain 4\n",
      "INFO:root:current loglik: -16.7, best: -2.2, temp: 10.0, ratio: 1.0\n",
      "INFO:root:iter 450 chain 0\n",
      "INFO:root:current loglik: -5.7, best: -0.1, temp: 1.0, ratio: 0.36607142857142855\n",
      "INFO:root:iter 450 chain 1\n",
      "INFO:root:current loglik: -11.5, best: -0.0, temp: 1.7, ratio: 0.3652694610778443\n",
      "INFO:root:iter 450 chain 3\n",
      "INFO:root:current loglik: -16.5, best: -0.1, temp: 5.0, ratio: 0.9319526627218935\n",
      "INFO:root:iter 450 chain 2\n",
      "INFO:root:current loglik: -16.4, best: -0.0, temp: 3.0, ratio: 0.7685459940652819\n",
      "INFO:root:iter 450 chain 4\n",
      "INFO:root:current loglik: -16.5, best: -2.2, temp: 10.0, ratio: 1.0\n",
      "INFO:root:iter 500 chain 0\n",
      "INFO:root:current loglik: -4.4, best: -0.1, temp: 1.0, ratio: 0.3619791666666667\n",
      "INFO:root:iter 500 chain 3\n",
      "INFO:root:current loglik: -15.3, best: -0.1, temp: 5.0, ratio: 0.9352331606217616\n",
      "INFO:root:iter 500 chain 2\n",
      "INFO:root:current loglik: -14.2, best: -0.0, temp: 2.9, ratio: 0.7849740932642487\n",
      "INFO:root:iter 500 chain 4\n",
      "INFO:root:current loglik: -15.3, best: -2.2, temp: 10.0, ratio: 1.0\n",
      "INFO:root:iter 500 chain 1\n",
      "INFO:root:current loglik: -15.2, best: -0.0, temp: 1.7, ratio: 0.41732283464566927\n",
      "INFO:root:iter 550 chain 0\n",
      "INFO:root:current loglik: -5.3, best: -0.1, temp: 1.0, ratio: 0.37122969837587005\n",
      "INFO:root:iter 550 chain 1\n",
      "INFO:root:current loglik: -8.8, best: -0.0, temp: 1.7, ratio: 0.4182242990654206\n",
      "INFO:root:iter 550 chain 2\n",
      "INFO:root:current loglik: -9.6, best: -0.0, temp: 2.9, ratio: 0.8068965517241379\n",
      "INFO:root:iter 550 chain 3\n",
      "INFO:root:current loglik: -12.4, best: -0.1, temp: 4.9, ratio: 0.9403669724770642\n",
      "INFO:root:iter 550 chain 4\n",
      "INFO:root:current loglik: -12.4, best: -2.2, temp: 10.0, ratio: 1.0\n",
      "INFO:root:iter 600 chain 0\n",
      "INFO:root:current loglik: -11.2, best: -0.1, temp: 1.0, ratio: 0.3416666666666667\n",
      "INFO:root:iter 600 chain 1\n",
      "INFO:root:current loglik: -18.0, best: -0.0, temp: 1.7, ratio: 0.4549266247379455\n",
      "INFO:root:iter 600 chain 2\n",
      "INFO:root:current loglik: -19.3, best: -0.0, temp: 2.9, ratio: 0.817047817047817\n",
      "INFO:root:iter 600 chain 3\n",
      "INFO:root:current loglik: -12.8, best: -0.1, temp: 4.8, ratio: 0.9402061855670103\n",
      "INFO:root:iter 600 chain 4\n",
      "INFO:root:current loglik: -12.8, best: -2.2, temp: 10.0, ratio: 1.0\n",
      "INFO:root:iter 650 chain 0\n",
      "INFO:root:current loglik: -5.0, best: -0.1, temp: 1.0, ratio: 0.3548387096774194\n",
      "INFO:root:iter 650 chain 1\n",
      "INFO:root:current loglik: -10.8, best: -0.0, temp: 1.7, ratio: 0.4446564885496183\n",
      "INFO:root:iter 650 chain 2\n",
      "INFO:root:current loglik: -23.9, best: -0.0, temp: 2.9, ratio: 0.8150943396226416\n",
      "INFO:root:iter 650 chain 3\n",
      "INFO:root:current loglik: -23.9, best: -0.1, temp: 4.8, ratio: 0.935969868173258\n",
      "INFO:root:iter 650 chain 4\n",
      "INFO:root:current loglik: -23.9, best: -2.2, temp: 10.0, ratio: 1.0\n",
      "INFO:root:iter 700 chain 0\n",
      "INFO:root:current loglik: -2.3, best: -0.1, temp: 1.0, ratio: 0.3697916666666667\n",
      "INFO:root:iter 700 chain 1\n",
      "INFO:root:current loglik: -0.8, best: -0.0, temp: 1.7, ratio: 0.4273204903677758\n",
      "INFO:root:iter 700 chain 2\n",
      "INFO:root:current loglik: -33.9, best: -0.0, temp: 2.9, ratio: 0.7802768166089965\n",
      "INFO:root:iter 700 chain 3\n",
      "INFO:root:current loglik: -33.7, best: -0.1, temp: 4.7, ratio: 0.9341421143847487\n",
      "INFO:root:iter 700 chain 4\n",
      "INFO:root:current loglik: -36.3, best: -2.2, temp: 10.0, ratio: 1.0\n",
      "INFO:root:iter 750 chain 0\n",
      "INFO:root:current loglik: -6.9, best: -0.1, temp: 1.0, ratio: 0.39903846153846156\n",
      "INFO:root:iter 750 chain 1\n",
      "INFO:root:current loglik: -10.6, best: -0.0, temp: 1.7, ratio: 0.4174757281553398\n",
      "INFO:root:iter 750 chain 2\n",
      "INFO:root:current loglik: -10.6, best: -0.0, temp: 2.9, ratio: 0.7939297124600639\n",
      "INFO:root:iter 750 chain 4\n",
      "INFO:root:current loglik: -10.6, best: -2.2, temp: 10.0, ratio: 1.0\n",
      "INFO:root:iter 750 chain 3\n",
      "INFO:root:current loglik: -10.6, best: -0.1, temp: 4.7, ratio: 0.9376\n"
     ]
    },
    {
     "name": "stdout",
     "output_type": "stream",
     "text": [
      "INFO:root:iter 800 chain 0\n",
      "INFO:root:current loglik: -5.8, best: -0.1, temp: 1.0, ratio: 0.41220238095238093\n",
      "INFO:root:iter 800 chain 1\n",
      "INFO:root:current loglik: -5.4, best: -0.0, temp: 1.7, ratio: 0.41654135338345866\n",
      "INFO:root:iter 800 chain 2\n",
      "INFO:root:current loglik: -20.5, best: -0.0, temp: 2.8, ratio: 0.7952522255192879\n",
      "INFO:root:iter 800 chain 3\n",
      "INFO:root:current loglik: -22.6, best: -0.1, temp: 4.7, ratio: 0.937592867756315\n",
      "INFO:root:iter 800 chain 4\n",
      "INFO:root:current loglik: -23.8, best: -2.2, temp: 10.0, ratio: 1.0\n",
      "INFO:root:iter 850 chain 0\n",
      "INFO:root:current loglik: -3.7, best: -0.1, temp: 1.0, ratio: 0.41307371349095967\n",
      "INFO:root:iter 850 chain 1\n",
      "INFO:root:current loglik: -3.3, best: -0.0, temp: 1.7, ratio: 0.3980309423347398\n",
      "INFO:root:iter 850 chain 2\n",
      "INFO:root:current loglik: -19.9, best: -0.0, temp: 2.8, ratio: 0.7994467496542186\n",
      "INFO:root:iter 850 chain 3\n",
      "INFO:root:current loglik: -19.7, best: -0.1, temp: 4.6, ratio: 0.9375\n",
      "INFO:root:iter 850 chain 4\n",
      "INFO:root:current loglik: -19.7, best: -2.2, temp: 10.0, ratio: 1.0\n",
      "INFO:root:iter 900 chain 0\n",
      "INFO:root:current loglik: -2.1, best: -0.1, temp: 1.0, ratio: 0.42483660130718953\n",
      "INFO:root:iter 900 chain 1\n",
      "INFO:root:current loglik: -1.1, best: -0.0, temp: 1.7, ratio: 0.40789473684210525\n",
      "INFO:root:iter 900 chain 2\n",
      "INFO:root:current loglik: -3.1, best: -0.0, temp: 2.8, ratio: 0.7859922178988327\n",
      "INFO:root:iter 900 chain 3\n",
      "INFO:root:current loglik: -3.2, best: -0.1, temp: 4.6, ratio: 0.9347258485639687\n",
      "INFO:root:iter 900 chain 4\n",
      "INFO:root:current loglik: -3.2, best: -1.9, temp: 10.0, ratio: 1.0\n",
      "INFO:root:iter 950 chain 0\n",
      "INFO:root:current loglik: -10.0, best: -0.1, temp: 1.0, ratio: 0.4233128834355828\n",
      "INFO:root:iter 950 chain 1\n",
      "INFO:root:current loglik: -20.3, best: -0.0, temp: 1.7, ratio: 0.4218362282878412\n",
      "INFO:root:iter 950 chain 2\n",
      "INFO:root:current loglik: -20.4, best: -0.0, temp: 2.8, ratio: 0.7914634146341464\n",
      "INFO:root:iter 950 chain 3\n",
      "INFO:root:current loglik: -6.9, best: -0.1, temp: 4.5, ratio: 0.9322660098522167\n",
      "INFO:root:iter 950 chain 4\n",
      "INFO:root:current loglik: -20.0, best: -1.9, temp: 10.0, ratio: 1.0\n",
      "INFO:root:Temperature ladder adjustment processus is done\n",
      "INFO:root:iter 999 chain 0\n",
      "INFO:root:current loglik: -1.1, best: -0.1, temp: 1.0, ratio: 0.4206257242178447\n",
      "INFO:root:iter 999 chain 1\n",
      "INFO:root:current loglik: -25.5, best: -0.0, temp: 1.7, ratio: 0.4216725559481743\n",
      "INFO:root:iter 999 chain 2\n",
      "INFO:root:current loglik: -27.3, best: -0.0, temp: 2.8, ratio: 0.7972350230414746\n",
      "INFO:root:iter 999 chain 3\n",
      "INFO:root:current loglik: -27.2, best: -0.1, temp: 4.5, ratio: 0.9312354312354313\n",
      "INFO:root:iter 999 chain 4\n",
      "INFO:root:current loglik: -27.2, best: -1.9, temp: 10.0, ratio: 1.0\n",
      "INFO:root:Done !\n"
     ]
    }
   ],
   "source": [
    "# Run mcmc\n",
    "niter = 1000\n",
    "c = S.run_mcmc(niter, pSwap=0.95, printN=50, multiproc=True, n0_swap=100)"
   ]
  },
  {
   "cell_type": "markdown",
   "metadata": {},
   "source": [
    "## Show posterior for 1st parameter"
   ]
  },
  {
   "cell_type": "code",
   "execution_count": 6,
   "metadata": {},
   "outputs": [
    {
     "data": {
      "text/plain": [
       "<matplotlib.legend.Legend at 0x7f713f749460>"
      ]
     },
     "execution_count": 6,
     "metadata": {},
     "output_type": "execute_result"
    },
    {
     "data": {
      "image/png": "[encoded data removed]",
      "text/plain": [
       "<Figure size 432x288 with 1 Axes>"
      ]
     },
     "metadata": {
      "needs_background": "light"
     },
     "output_type": "display_data"
    }
   ],
   "source": [
    "# Plot distribution of first parameter\n",
    "#C0 = np.array(S.chains[0].chn)\n",
    "C0 = np.load(\"chain_0.npy\")[:,:-1]\n",
    "plt.figure()\n",
    "plt.hist(C0[:,0],  bins=100, color=\"k\", histtype=\"step\")\n",
    "plt.axvline(x=T.mu[0], label='True')\n",
    "plt.legend()"
   ]
  },
  {
   "cell_type": "markdown",
   "metadata": {},
   "source": [
    "## Show likelihood evolution"
   ]
  },
  {
   "cell_type": "code",
   "execution_count": 7,
   "metadata": {},
   "outputs": [
    {
     "data": {
      "text/plain": [
       "[<matplotlib.lines.Line2D at 0x7f713f61bbe0>]"
      ]
     },
     "execution_count": 7,
     "metadata": {},
     "output_type": "execute_result"
    },
    {
     "data": {
      "image/png": "[encoded data removed]",
      "text/plain": [
       "<Figure size 432x288 with 1 Axes>"
      ]
     },
     "metadata": {
      "needs_background": "light"
     },
     "output_type": "display_data"
    }
   ],
   "source": [
    "L = np.load(\"chain_0.npy\")[:,-1]\n",
    "plt.figure()\n",
    "plt.plot(L)"
   ]
  },
  {
   "cell_type": "markdown",
   "metadata": {},
   "source": [
    "## Show statistics"
   ]
  },
  {
   "cell_type": "code",
   "execution_count": 8,
   "metadata": {},
   "outputs": [],
   "source": [
    "prop_names = [k.__self__.name for k,v in p_dict[0].items()]\n",
    "jumps_t = np.rec.fromarrays( [np.zeros((Nchains))]*len(prop_names), names=prop_names)\n",
    "ar_t = np.rec.fromarrays( [np.zeros((Nchains))]*len(prop_names), names=prop_names)\n",
    "nswap = np.zeros((Nchains, 2))\n",
    "for i in range(Nchains):\n",
    "    s = pickle.load(open(f\"stats_{i}.pkl\", 'rb'))\n",
    "    for n in prop_names:\n",
    "        jumps_t[n][i] = s[n]['njump'] \n",
    "        ar_t[n][i] = s[n]['ar'] \n",
    "    nswap[i,0] = s[\"nswap_accepted\"]\n",
    "    nswap[i,1] = s[\"nswap_proposed\"]"
   ]
  },
  {
   "cell_type": "markdown",
   "metadata": {},
   "source": [
    "### Acceptance rate for each proposals"
   ]
  },
  {
   "cell_type": "code",
   "execution_count": 9,
   "metadata": {},
   "outputs": [
    {
     "data": {
      "text/plain": [
       "Text(0, 0.5, 'Number of MH steps')"
      ]
     },
     "execution_count": 9,
     "metadata": {},
     "output_type": "execute_result"
    },
    {
     "data": {
      "image/png": "[encoded data removed]",
      "text/plain": [
       "<Figure size 720x360 with 2 Axes>"
      ]
     },
     "metadata": {
      "needs_background": "light"
     },
     "output_type": "display_data"
    }
   ],
   "source": [
    "plt.figure(figsize=(10,5))\n",
    "plt.subplot(121)\n",
    "y_offset = np.zeros((Nchains))\n",
    "for n in prop_names:\n",
    "    plt.bar(np.arange(0, Nchains), height=ar_t[n]/jumps_t[n], bottom=y_offset, label=n)\n",
    "    y_offset += ar_t[n]/jumps_t[n]\n",
    "plt.legend()\n",
    "plt.ylabel(\"# accepted / # jumps\")\n",
    "\n",
    "plt.subplot(122)\n",
    "y_offset = np.zeros((Nchains))\n",
    "for n in prop_names:\n",
    "    plt.bar(np.arange(0, Nchains), height=ar_t[n], bottom=y_offset, label=n)\n",
    "    y_offset += ar_t[n]\n",
    "plt.legend()\n",
    "plt.ylabel(\"Number of MH steps\")"
   ]
  },
  {
   "cell_type": "markdown",
   "metadata": {},
   "source": [
    "### Swap statistics"
   ]
  },
  {
   "cell_type": "code",
   "execution_count": 10,
   "metadata": {},
   "outputs": [
    {
     "data": {
      "text/plain": [
       "<matplotlib.legend.Legend at 0x7f713f4ffa90>"
      ]
     },
     "execution_count": 10,
     "metadata": {},
     "output_type": "execute_result"
    },
    {
     "data": {
      "image/png": "[encoded data removed]",
      "text/plain": [
       "<Figure size 432x288 with 1 Axes>"
      ]
     },
     "metadata": {
      "needs_background": "light"
     },
     "output_type": "display_data"
    }
   ],
   "source": [
    "plt.figure()\n",
    "plt.bar(np.arange(0, 2*Nchains-2, 2), height=nswap[:-1,1], label=\"proposed\")\n",
    "plt.bar(np.arange(1, 2*Nchains-1, 2), height=nswap[:-1,0], label=\"accepted\")\n",
    "plt.ylabel(\"# accepted swap vs # proposed\")\n",
    "plt.legend()"
   ]
  }
 ],
 "metadata": {
  "kernelspec": {
   "display_name": "pv39",
   "language": "python",
   "name": "venv"
  },
  "language_info": {
   "codemirror_mode": {
    "name": "ipython",
    "version": 3
   },
   "file_extension": ".py",
   "mimetype": "text/x-python",
   "name": "python",
   "nbconvert_exporter": "python",
   "pygments_lexer": "ipython3",
   "version": "3.9.1"
  }
 },
 "nbformat": 4,
 "nbformat_minor": 4
}
