{
 "cells": [
  {
   "cell_type": "code",
   "execution_count": 3,
   "id": "b1acacf7",
   "metadata": {},
   "outputs": [],
   "source": [
    "from cag.framework.annotator.pipeline.pipeline_base import Pipeline\n",
    "from cag.utils.config import Config\n",
    "from tqdm import tqdm\n",
    "from cag.graph_elements.base_graph import BaseGraph\n",
    "from pyArango.graph import  EdgeDefinition\n",
    "import cag\n"
   ]
  },
  {
   "cell_type": "code",
   "execution_count": 4,
   "id": "857066a2",
   "metadata": {},
   "outputs": [],
   "source": [
    "# make sure arangodb is up and running - Enter your credentials below\n",
    "my_config = Config(\n",
    "            url= \"http://127.0.0.1:8529\",\n",
    "            user= \"root\",\n",
    "            password= \"Xm9xwkZlS4Y7q3xp\",\n",
    "            database= \"_system\",\n",
    "            graph= \"MagicalGraph\"\n",
    "        )\n"
   ]
  },
  {
   "cell_type": "code",
   "execution_count": 5,
   "id": "24c94e62",
   "metadata": {},
   "outputs": [],
   "source": [
    "class MyFirstPipeline(Pipeline):\n",
    "    def __init__(self, database_config: Config, batch_size:int = 50):\n",
    "        super().__init__(database_config)\n",
    "        self.period = None\n",
    "        self.batch_size = batch_size\n",
    "    \n",
    "    def process_input(self) -> list:\n",
    "        processed = []\n",
    "        for txt_node in tqdm(self.input):\n",
    "            processed.append((txt_node.text, {\"_key\": txt_node._key}))\n",
    "\n",
    "        return processed\n",
    "    \n",
    "    \n",
    "    def init_and_run(self) -> list:\n",
    "\n",
    "        # 3. Loop over your data, annotate and save\n",
    "        coll: Collection = self.database_config.db[\"TextNode\"]\n",
    "        docs = coll.fetchAll(limit=self.batch_size)\n",
    "        fetched = len(docs)\n",
    "\n",
    "        # set the pipeline by adding pre defined pipelines from CAG or using cunstomized ones\n",
    "        #self.set_spacy_language_model(\"en_core_web_md\")\n",
    "        self.add_annotation_pipe(name=\"NamedEntityPipeOrchestrator\", save_output=True, is_spacy=True) # spacy \n",
    "        self.add_annotation_pipe(name=\"EmpathPipeOrchestrator\", save_output=True, is_spacy=True)\n",
    "\n",
    "        while docs != None and len(docs) >0:\n",
    "            ## annotate\n",
    "\n",
    "            # Set the INPUT - this will automatically call preprocess_input (make sure to implement it)\n",
    "            self.set_input(docs)\n",
    "            \n",
    "            self.annotate()\n",
    "            self.save()\n",
    "            \n",
    "            self.reset_input_output()\n",
    "            print(f\"Processed {fetched} docs\")\n",
    "            docs = coll.fetchAll(limit=self.batch_size, skip=fetched)\n",
    "            fetched = fetched + len(docs)\n",
    "            break"
   ]
  },
  {
   "cell_type": "code",
   "execution_count": 6,
   "id": "02a1ca4e",
   "metadata": {},
   "outputs": [],
   "source": [
    "my_first_pipeline = MyFirstPipeline(my_config, batch_size =10)"
   ]
  },
  {
   "cell_type": "code",
   "execution_count": 7,
   "id": "a3f832a8",
   "metadata": {},
   "outputs": [
    {
     "name": "stderr",
     "output_type": "stream",
     "text": [
      "cag          INFO     adding pipe with name NamedEntityPipeOrchestrator\n",
      "cag          INFO     saving relation HasAnnotation to NamedEntityNode and from TextNode\n",
      "cag          ERROR    The node was not created, *node_class_path*: cag.framework.annotator.element.graph_elements.NamedEntityNode.\n",
      "cag          ERROR    The edge was not created, *edge_class_path*: cag.framework.annotator.element.graph_elements.HasAnnotation.\n",
      "cag          INFO     orchestrator is validated: False\n",
      "cag          INFO     adding pipe with code ner\n",
      "cag          INFO     adding pipe with name EmpathPipeOrchestrator\n",
      "cag          INFO     saving relation HasAnnotation to EmpathNode and from TextNode\n",
      "cag          ERROR    The edge was not created, *edge_class_path*: cag.framework.annotator.element.graph_elements.HasAnnotation.\n",
      "cag          INFO     orchestrator is validated: False\n",
      "cag          INFO     adding pipe with code empath_component\n",
      "100%|███████████████████████████████████████████████████████████████████████████████| 10/10 [00:00<00:00, 18749.68it/s]\n",
      "cag          INFO     Defining pipe default and spacy stacks\n",
      "  0%|                                                                                            | 0/2 [00:00<?, ?it/s]cag          INFO     saving annotations of Pipe(name='NamedEntityPipeOrchestrator', is_spacy=True, save_output=True, pipe_id_or_func='ner')\n",
      " 50%|██████████████████████████████████████████                                          | 1/2 [00:33<00:33, 33.00s/it]cag          INFO     saving annotations of Pipe(name='EmpathPipeOrchestrator', is_spacy=True, save_output=True, pipe_id_or_func='empath_component')\n",
      "100%|████████████████████████████████████████████████████████████████████████████████████| 2/2 [00:56<00:00, 28.21s/it]"
     ]
    },
    {
     "name": "stdout",
     "output_type": "stream",
     "text": [
      "Processed 10 docs\n"
     ]
    },
    {
     "name": "stderr",
     "output_type": "stream",
     "text": [
      "\n"
     ]
    }
   ],
   "source": [
    "my_first_pipeline.init_and_run()"
   ]
  },
  {
   "cell_type": "code",
   "execution_count": null,
   "id": "ec5aadbe",
   "metadata": {},
   "outputs": [],
   "source": []
  },
  {
   "cell_type": "code",
   "execution_count": null,
   "id": "b4d5acec",
   "metadata": {},
   "outputs": [],
   "source": []
  },
  {
   "cell_type": "code",
   "execution_count": null,
   "id": "2ed89cbb",
   "metadata": {},
   "outputs": [],
   "source": []
  },
  {
   "cell_type": "code",
   "execution_count": null,
   "id": "e83883e7",
   "metadata": {},
   "outputs": [],
   "source": []
  }
 ],
 "metadata": {
  "kernelspec": {
   "display_name": "Python 3 (ipykernel)",
   "language": "python",
   "name": "python3"
  },
  "language_info": {
   "codemirror_mode": {
    "name": "ipython",
    "version": 3
   },
   "file_extension": ".py",
   "mimetype": "text/x-python",
   "name": "python",
   "nbconvert_exporter": "python",
   "pygments_lexer": "ipython3",
   "version": "3.8.6"
  }
 },
 "nbformat": 4,
 "nbformat_minor": 5
}
