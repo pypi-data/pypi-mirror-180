{
 "cells": [
  {
   "cell_type": "raw",
   "execution_count": null,
   "id": "f5066c69-d3c6-49ea-a87b-4da847b5b01e",
   "metadata": {
    "tags": [],
    "transformer": "requirements"
   },
   "outputs": [],
   "source": []
  },
  {
   "cell_type": "code",
   "execution_count": null,
   "id": "7e091d9f-d18a-496e-8205-8298049e783d",
   "metadata": {
    "tags": [],
    "transformer": "predict"
   },
   "outputs": [],
   "source": [
    "from typing import Dict\n",
    "from typing import Dict\n",
    "from flask import redirect"
    "def predict(input: Dict, model_predict_url: str) -> Dict:\n",
    "    return redirect(model_predict_url)"
   ]
  }
 ],
 "metadata": {
 },
 "nbformat": 4,
 "nbformat_minor": 5
}
