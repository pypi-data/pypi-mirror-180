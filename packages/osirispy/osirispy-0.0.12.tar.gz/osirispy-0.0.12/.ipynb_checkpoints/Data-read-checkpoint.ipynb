{
 "cells": [
  {
   "cell_type": "code",
   "execution_count": null,
   "id": "ae9a51e4-a078-424d-bf93-4b73a794d372",
   "metadata": {},
   "outputs": [],
   "source": [
    "import h5py\n",
    "import numpy as np"
   ]
  },
  {
   "cell_type": "markdown",
   "id": "b3f0112b-b421-46e4-aa37-cdff9da5d6f6",
   "metadata": {},
   "source": [
    "#### 2D RaDiO Field"
   ]
  },
  {
   "cell_type": "code",
   "execution_count": null,
   "id": "2a30a55d-b281-4458-a8d8-1bf166e2b347",
   "metadata": {},
   "outputs": [],
   "source": [
    "file=E2_fs[2]\n",
    "#file=\"MS/RADIAT/Eperp-000048.h5\"\n",
    "f=h5py.File(file,\"r\")\n",
    "#field\n",
    "E_rad=np.array(f[\"E2\"]) #charge for density, e2 for OSIRIS fields, e3_x2_slice for slices\n",
    "#time axis\n",
    "t_axis=np.array(f[\"AXIS/AXIS2\"])\n",
    "#spatial axis\n",
    "sp_axis=np.array(f[\"AXIS/AXIS1\"])\n",
    "#timestamp\n",
    "time_s=f.attrs[\"TIME\"][0]\n",
    "f.close()\n",
    "\n",
    "\n",
    "time=np.linspace(t_axis[0],t_axis[1],len(e2d1))\n",
    "space=np.linspace(sp_axis[0],sp_axis[1],len(e2d1[0]))\n"
   ]
  },
  {
   "cell_type": "markdown",
   "id": "99e9663e-5a29-472f-aaa8-b3854e9cc8f6",
   "metadata": {
    "tags": []
   },
   "source": [
    "#### 3D RaDiO Field"
   ]
  },
  {
   "cell_type": "code",
   "execution_count": null,
   "id": "c9985ce5-aa49-4122-aba8-e6d86c53a0b2",
   "metadata": {},
   "outputs": [],
   "source": [
    "file=E2_fs[2]\n",
    "#file=\"MS/RADIAT/Eperp-000048.h5\"\n",
    "f=h5py.File(file,\"r\")\n",
    "#field\n",
    "E_rad=np.array(f[\"E2\"])\n",
    "#time axis\n",
    "t_axis=np.array(f[\"AXIS/AXIS3\"])\n",
    "#spatial axis\n",
    "sp_axis_2=np.array(f[\"AXIS/AXIS2\"])\n",
    "sp_axis=np.array(f[\"AXIS/AXIS1\"])\n",
    "\n",
    "#timestamp\n",
    "time_s=f.attrs[\"TIME\"][0]\n",
    "f.close()\n",
    "\n",
    "\n",
    "time=np.linspace(t_axis[0],t_axis[1],len(e2d1))\n",
    "space_2=np.linspace(sp_axis_2[0],sp_axis_2[1],len(e2d1[0]))\n",
    "space=np.linspace(sp_axis[0],sp_axis[1],len(e2d1[0,0]))\n"
   ]
  },
  {
   "cell_type": "markdown",
   "id": "69715f86-a11f-40f8-afee-b088a07c8259",
   "metadata": {
    "tags": []
   },
   "source": [
    "#### RAW"
   ]
  },
  {
   "cell_type": "code",
   "execution_count": null,
   "id": "b78b6cbd-a9a8-4881-b5d4-4830f64d46a7",
   "metadata": {},
   "outputs": [],
   "source": [
    "file=raws_hot[i] #path/to/raw\n",
    "f=h5py.File(file,\"r\")\n",
    "sp_x1=np.array(f[\"x1\"])\n",
    "sp_x2=np.array(f[\"x2\"])#/np.max(np.array(f[\"x2\"]))\n",
    "time=f.attrs[\"TIME\"][0]\n",
    "f.close()    "
   ]
  },
  {
   "cell_type": "markdown",
   "id": "f0370963-6b6b-4dac-a95d-20329f1ccf25",
   "metadata": {},
   "source": [
    "#### TRACKS"
   ]
  },
  {
   "cell_type": "code",
   "execution_count": null,
   "id": "e192eebf-8145-437a-b37a-990e84dbc2aa",
   "metadata": {},
   "outputs": [],
   "source": [
    "import h5py\n",
    "import numpy as np\n",
    "\n",
    "\n",
    "file=\"bbeam/TRACKS/species_1-tracks.h5\"\n",
    "\n",
    "f=h5py.File(file,\"r\")\n",
    "itermap=np.array(f[\"itermap\"])\n",
    "ntracks=f.attrs[\"NTRACKS\"][0]\n",
    "for i in range(len(itermap)):\n",
    "    itermap[i,2]=np.sum(itermap[:i,1])\n",
    "itermaps=[]\n",
    "for i in range(1,ntracks+1):\n",
    "    itermaps.append(itermap[itermap[:,0]==i,1:])\n",
    "itermaps=np.array(itermaps)\n",
    "itermaps_tracks=[]\n",
    "for i in range(len(itermaps)):\n",
    "    itermap_=[]\n",
    "    for bound in itermaps[i]:\n",
    "        itermap_.append(np.arange(bound[1],bound[1]+bound[0]))\n",
    "    itermaps_tracks.append(np.concatenate(itermap_))\n",
    "data=np.array(f[\"data\"])\n",
    "print(f.attrs[\"QUANTS\"])\n",
    "f.close()\n",
    "\n",
    "#2D SIMS\n",
    "x2=data[itermaps_tracks[0],4]\n",
    "x1=data[itermaps_tracks[0],3]\n",
    "\n",
    "p3=data[itermaps_tracks[0],7]\n",
    "p2=data[itermaps_tracks[0],6]\n",
    "p1=data[itermaps_tracks[0],5]\n",
    "\n",
    "\n",
    "#3D SIMS\n",
    "x3=data[itermaps_tracks[0],5]\n",
    "x2=data[itermaps_tracks[0],4]\n",
    "x1=data[itermaps_tracks[0],3]\n",
    "\n",
    "p3=data[itermaps_tracks[0],8]\n",
    "p2=data[itermaps_tracks[0],7]\n",
    "p1=data[itermaps_tracks[0],6]"
   ]
  }
 ],
 "metadata": {
  "kernelspec": {
   "display_name": "Python 3",
   "language": "python",
   "name": "python3"
  },
  "language_info": {
   "codemirror_mode": {
    "name": "ipython",
    "version": 3
   },
   "file_extension": ".py",
   "mimetype": "text/x-python",
   "name": "python",
   "nbconvert_exporter": "python",
   "pygments_lexer": "ipython3",
   "version": "3.9.13"
  }
 },
 "nbformat": 4,
 "nbformat_minor": 5
}
