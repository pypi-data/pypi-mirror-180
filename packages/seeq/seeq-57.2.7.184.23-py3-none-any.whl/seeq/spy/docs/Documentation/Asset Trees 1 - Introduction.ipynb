{
 "cells": [
  {
   "cell_type": "code",
   "execution_count": 1,
   "id": "portuguese-morris",
   "metadata": {},
   "outputs": [],
   "source": [
    "from seeq import spy\n",
    "import pandas as pd"
   ]
  },
  {
   "cell_type": "code",
   "execution_count": 2,
   "id": "logical-skill",
   "metadata": {},
   "outputs": [
    {
     "data": {
      "text/html": [
       "<div style=\"background-color: #EEFFEE;color:black; text-align: left;\">Logged in to <strong>http://localhost:34216</strong> successfully as <strong>a@seeq.com (a b [Admin])</strong>.<br>Seeq Server Version: <strong>R57.2.7-SNAPSHOT</strong><br>Seeq Python Module Version: <strong>57.2.7.184.22</strong></div>"
      ],
      "text/plain": [
       "<IPython.core.display.HTML object>"
      ]
     },
     "metadata": {},
     "output_type": "display_data"
    }
   ],
   "source": [
    "# Log into Seeq Server if you're not using Seeq Data Lab:\n",
    "spy.login(url='http://localhost:34216', username='a@seeq.com', password='12345678')"
   ]
  },
  {
   "cell_type": "markdown",
   "id": "bound-vault",
   "metadata": {},
   "source": [
    "# Asset Trees 1: Introduction\n",
    "\n",
    "Asset trees are a foundational tool that can be used to wrangle the full analytic capabilities of Seeq's software. They sort physical locations, pieces of equipment, and data on that equipment into a hierarchical structure. Organizing your data into an asset tree allows you to:\n",
    "- Utilize asset swapping to rapidly create identical visualizations for different pieces of equipment\n",
    "- Write high-value calculations for your components and scale them across all components in your tree\n",
    "- Automatically generate scalable content and custom analyses\n",
    "- Use your tree as a starting point for roll-ups, calculations, displays, dashboards, and reports\n",
    "\n",
    "In this notebook we will show how to define an asset tree using the SPy library, modify it to your liking, and push the resulting tree to Seeq Server."
   ]
  },
  {
   "cell_type": "markdown",
   "id": "fixed-authorization",
   "metadata": {},
   "source": [
    "## Defining an Asset Tree\n",
    "\n",
    "There are multiple ways to define an asset tree in SPy. All use the same function: `spy.assets.Tree()`. We summarize each way here before taking a further look in the subsections below.\n",
    "1. To create an empty tree, give a name for your new tree as input: `spy.assets.Tree('My Tree')`\n",
    "2. To create a tree with custom structure defined by a CSV (comma-separated values) file, give the filename as input: `spy.assets.Tree('my_folder/my_tree_template.csv')`\n",
    "3. To use an existing asset tree from Seeq as a starting point for your tree, give the name of that asset tree as input: `spy.assets.Tree('Facility 12_Asset Tree')`"
   ]
  },
  {
   "cell_type": "markdown",
   "id": "convertible-fraud",
   "metadata": {},
   "source": [
    "### 1. Creating an Empty Tree\n",
    "\n",
    "In many cases, the easiest and most efficient way to build an asset tree is to start with the name of your root asset and insert your items later."
   ]
  },
  {
   "cell_type": "code",
   "execution_count": 3,
   "id": "cutting-petersburg",
   "metadata": {},
   "outputs": [
    {
     "data": {
      "text/html": [
       "<div style=\"background-color: #EEFFEE;text-align: left;\">No existing root found. Tree created using new root \"My Tree\". The tree \"My Tree\" has height 1 and contains 1 asset.</div><table class=\"tex2jax_ignore\"><tr><td style=\"background-color: #EEFFEE;\"></td><td style=\"background-color: #EEFFEE; text-align: right;\">Assets Created</td><td style=\"background-color: #EEFFEE; text-align: right;\">Signals Created</td><td style=\"background-color: #EEFFEE; text-align: right;\">Conditions Created</td><td style=\"background-color: #EEFFEE; text-align: right;\">Scalars Created</td><td style=\"background-color: #EEFFEE; text-align: right;\">Metrics Created</td><td style=\"background-color: #EEFFEE; text-align: right;\">Total Items Created</td><td style=\"background-color: #EEFFEE; text-align: right;\">Items Pulled From Seeq</td><td style=\"background-color: #EEFFEE; text-align: right;\">Errors Encountered</td></tr><tr style=\"background-color: #EEFFEE;\"><td style=\"vertical-align: top;\">Status</td><td style=\"text-align: right; vertical-align: top;\">1</td><td style=\"text-align: right; vertical-align: top;\">0</td><td style=\"text-align: right; vertical-align: top;\">0</td><td style=\"text-align: right; vertical-align: top;\">0</td><td style=\"text-align: right; vertical-align: top;\">0</td><td style=\"text-align: right; vertical-align: top;\">1</td><td style=\"text-align: right; vertical-align: top;\">0</td><td style=\"text-align: right; vertical-align: top;\">0</td></tr></table>"
      ],
      "text/plain": [
       "<IPython.core.display.HTML object>"
      ]
     },
     "metadata": {},
     "output_type": "display_data"
    }
   ],
   "source": [
    "my_tree = spy.assets.Tree('My Tree', workbook='My Workbook')"
   ]
  },
  {
   "cell_type": "markdown",
   "id": "western-passage",
   "metadata": {},
   "source": [
    "This tree will contain a single asset named \"My Tree\" to begin with. It is scoped to a new workbook named \"My Workbook\" that will be created when the tree is pushed to Seeq. Underneath the root asset, we will be able to freely insert more assets, signals, conditions, and scalars as we need.\n",
    "\n",
    "In the code example above, `spy.assets.Tree` is a *function*. The two pieces of text `'My Tree'` and `'My Workbook'` inside the parentheses are *inputs* to that function. In return, the function *outputs* a tree object, which we assign to a *variable* called `my_tree`. This variable allows us to refer to the newly defined tree in future code. "
   ]
  },
  {
   "cell_type": "markdown",
   "id": "outside-karaoke",
   "metadata": {},
   "source": [
    "### 2. Creating a Tree using CSV Files\n",
    "\n",
    "Defining asset trees using CSV template files is a great option for those seeking to create large asset trees using minimal Python code, or for those who already have pre-defined hierarchies for their items that can be exported to CSV format.\n",
    "\n",
    "The file `spy_tree_example.csv` in the SPy Documentation directory contains the following data:\n",
    "\n",
    "| Name                     | Level 1     | Level 2         | Level 3 | Friendly Name     |\n",
    "|--------------------------|-------------|-----------------|---------|-------------------|\n",
    "| Area A_Temperature       | My CSV Tree | Cooling Tower 1 | Area A  | Temperature       |\n",
    "| Area A_Relative Humidity |             |                 |         | Relative Humidity |\n",
    "| Area B_Temperature       |             |                 | Area B  | Temperature       |\n",
    "| Area B_Relative Humidity |             |                 |         | Relative Humidity |\n",
    "| Area D_Temperature       |             | Cooling Tower 2 | Area D  | Temperature       |\n",
    "| Area D_Relative Humidity |             |                 |         | Relative Humidity |\n",
    "| Area E_Temperature       |             |                 | Area E  | Temperature       |\n",
    "| Area E_Relative Humidity |             |                 |         | Relative Humidity |\n",
    "\n",
    "When this file is given as input to `spy.assets.Tree`, SPy will look at each row in the file, find an item in Seeq corresponding to the row, and place it into a newly created asset tree at the specified location. The columns of the file give SPy information about where to find the item and how to put it in your tree:\n",
    "- The **Name** column tells SPy what item to pull from Seeq Server.\n",
    "- The **Level** columns tell SPy where in the tree to put the item.\n",
    "  - If a level column is empty for a particular row, then the rows above are referred to. For example, the third row above has levels *My CSV Tree*, *Cooling Tower 1*, and *Area B*.\n",
    "- The **Friendly Name** column tells SPy what what to call the item after putting it in the tree.\n",
    "- An optional **ID** column can help SPy find items from Seeq Server that don't have unique names.\n",
    "\n",
    "For example, the first row tells SPy to take the data from the existing signal \"Area A_Temperature\" in Seeq, create a new signal called \"Temperature\" containing the same data, and insert the new signal into the tree underneath the asset \"Area A\". The asset \"Area A\" will subsequently be underneath \"Cooling Tower 1\", which is underneath the root asset \"My CSV Tree\".\n",
    "\n",
    "Below we create a tree from this CSV file, and then use the `visualize()` function to look at what the end result is."
   ]
  },
  {
   "cell_type": "code",
   "execution_count": 4,
   "id": "weird-study",
   "metadata": {},
   "outputs": [
    {
     "data": {
      "text/html": [
       "<div style=\"background-color: #EEFFEE;text-align: left;\">Tree successfully created from DataFrame. The tree \"My CSV Tree\" has height 4 and contains 8 signals and 7 assets.</div><table class=\"tex2jax_ignore\"><tr><td style=\"background-color: #EEFFEE;\"></td><td style=\"background-color: #EEFFEE; text-align: right;\">Assets Created</td><td style=\"background-color: #EEFFEE; text-align: right;\">Signals Created</td><td style=\"background-color: #EEFFEE; text-align: right;\">Conditions Created</td><td style=\"background-color: #EEFFEE; text-align: right;\">Scalars Created</td><td style=\"background-color: #EEFFEE; text-align: right;\">Metrics Created</td><td style=\"background-color: #EEFFEE; text-align: right;\">Total Items Created</td><td style=\"background-color: #EEFFEE; text-align: right;\">Items Pulled From Seeq</td><td style=\"background-color: #EEFFEE; text-align: right;\">Errors Encountered</td></tr><tr style=\"background-color: #EEFFEE;\"><td style=\"vertical-align: top;\">Status</td><td style=\"text-align: right; vertical-align: top;\">7</td><td style=\"text-align: right; vertical-align: top;\">8</td><td style=\"text-align: right; vertical-align: top;\">0</td><td style=\"text-align: right; vertical-align: top;\">0</td><td style=\"text-align: right; vertical-align: top;\">0</td><td style=\"text-align: right; vertical-align: top;\">15</td><td style=\"text-align: right; vertical-align: top;\">8</td><td style=\"text-align: right; vertical-align: top;\">0</td></tr></table>"
      ],
      "text/plain": [
       "<IPython.core.display.HTML object>"
      ]
     },
     "metadata": {},
     "output_type": "display_data"
    },
    {
     "name": "stdout",
     "output_type": "stream",
     "text": [
      "My CSV Tree\n",
      "|-- Cooling Tower 1\n",
      "|   |-- Area A\n",
      "|   |   |-- Relative Humidity\n",
      "|   |   |-- Temperature\n",
      "|   |-- Area B\n",
      "|       |-- Relative Humidity\n",
      "|       |-- Temperature\n",
      "|-- Cooling Tower 2\n",
      "    |-- Area D\n",
      "    |   |-- Relative Humidity\n",
      "    |   |-- Temperature\n",
      "    |-- Area E\n",
      "        |-- Relative Humidity\n",
      "        |-- Temperature\n"
     ]
    }
   ],
   "source": [
    "my_csv_tree = spy.assets.Tree('spy_tree_example.csv', workbook='My Workbook')\n",
    "my_csv_tree.visualize()"
   ]
  },
  {
   "cell_type": "markdown",
   "id": "preliminary-gilbert",
   "metadata": {},
   "source": [
    "### 3. Working with an Existing Asset Tree\n",
    "\n",
    "Say you have an existing asset tree in Seeq, perhaps from an external datasource like OSIsoft PI AF, and you wish to clean up the tree or add calculations to it for further analysis. You can define a tree in SPy using this existing tree as a starting point by referring to it by name in the `spy.assets.Tree` input. \n",
    "\n",
    "For instance, let's pull in the asset tree that organizes Seeq's example data. Its root asset is named `'Example'`."
   ]
  },
  {
   "cell_type": "code",
   "execution_count": 3,
   "id": "exempt-belgium",
   "metadata": {},
   "outputs": [
    {
     "data": {
      "text/html": [
       "<div style=\"background-color: #EEFFEE;color:black; text-align: left;\">Recursively pulled existing asset tree. The tree \"Example\" has height 4 and contains 94 signals and 19 assets.</div><table class=\"tex2jax_ignore\"><tr><td style=\"background-color: #EEFFEE;\"></td><td style=\"background-color: #EEFFEE; text-align: right;\">Assets Created</td><td style=\"background-color: #EEFFEE; text-align: right;\">Signals Created</td><td style=\"background-color: #EEFFEE; text-align: right;\">Conditions Created</td><td style=\"background-color: #EEFFEE; text-align: right;\">Scalars Created</td><td style=\"background-color: #EEFFEE; text-align: right;\">Metrics Created</td><td style=\"background-color: #EEFFEE; text-align: right;\">Displays Created</td><td style=\"background-color: #EEFFEE; text-align: right;\">Total Items Created</td><td style=\"background-color: #EEFFEE; text-align: right;\">Items Pulled From Seeq</td><td style=\"background-color: #EEFFEE; text-align: right;\">Errors Encountered</td></tr><tr style=\"background-color: #EEFFEE;\"><td style=\"vertical-align: top;\">Status</td><td style=\"text-align: right; vertical-align: top;\">19</td><td style=\"text-align: right; vertical-align: top;\">94</td><td style=\"text-align: right; vertical-align: top;\">0</td><td style=\"text-align: right; vertical-align: top;\">0</td><td style=\"text-align: right; vertical-align: top;\">0</td><td style=\"text-align: right; vertical-align: top;\">0</td><td style=\"text-align: right; vertical-align: top;\">113</td><td style=\"text-align: right; vertical-align: top;\">113</td><td style=\"text-align: right; vertical-align: top;\">0</td></tr></table>"
      ],
      "text/plain": [
       "<IPython.core.display.HTML object>"
      ]
     },
     "metadata": {},
     "output_type": "display_data"
    }
   ],
   "source": [
    "example_data_tree = spy.assets.Tree('Example', \n",
    "                                    workbook='My Workbook',\n",
    "                                    description='My custom copy of Example Data')"
   ]
  },
  {
   "cell_type": "markdown",
   "id": "lesbian-distance",
   "metadata": {},
   "source": [
    "This creates a tree that is a full copy of the example tree, with an added description so you can tell your new tree apart from the old tree. Therefore, when we make modifications and push them to Seeq, the original tree will remain unaltered. The only time a copy will not be made is if the tree we choose to work with was also created by SPy.\n",
    "\n",
    "An existing asset tree or subtree can also be pulled into SPy using the ID of its root asset...\n",
    "```python\n",
    "example_data_tree = spy.assets.Tree('656B88EC-E71F-44B6-B2A1-D60202B3B0CD')\n",
    "```\n",
    "...or by using `spy.search` results.\n",
    "```python\n",
    "search_results = spy.search({'Name': 'Example',\n",
    "                             'Type': 'Asset',\n",
    "                             'Datasource Name': 'Example Data'})\n",
    "example_data_tree = spy.assets.Tree(search_results)\n",
    "```"
   ]
  },
  {
   "cell_type": "markdown",
   "id": "large-gibson",
   "metadata": {},
   "source": [
    "## Inserting Items into the Tree\n",
    "\n",
    "The next step to building your asset tree is to add more items to it. Inserting the data that makes up your tree can be broken down into roughly three distinct substeps:\n",
    "1. Insert assets to give the tree structure\n",
    "2. Add signals, conditions, and scalars from Seeq server into your new asset hierarchy\n",
    "3. Insert calculations\n",
    "\n",
    "Each of these steps is done using the `insert()` function. The `insert()` function can be called directly on your tree like this: `my_tree.insert(...inputs...)`. Your tree will be updated accordingly."
   ]
  },
  {
   "cell_type": "markdown",
   "id": "complicated-joyce",
   "metadata": {},
   "source": [
    "### 1. Inserting Assets\n",
    "\n",
    "Assets are logical groups of signals, conditions, scalars, or even other assets. In most use cases, they represent physical locations, pieces of equipment, or organizational collections of other assets. The assets of our tree will form its backbone, while other items will usually be at the bottom of our tree, farthest from the root asset.\n",
    "\n",
    "To insert anything into the tree, we need to specify (1) what we are inserting and (2) where we want to insert it. We will always specify where we are inserting using the `parent` input – for example, write `parent='Area A'` as input to insert your data directly underneath the asset in your tree with name \"Area A\".\n",
    "\n",
    "To insert assets into the tree, give a name to the `children` input. "
   ]
  },
  {
   "cell_type": "code",
   "execution_count": 6,
   "id": "magnetic-stock",
   "metadata": {},
   "outputs": [
    {
     "data": {
      "text/html": [
       "<div style=\"background-color: #EEFFEE;text-align: left;\">Successfully inserted items into the tree. The tree \"My Tree\" has height 2 and contains 2 assets.</div><table class=\"tex2jax_ignore\"><tr><td style=\"background-color: #EEFFEE;\"></td><td style=\"background-color: #EEFFEE; text-align: right;\">Assets Inserted</td><td style=\"background-color: #EEFFEE; text-align: right;\">Signals Inserted</td><td style=\"background-color: #EEFFEE; text-align: right;\">Conditions Inserted</td><td style=\"background-color: #EEFFEE; text-align: right;\">Scalars Inserted</td><td style=\"background-color: #EEFFEE; text-align: right;\">Metrics Inserted</td><td style=\"background-color: #EEFFEE; text-align: right;\">Total Items Inserted</td><td style=\"background-color: #EEFFEE; text-align: right;\">Items Pulled From Seeq</td><td style=\"background-color: #EEFFEE; text-align: right;\">Errors Encountered</td></tr><tr style=\"background-color: #EEFFEE;\"><td style=\"vertical-align: top;\">Status</td><td style=\"text-align: right; vertical-align: top;\">1</td><td style=\"text-align: right; vertical-align: top;\">0</td><td style=\"text-align: right; vertical-align: top;\">0</td><td style=\"text-align: right; vertical-align: top;\">0</td><td style=\"text-align: right; vertical-align: top;\">0</td><td style=\"text-align: right; vertical-align: top;\">1</td><td style=\"text-align: right; vertical-align: top;\">0</td><td style=\"text-align: right; vertical-align: top;\">0</td></tr></table>"
      ],
      "text/plain": [
       "<IPython.core.display.HTML object>"
      ]
     },
     "metadata": {},
     "output_type": "display_data"
    },
    {
     "name": "stdout",
     "output_type": "stream",
     "text": [
      "My Tree\n",
      "|-- Cooling Tower 1\n"
     ]
    }
   ],
   "source": [
    "my_tree.insert(children='Cooling Tower 1',\n",
    "               parent='My Tree')\n",
    "my_tree.visualize()"
   ]
  },
  {
   "cell_type": "markdown",
   "id": "offensive-federation",
   "metadata": {},
   "source": [
    "You can also give a list of names to create multiple assets at once."
   ]
  },
  {
   "cell_type": "code",
   "execution_count": 7,
   "id": "cathedral-engagement",
   "metadata": {},
   "outputs": [
    {
     "data": {
      "text/html": [
       "<div style=\"background-color: #EEFFEE;text-align: left;\">Successfully inserted items into the tree. The tree \"My Tree\" has height 3 and contains 5 assets.</div><table class=\"tex2jax_ignore\"><tr><td style=\"background-color: #EEFFEE;\"></td><td style=\"background-color: #EEFFEE; text-align: right;\">Assets Inserted</td><td style=\"background-color: #EEFFEE; text-align: right;\">Signals Inserted</td><td style=\"background-color: #EEFFEE; text-align: right;\">Conditions Inserted</td><td style=\"background-color: #EEFFEE; text-align: right;\">Scalars Inserted</td><td style=\"background-color: #EEFFEE; text-align: right;\">Metrics Inserted</td><td style=\"background-color: #EEFFEE; text-align: right;\">Total Items Inserted</td><td style=\"background-color: #EEFFEE; text-align: right;\">Items Pulled From Seeq</td><td style=\"background-color: #EEFFEE; text-align: right;\">Errors Encountered</td></tr><tr style=\"background-color: #EEFFEE;\"><td style=\"vertical-align: top;\">Status</td><td style=\"text-align: right; vertical-align: top;\">3</td><td style=\"text-align: right; vertical-align: top;\">0</td><td style=\"text-align: right; vertical-align: top;\">0</td><td style=\"text-align: right; vertical-align: top;\">0</td><td style=\"text-align: right; vertical-align: top;\">0</td><td style=\"text-align: right; vertical-align: top;\">3</td><td style=\"text-align: right; vertical-align: top;\">0</td><td style=\"text-align: right; vertical-align: top;\">0</td></tr></table>"
      ],
      "text/plain": [
       "<IPython.core.display.HTML object>"
      ]
     },
     "metadata": {},
     "output_type": "display_data"
    },
    {
     "name": "stdout",
     "output_type": "stream",
     "text": [
      "My Tree\n",
      "|-- Cooling Tower 1\n",
      "    |-- Area A\n",
      "    |-- Area B\n",
      "    |-- Area C\n"
     ]
    }
   ],
   "source": [
    "my_tree.insert(children=['Area A', 'Area B', 'Area C'],\n",
    "               parent='Cooling Tower 1')\n",
    "my_tree.visualize()"
   ]
  },
  {
   "cell_type": "markdown",
   "id": "missing-mediterranean",
   "metadata": {},
   "source": [
    "Now we're ready to organize our data in the tree hierarchy we have created."
   ]
  },
  {
   "cell_type": "markdown",
   "id": "honey-development",
   "metadata": {},
   "source": [
    "### 2. Inserting Signals, Conditions, and Scalars from Seeq Server\n",
    "\n",
    "To insert items from the server, we will need to give our tree information on where to find those items. One practical way to find this information is to query items from Seeq by name using the `spy.search` function."
   ]
  },
  {
   "cell_type": "code",
   "execution_count": 8,
   "id": "agricultural-romantic",
   "metadata": {},
   "outputs": [
    {
     "data": {
      "text/html": [
       "<div style=\"background-color: #EEFFEE;text-align: left;\">Query successful</div><table class=\"tex2jax_ignore\"><tr><td style=\"background-color: #EEFFEE;\"></td><td style=\"background-color: #EEFFEE; text-align: left;\">Name</td><td style=\"background-color: #EEFFEE; text-align: left;\">Datasource Name</td><td style=\"background-color: #EEFFEE; text-align: left;\">Time</td><td style=\"background-color: #EEFFEE; text-align: right;\">Count</td><td style=\"background-color: #EEFFEE; text-align: right;\">Pages</td><td style=\"background-color: #EEFFEE; text-align: left;\">Result</td></tr><tr style=\"background-color: #EEFFEE;\"><td style=\"vertical-align: top;\">0</td><td style=\"text-align: left; vertical-align: top;\">Area A_Temperature</td><td style=\"text-align: left; vertical-align: top;\">Example Data</td><td style=\"vertical-align: top;\">00:00:00.02</td><td style=\"text-align: right; vertical-align: top;\">1</td><td style=\"text-align: right; vertical-align: top;\">1</td><td style=\"text-align: left; vertical-align: top;\">Success</td></tr></table>"
      ],
      "text/plain": [
       "<IPython.core.display.HTML object>"
      ]
     },
     "metadata": {},
     "output_type": "display_data"
    }
   ],
   "source": [
    "search_results = spy.search({'Name': 'Area A_Temperature',\n",
    "                             'Datasource Name': 'Example Data'})"
   ]
  },
  {
   "cell_type": "markdown",
   "id": "cosmetic-wilderness",
   "metadata": {},
   "source": [
    "We can pass these search results directly to the `children` input of the `insert()` function. Additionally, we can use the `friendly_name` input to rename the signal as we insert it."
   ]
  },
  {
   "cell_type": "code",
   "execution_count": 9,
   "id": "sufficient-insurance",
   "metadata": {},
   "outputs": [
    {
     "data": {
      "text/html": [
       "<div style=\"background-color: #EEFFEE;text-align: left;\">Successfully inserted items into the tree. The tree \"My Tree\" has height 4 and contains 5 assets and 1 signal.</div><table class=\"tex2jax_ignore\"><tr><td style=\"background-color: #EEFFEE;\"></td><td style=\"background-color: #EEFFEE; text-align: right;\">Assets Inserted</td><td style=\"background-color: #EEFFEE; text-align: right;\">Signals Inserted</td><td style=\"background-color: #EEFFEE; text-align: right;\">Conditions Inserted</td><td style=\"background-color: #EEFFEE; text-align: right;\">Scalars Inserted</td><td style=\"background-color: #EEFFEE; text-align: right;\">Metrics Inserted</td><td style=\"background-color: #EEFFEE; text-align: right;\">Total Items Inserted</td><td style=\"background-color: #EEFFEE; text-align: right;\">Items Pulled From Seeq</td><td style=\"background-color: #EEFFEE; text-align: right;\">Errors Encountered</td></tr><tr style=\"background-color: #EEFFEE;\"><td style=\"vertical-align: top;\">Status</td><td style=\"text-align: right; vertical-align: top;\">0</td><td style=\"text-align: right; vertical-align: top;\">1</td><td style=\"text-align: right; vertical-align: top;\">0</td><td style=\"text-align: right; vertical-align: top;\">0</td><td style=\"text-align: right; vertical-align: top;\">0</td><td style=\"text-align: right; vertical-align: top;\">1</td><td style=\"text-align: right; vertical-align: top;\">1</td><td style=\"text-align: right; vertical-align: top;\">0</td></tr></table>"
      ],
      "text/plain": [
       "<IPython.core.display.HTML object>"
      ]
     },
     "metadata": {},
     "output_type": "display_data"
    },
    {
     "name": "stdout",
     "output_type": "stream",
     "text": [
      "My Tree\n",
      "|-- Cooling Tower 1\n",
      "    |-- Area A\n",
      "    |   |-- Temperature\n",
      "    |-- Area B\n",
      "    |-- Area C\n"
     ]
    }
   ],
   "source": [
    "search_results = spy.search({'Name': 'Area A_Temperature',\n",
    "                             'Datasource Name': 'Example Data'})\n",
    "\n",
    "my_tree.insert(children=search_results,\n",
    "               friendly_name='Temperature',\n",
    "               parent='Area A')\n",
    "my_tree.visualize()"
   ]
  },
  {
   "cell_type": "markdown",
   "id": "monthly-reviewer",
   "metadata": {},
   "source": [
    "The new signal \"Temperature\" we see underneath \"Area A\" is a copy of the existing signal \"Area A_Temperature\" from Seeq. \n",
    "\n",
    "\n",
    "The [example notebook for spy.search](spy.search.ipynb) contains many more examples of how to query the server for the items you want to put in your tree. For instance, we can use [wildcards](https://support.seeq.com/space/KB/146768001/Basic%20Item%20Search%20and%20Filtering#Wildcard-Searches) to search for and insert many signals at once underneath Area B."
   ]
  },
  {
   "cell_type": "code",
   "execution_count": 10,
   "id": "greenhouse-zoning",
   "metadata": {},
   "outputs": [
    {
     "data": {
      "text/html": [
       "<div style=\"background-color: #EEFFEE;text-align: left;\">Successfully inserted items into the tree. The tree \"My Tree\" has height 4 and contains 7 signals and 5 assets.</div><table class=\"tex2jax_ignore\"><tr><td style=\"background-color: #EEFFEE;\"></td><td style=\"background-color: #EEFFEE; text-align: right;\">Assets Inserted</td><td style=\"background-color: #EEFFEE; text-align: right;\">Signals Inserted</td><td style=\"background-color: #EEFFEE; text-align: right;\">Conditions Inserted</td><td style=\"background-color: #EEFFEE; text-align: right;\">Scalars Inserted</td><td style=\"background-color: #EEFFEE; text-align: right;\">Metrics Inserted</td><td style=\"background-color: #EEFFEE; text-align: right;\">Total Items Inserted</td><td style=\"background-color: #EEFFEE; text-align: right;\">Items Pulled From Seeq</td><td style=\"background-color: #EEFFEE; text-align: right;\">Errors Encountered</td></tr><tr style=\"background-color: #EEFFEE;\"><td style=\"vertical-align: top;\">Status</td><td style=\"text-align: right; vertical-align: top;\">0</td><td style=\"text-align: right; vertical-align: top;\">6</td><td style=\"text-align: right; vertical-align: top;\">0</td><td style=\"text-align: right; vertical-align: top;\">0</td><td style=\"text-align: right; vertical-align: top;\">0</td><td style=\"text-align: right; vertical-align: top;\">6</td><td style=\"text-align: right; vertical-align: top;\">6</td><td style=\"text-align: right; vertical-align: top;\">0</td></tr></table>"
      ],
      "text/plain": [
       "<IPython.core.display.HTML object>"
      ]
     },
     "metadata": {},
     "output_type": "display_data"
    },
    {
     "name": "stdout",
     "output_type": "stream",
     "text": [
      "My Tree\n",
      "|-- Cooling Tower 1\n",
      "    |-- Area A\n",
      "    |   |-- Temperature\n",
      "    |-- Area B\n",
      "    |   |-- Area B_Compressor Power\n",
      "    |   |-- Area B_Compressor Stage\n",
      "    |   |-- Area B_Optimizer\n",
      "    |   |-- Area B_Relative Humidity\n",
      "    |   |-- Area B_Temperature\n",
      "    |   |-- Area B_Wet Bulb\n",
      "    |-- Area C\n"
     ]
    }
   ],
   "source": [
    "search_results = spy.search({'Name': 'Area B_*',\n",
    "                             'Type': 'Signal',\n",
    "                             'Datasource Name': 'Example Data'})\n",
    "\n",
    "my_tree.insert(children=search_results,\n",
    "               parent='Cooling Tower 1 >> Area B')\n",
    "my_tree.visualize()"
   ]
  },
  {
   "cell_type": "markdown",
   "id": "expired-sugar",
   "metadata": {},
   "source": [
    "Note that we included part of the path of \"Area B\" in the `parent` input – if there were multiple assets in the tree named \"Area B\", the function would then know to insert under the Area B that lies underneath Cooling Tower 1.\n",
    "\n",
    "Using `spy.search`, we can add hundreds or thousands of items to the tree in an organized manner. In addition to `visualize()`, you can use the function `missing_items()` to verify that your tree is balanced. For example, it flags to us that the asset \"Area F\" in the example data is missing signals that other assets in Cooling Tower 2 have."
   ]
  },
  {
   "cell_type": "code",
   "execution_count": 11,
   "id": "muslim-feeding",
   "metadata": {},
   "outputs": [
    {
     "name": "stdout",
     "output_type": "stream",
     "text": [
      "The following elements appear to be missing:\n",
      "Example >> Cooling Tower 2 >> Area F is missing: Compressor Stage, Optimizer, Relative Humidity, Temperature, Wet Bulb\n"
     ]
    }
   ],
   "source": [
    "example_data_tree.missing_items()"
   ]
  },
  {
   "cell_type": "markdown",
   "id": "composed-reach",
   "metadata": {},
   "source": [
    "Other attributes and functions helpful for understanding your tree include `my_tree.size`, `my_tree.height`, `my_tree.name`, and `my_tree.summarize()`."
   ]
  },
  {
   "cell_type": "markdown",
   "id": "straight-howard",
   "metadata": {},
   "source": [
    "An alternative to using `spy.search` when inserting a single item is to copy the item's ID in Workbench and pass that ID to the `children` input.\n",
    "```python\n",
    "my_tree.insert(children='219C06CC-67C5-4512-9242-2271596CEF56',\n",
    "\t\t\t   parent='Area A')\n",
    "```"
   ]
  },
  {
   "cell_type": "markdown",
   "id": "friendly-entity",
   "metadata": {},
   "source": [
    "### 3. Inserting Calculations\n",
    "\n",
    "At this point our tree gives organization to pre-existing data. When we push it to Seeq, we can navigate around the tree and find the data grouped together by asset. While this functionality alone can enable powerful analytics in Seeq Server, we can further our analysis by creating *calculations* based upon the data items in our tree.\n",
    "\n",
    "A calculation requires a name, a formula, and a collection of formula parameters. The formula is written in [Seeq Formula Language](https://support.seeq.com/space/KB/143884328/Formula), and the formula parameters assign variables in the formula to items in your tree."
   ]
  },
  {
   "cell_type": "code",
   "execution_count": 12,
   "id": "scientific-transportation",
   "metadata": {},
   "outputs": [
    {
     "data": {
      "text/html": [
       "<div style=\"background-color: #EEFFEE;text-align: left;\">Successfully inserted items into the tree. The tree \"My Tree\" has height 4 and contains 7 signals, 5 assets, and 1 calculation whose type has not yet been determined.</div><table class=\"tex2jax_ignore\"><tr><td style=\"background-color: #EEFFEE;\"></td><td style=\"background-color: #EEFFEE; text-align: right;\">Assets Inserted</td><td style=\"background-color: #EEFFEE; text-align: right;\">Signals Inserted</td><td style=\"background-color: #EEFFEE; text-align: right;\">Conditions Inserted</td><td style=\"background-color: #EEFFEE; text-align: right;\">Scalars Inserted</td><td style=\"background-color: #EEFFEE; text-align: right;\">Metrics Inserted</td><td style=\"background-color: #EEFFEE; text-align: right;\">Total Items Inserted</td><td style=\"background-color: #EEFFEE; text-align: right;\">Items Pulled From Seeq</td><td style=\"background-color: #EEFFEE; text-align: right;\">Errors Encountered</td></tr><tr style=\"background-color: #EEFFEE;\"><td style=\"vertical-align: top;\">Status</td><td style=\"text-align: right; vertical-align: top;\">0</td><td style=\"text-align: right; vertical-align: top;\">0</td><td style=\"text-align: right; vertical-align: top;\">0</td><td style=\"text-align: right; vertical-align: top;\">0</td><td style=\"text-align: right; vertical-align: top;\">0</td><td style=\"text-align: right; vertical-align: top;\">1</td><td style=\"text-align: right; vertical-align: top;\">0</td><td style=\"text-align: right; vertical-align: top;\">0</td></tr></table>"
      ],
      "text/plain": [
       "<IPython.core.display.HTML object>"
      ]
     },
     "metadata": {},
     "output_type": "display_data"
    },
    {
     "name": "stdout",
     "output_type": "stream",
     "text": [
      "My Tree\n",
      "|-- Cooling Tower 1\n",
      "    |-- Area A\n",
      "    |   |-- Temperature\n",
      "    |   |-- Too Hot\n",
      "    |-- Area B\n",
      "    |   |-- Area B_Compressor Power\n",
      "    |   |-- Area B_Compressor Stage\n",
      "    |   |-- Area B_Optimizer\n",
      "    |   |-- Area B_Relative Humidity\n",
      "    |   |-- Area B_Temperature\n",
      "    |   |-- Area B_Wet Bulb\n",
      "    |-- Area C\n"
     ]
    }
   ],
   "source": [
    "my_tree.insert(name='Too Hot',\n",
    "               formula='$temp > 100',\n",
    "               formula_parameters={'$temp': 'Temperature'},\n",
    "               parent='Area A')\n",
    "my_tree.visualize()"
   ]
  },
  {
   "cell_type": "markdown",
   "id": "developing-claim",
   "metadata": {},
   "source": [
    "It's often handy to create the same calculation for many assets across your tree that contain similarly named signals. This can be done by using [wildcards](https://support.seeq.com/space/KB/146768001/Basic%20Item%20Search%20and%20Filtering#Wildcard-Searches) in the `parent` input, just like when using `spy.search()`. Children will be inserted underneath every asset in the tree that matches the query given to `parent`.\n",
    "\n",
    "Let's try adding a \"Dew Point\" calculation underneath every area in a tree. Note that we'll use `my_csv_tree` for this example instead of `my_tree` because its signals have more uniform names across the tree."
   ]
  },
  {
   "cell_type": "code",
   "execution_count": 13,
   "id": "educated-davis",
   "metadata": {},
   "outputs": [
    {
     "data": {
      "text/html": [
       "<div style=\"background-color: #EEFFEE;text-align: left;\">Successfully inserted items into the tree. The tree \"My CSV Tree\" has height 4 and contains 8 signals, 7 assets, and 4 calculations whose types have not yet been determined.</div><table class=\"tex2jax_ignore\"><tr><td style=\"background-color: #EEFFEE;\"></td><td style=\"background-color: #EEFFEE; text-align: right;\">Assets Inserted</td><td style=\"background-color: #EEFFEE; text-align: right;\">Signals Inserted</td><td style=\"background-color: #EEFFEE; text-align: right;\">Conditions Inserted</td><td style=\"background-color: #EEFFEE; text-align: right;\">Scalars Inserted</td><td style=\"background-color: #EEFFEE; text-align: right;\">Metrics Inserted</td><td style=\"background-color: #EEFFEE; text-align: right;\">Total Items Inserted</td><td style=\"background-color: #EEFFEE; text-align: right;\">Items Pulled From Seeq</td><td style=\"background-color: #EEFFEE; text-align: right;\">Errors Encountered</td></tr><tr style=\"background-color: #EEFFEE;\"><td style=\"vertical-align: top;\">Status</td><td style=\"text-align: right; vertical-align: top;\">0</td><td style=\"text-align: right; vertical-align: top;\">0</td><td style=\"text-align: right; vertical-align: top;\">0</td><td style=\"text-align: right; vertical-align: top;\">0</td><td style=\"text-align: right; vertical-align: top;\">0</td><td style=\"text-align: right; vertical-align: top;\">4</td><td style=\"text-align: right; vertical-align: top;\">0</td><td style=\"text-align: right; vertical-align: top;\">0</td></tr></table>"
      ],
      "text/plain": [
       "<IPython.core.display.HTML object>"
      ]
     },
     "metadata": {},
     "output_type": "display_data"
    },
    {
     "name": "stdout",
     "output_type": "stream",
     "text": [
      "My CSV Tree\n",
      "|-- Cooling Tower 1\n",
      "|   |-- Area A\n",
      "|   |   |-- Dew Point\n",
      "|   |   |-- Relative Humidity\n",
      "|   |   |-- Temperature\n",
      "|   |-- Area B\n",
      "|       |-- Dew Point\n",
      "|       |-- Relative Humidity\n",
      "|       |-- Temperature\n",
      "|-- Cooling Tower 2\n",
      "    |-- Area D\n",
      "    |   |-- Dew Point\n",
      "    |   |-- Relative Humidity\n",
      "    |   |-- Temperature\n",
      "    |-- Area E\n",
      "        |-- Dew Point\n",
      "        |-- Relative Humidity\n",
      "        |-- Temperature\n"
     ]
    }
   ],
   "source": [
    "my_csv_tree.insert(name='Dew Point',\n",
    "                   formula='$t - ((100 - $rh.setUnits(\"\"))/5)', # From https://iridl.ldeo.columbia.edu/dochelp/QA/Basic/dewpoint.html\n",
    "                   formula_parameters={'$t': 'Temperature', '$rh': 'Relative Humidity'},\n",
    "                   parent='Area ?')\n",
    "my_csv_tree.visualize()"
   ]
  },
  {
   "cell_type": "markdown",
   "id": "prerequisite-beijing",
   "metadata": {},
   "source": [
    "Because there are signals \"Temperature\" and \"Relative Humidity\" under each parent asset, the calculations can successfully be inserted, with their formula parameters referring to the respective signals under their parent asset.\n",
    "\n",
    "The `parent` parameter will also accept `spy.search` results, an ID, or [regular expressions](https://docs.python.org/3/howto/regex.html) for more advanced querying, though we won't show examples here."
   ]
  },
  {
   "cell_type": "markdown",
   "id": "jewish-armenia",
   "metadata": {},
   "source": [
    "## Removing and Moving Items\n",
    "\n",
    "After working with your new tree, you may find that you need to make adjustments. You can use the `remove()` and `move()` functions to do this. These functions may also be useful for narrowing the focus of a large asset tree you have copied from Seeq.\n",
    "\n",
    "The `remove()` function takes a single input that specifies which items in the tree to remove. Let's start by removing a single signal from `my_tree`"
   ]
  },
  {
   "cell_type": "code",
   "execution_count": 14,
   "id": "chronic-assignment",
   "metadata": {},
   "outputs": [
    {
     "data": {
      "text/html": [
       "<div style=\"background-color: #EEFFEE;text-align: left;\">Successfully removed items from the tree. The tree \"My Tree\" has height 4 and contains 6 signals, 5 assets, and 1 calculation whose type has not yet been determined.</div><table class=\"tex2jax_ignore\"><tr><td style=\"background-color: #EEFFEE;\"></td><td style=\"background-color: #EEFFEE; text-align: right;\">Assets Removed</td><td style=\"background-color: #EEFFEE; text-align: right;\">Signals Removed</td><td style=\"background-color: #EEFFEE; text-align: right;\">Conditions Removed</td><td style=\"background-color: #EEFFEE; text-align: right;\">Scalars Removed</td><td style=\"background-color: #EEFFEE; text-align: right;\">Metrics Removed</td><td style=\"background-color: #EEFFEE; text-align: right;\">Total Items Removed</td><td style=\"background-color: #EEFFEE; text-align: right;\">Items Pulled From Seeq</td><td style=\"background-color: #EEFFEE; text-align: right;\">Errors Encountered</td></tr><tr style=\"background-color: #EEFFEE;\"><td style=\"vertical-align: top;\">Status</td><td style=\"text-align: right; vertical-align: top;\">0</td><td style=\"text-align: right; vertical-align: top;\">1</td><td style=\"text-align: right; vertical-align: top;\">0</td><td style=\"text-align: right; vertical-align: top;\">0</td><td style=\"text-align: right; vertical-align: top;\">0</td><td style=\"text-align: right; vertical-align: top;\">1</td><td style=\"text-align: right; vertical-align: top;\">0</td><td style=\"text-align: right; vertical-align: top;\">0</td></tr></table>"
      ],
      "text/plain": [
       "<IPython.core.display.HTML object>"
      ]
     },
     "metadata": {},
     "output_type": "display_data"
    },
    {
     "name": "stdout",
     "output_type": "stream",
     "text": [
      "My Tree\n",
      "|-- Cooling Tower 1\n",
      "    |-- Area A\n",
      "    |   |-- Temperature\n",
      "    |   |-- Too Hot\n",
      "    |-- Area B\n",
      "    |   |-- Area B_Compressor Power\n",
      "    |   |-- Area B_Optimizer\n",
      "    |   |-- Area B_Relative Humidity\n",
      "    |   |-- Area B_Temperature\n",
      "    |   |-- Area B_Wet Bulb\n",
      "    |-- Area C\n"
     ]
    }
   ],
   "source": [
    "my_tree.remove('Area B_Compressor Stage')\n",
    "my_tree.visualize()"
   ]
  },
  {
   "cell_type": "markdown",
   "id": "republican-likelihood",
   "metadata": {},
   "source": [
    "Note that if an asset is removed, then all of its children will be removed as well:"
   ]
  },
  {
   "cell_type": "code",
   "execution_count": 15,
   "id": "employed-distribution",
   "metadata": {},
   "outputs": [
    {
     "data": {
      "text/html": [
       "<div style=\"background-color: #EEFFEE;text-align: left;\">Successfully removed items from the tree. The tree \"My Tree\" has height 4 and contains 4 assets, 1 signal, and 1 calculation whose type has not yet been determined.</div><table class=\"tex2jax_ignore\"><tr><td style=\"background-color: #EEFFEE;\"></td><td style=\"background-color: #EEFFEE; text-align: right;\">Assets Removed</td><td style=\"background-color: #EEFFEE; text-align: right;\">Signals Removed</td><td style=\"background-color: #EEFFEE; text-align: right;\">Conditions Removed</td><td style=\"background-color: #EEFFEE; text-align: right;\">Scalars Removed</td><td style=\"background-color: #EEFFEE; text-align: right;\">Metrics Removed</td><td style=\"background-color: #EEFFEE; text-align: right;\">Total Items Removed</td><td style=\"background-color: #EEFFEE; text-align: right;\">Items Pulled From Seeq</td><td style=\"background-color: #EEFFEE; text-align: right;\">Errors Encountered</td></tr><tr style=\"background-color: #EEFFEE;\"><td style=\"vertical-align: top;\">Status</td><td style=\"text-align: right; vertical-align: top;\">1</td><td style=\"text-align: right; vertical-align: top;\">5</td><td style=\"text-align: right; vertical-align: top;\">0</td><td style=\"text-align: right; vertical-align: top;\">0</td><td style=\"text-align: right; vertical-align: top;\">0</td><td style=\"text-align: right; vertical-align: top;\">6</td><td style=\"text-align: right; vertical-align: top;\">0</td><td style=\"text-align: right; vertical-align: top;\">0</td></tr></table>"
      ],
      "text/plain": [
       "<IPython.core.display.HTML object>"
      ]
     },
     "metadata": {},
     "output_type": "display_data"
    },
    {
     "name": "stdout",
     "output_type": "stream",
     "text": [
      "My Tree\n",
      "|-- Cooling Tower 1\n",
      "    |-- Area A\n",
      "    |   |-- Temperature\n",
      "    |   |-- Too Hot\n",
      "    |-- Area C\n"
     ]
    }
   ],
   "source": [
    "my_tree.remove('Area B')\n",
    "my_tree.visualize()"
   ]
  },
  {
   "cell_type": "markdown",
   "id": "equivalent-commons",
   "metadata": {},
   "source": [
    "The input for `remove()` also supports paths, wildcards, and `spy.search` results.\n",
    "\n",
    "```python\n",
    "example_data_tree.remove('Area A >> Temperature')\n",
    "example_data_tree.remove('Cooling Tower 2 >> Area ? >> Optimizer')\n",
    "example_data_tree.remove(spy.search({'Path': 'Example >> Cooling Tower 1', 'Asset': 'Area C'}))\n",
    "```"
   ]
  },
  {
   "cell_type": "markdown",
   "id": "sudden-travel",
   "metadata": {},
   "source": [
    "The `move()` function pops data out of the tree and inserts it back in at another location. It takes two inputs: `source` and `destination`. The `source` is what is being removed, and the `destination` is the new parent it should have when re-inserted into the tree.\n",
    "\n",
    "Let's say that we accidentally insert \"Area C_Temperature\" into Area A of My Tree."
   ]
  },
  {
   "cell_type": "code",
   "execution_count": 16,
   "id": "objective-desire",
   "metadata": {},
   "outputs": [
    {
     "data": {
      "text/html": [
       "<div style=\"background-color: #EEFFEE;text-align: left;\">Successfully inserted items into the tree. The tree \"My Tree\" has height 4 and contains 4 assets, 2 signals, and 1 calculation whose type has not yet been determined.</div><table class=\"tex2jax_ignore\"><tr><td style=\"background-color: #EEFFEE;\"></td><td style=\"background-color: #EEFFEE; text-align: right;\">Assets Inserted</td><td style=\"background-color: #EEFFEE; text-align: right;\">Signals Inserted</td><td style=\"background-color: #EEFFEE; text-align: right;\">Conditions Inserted</td><td style=\"background-color: #EEFFEE; text-align: right;\">Scalars Inserted</td><td style=\"background-color: #EEFFEE; text-align: right;\">Metrics Inserted</td><td style=\"background-color: #EEFFEE; text-align: right;\">Total Items Inserted</td><td style=\"background-color: #EEFFEE; text-align: right;\">Items Pulled From Seeq</td><td style=\"background-color: #EEFFEE; text-align: right;\">Errors Encountered</td></tr><tr style=\"background-color: #EEFFEE;\"><td style=\"vertical-align: top;\">Status</td><td style=\"text-align: right; vertical-align: top;\">0</td><td style=\"text-align: right; vertical-align: top;\">1</td><td style=\"text-align: right; vertical-align: top;\">0</td><td style=\"text-align: right; vertical-align: top;\">0</td><td style=\"text-align: right; vertical-align: top;\">0</td><td style=\"text-align: right; vertical-align: top;\">1</td><td style=\"text-align: right; vertical-align: top;\">1</td><td style=\"text-align: right; vertical-align: top;\">0</td></tr></table>"
      ],
      "text/plain": [
       "<IPython.core.display.HTML object>"
      ]
     },
     "metadata": {},
     "output_type": "display_data"
    },
    {
     "name": "stdout",
     "output_type": "stream",
     "text": [
      "My Tree\n",
      "|-- Cooling Tower 1\n",
      "    |-- Area A\n",
      "    |   |-- Area C_Temperature\n",
      "    |   |-- Temperature\n",
      "    |   |-- Too Hot\n",
      "    |-- Area C\n"
     ]
    }
   ],
   "source": [
    "my_tree.insert(children=spy.search({'Name': 'Area C_Temperature', 'Datasource Name': 'Example Data'}),\n",
    "               parent='Area A')\n",
    "my_tree.visualize()"
   ]
  },
  {
   "cell_type": "markdown",
   "id": "breathing-vision",
   "metadata": {},
   "source": [
    "Then we can easily amend our issue without starting over or rerunning commands by using the `move()` function:"
   ]
  },
  {
   "cell_type": "code",
   "execution_count": 17,
   "id": "changed-coating",
   "metadata": {},
   "outputs": [
    {
     "data": {
      "text/html": [
       "<div style=\"background-color: #EEFFEE;text-align: left;\">Successfully moved items within the tree. The tree \"My Tree\" has height 4 and contains 4 assets, 2 signals, and 1 calculation whose type has not yet been determined.</div><table class=\"tex2jax_ignore\"><tr><td style=\"background-color: #EEFFEE;\"></td><td style=\"background-color: #EEFFEE; text-align: right;\">Assets Moved</td><td style=\"background-color: #EEFFEE; text-align: right;\">Signals Moved</td><td style=\"background-color: #EEFFEE; text-align: right;\">Conditions Moved</td><td style=\"background-color: #EEFFEE; text-align: right;\">Scalars Moved</td><td style=\"background-color: #EEFFEE; text-align: right;\">Metrics Moved</td><td style=\"background-color: #EEFFEE; text-align: right;\">Total Items Moved</td><td style=\"background-color: #EEFFEE; text-align: right;\">Items Pulled From Seeq</td><td style=\"background-color: #EEFFEE; text-align: right;\">Errors Encountered</td></tr><tr style=\"background-color: #EEFFEE;\"><td style=\"vertical-align: top;\">Status</td><td style=\"text-align: right; vertical-align: top;\">0</td><td style=\"text-align: right; vertical-align: top;\">1</td><td style=\"text-align: right; vertical-align: top;\">0</td><td style=\"text-align: right; vertical-align: top;\">0</td><td style=\"text-align: right; vertical-align: top;\">0</td><td style=\"text-align: right; vertical-align: top;\">1</td><td style=\"text-align: right; vertical-align: top;\">0</td><td style=\"text-align: right; vertical-align: top;\">0</td></tr></table>"
      ],
      "text/plain": [
       "<IPython.core.display.HTML object>"
      ]
     },
     "metadata": {},
     "output_type": "display_data"
    },
    {
     "name": "stdout",
     "output_type": "stream",
     "text": [
      "My Tree\n",
      "|-- Cooling Tower 1\n",
      "    |-- Area A\n",
      "    |   |-- Temperature\n",
      "    |   |-- Too Hot\n",
      "    |-- Area C\n",
      "        |-- Area C_Temperature\n"
     ]
    }
   ],
   "source": [
    "my_tree.move(source='Area A >> Area C_Temperature',\n",
    "             destination='Area C')\n",
    "my_tree.visualize()"
   ]
  },
  {
   "cell_type": "markdown",
   "id": "instructional-secretariat",
   "metadata": {},
   "source": [
    "## Pushing a Tree\n",
    "\n",
    "The last step to working with an asset tree in SPy is to push your changes to Seeq! Up until now, all of our operations have only modified objects in Python — in order to view your tree in Workbench and share it with others, use the `push()` function to send it to the server."
   ]
  },
  {
   "cell_type": "code",
   "execution_count": 18,
   "id": "fluid-winner",
   "metadata": {
    "scrolled": true
   },
   "outputs": [
    {
     "data": {
      "text/html": [
       "<div style=\"background-color: #EEFFEE;text-align: left;\">Pushed successfully to datasource <strong>Seeq Data Lab [Datasource ID: Seeq Data Lab]</strong> and scoped to workbook ID <strong>14D7B430-1897-4142-BA3C-3C2D8ADB9E1E</strong><br>Click the following link to see what you pushed in Seeq:<br><a href=\"http://localhost:34216/02057579-D52C-4352-B730-E9D4217162C5/workbook/14D7B430-1897-4142-BA3C-3C2D8ADB9E1E/worksheet/AA689371-A9DE-424B-9020-E3F8192FC6D2\" target=\"_new\">http://localhost:34216/02057579-D52C-4352-B730-E9D4217162C5/workbook/14D7B430-1897-4142-BA3C-3C2D8ADB9E1E/worksheet/AA689371-A9DE-424B-9020-E3F8192FC6D2</a></div>"
      ],
      "text/plain": [
       "<IPython.core.display.HTML object>"
      ]
     },
     "metadata": {},
     "output_type": "display_data"
    },
    {
     "data": {
      "text/html": [
       "<div>\n",
       "<style scoped>\n",
       "    .dataframe tbody tr th:only-of-type {\n",
       "        vertical-align: middle;\n",
       "    }\n",
       "\n",
       "    .dataframe tbody tr th {\n",
       "        vertical-align: top;\n",
       "    }\n",
       "\n",
       "    .dataframe thead th {\n",
       "        text-align: right;\n",
       "    }\n",
       "</style>\n",
       "<table border=\"1\" class=\"dataframe\">\n",
       "  <thead>\n",
       "    <tr style=\"text-align: right;\">\n",
       "      <th></th>\n",
       "      <th>ID</th>\n",
       "      <th>Referenced ID</th>\n",
       "      <th>Path</th>\n",
       "      <th>Name</th>\n",
       "      <th>Type</th>\n",
       "      <th>Depth</th>\n",
       "      <th>Description</th>\n",
       "      <th>Formula</th>\n",
       "      <th>Formula Parameters</th>\n",
       "      <th>Roll Up Statistic</th>\n",
       "      <th>...</th>\n",
       "      <th>Number Format</th>\n",
       "      <th>Measured Item</th>\n",
       "      <th>Metric Neutral Color</th>\n",
       "      <th>Period</th>\n",
       "      <th>Process Type</th>\n",
       "      <th>Thresholds</th>\n",
       "      <th>Datasource Class</th>\n",
       "      <th>Datasource ID</th>\n",
       "      <th>Data ID</th>\n",
       "      <th>Push Result</th>\n",
       "    </tr>\n",
       "  </thead>\n",
       "  <tbody>\n",
       "    <tr>\n",
       "      <th>0</th>\n",
       "      <td>00C74254-C493-4B44-A76B-DED39FCA42B8</td>\n",
       "      <td>NaN</td>\n",
       "      <td></td>\n",
       "      <td>My CSV Tree</td>\n",
       "      <td>Asset</td>\n",
       "      <td>1</td>\n",
       "      <td>NaN</td>\n",
       "      <td>NaN</td>\n",
       "      <td>NaN</td>\n",
       "      <td>NaN</td>\n",
       "      <td>...</td>\n",
       "      <td>NaN</td>\n",
       "      <td>NaN</td>\n",
       "      <td>NaN</td>\n",
       "      <td>NaN</td>\n",
       "      <td>NaN</td>\n",
       "      <td>NaN</td>\n",
       "      <td>Seeq Data Lab</td>\n",
       "      <td>Seeq Data Lab</td>\n",
       "      <td>[14D7B430-1897-4142-BA3C-3C2D8ADB9E1E] {Asset}...</td>\n",
       "      <td>Success</td>\n",
       "    </tr>\n",
       "    <tr>\n",
       "      <th>1</th>\n",
       "      <td>6F228D2E-3B45-4320-B0C9-BDFDD13C4A95</td>\n",
       "      <td>NaN</td>\n",
       "      <td>My CSV Tree</td>\n",
       "      <td>Cooling Tower 1</td>\n",
       "      <td>Asset</td>\n",
       "      <td>2</td>\n",
       "      <td>NaN</td>\n",
       "      <td>NaN</td>\n",
       "      <td>NaN</td>\n",
       "      <td>NaN</td>\n",
       "      <td>...</td>\n",
       "      <td>NaN</td>\n",
       "      <td>NaN</td>\n",
       "      <td>NaN</td>\n",
       "      <td>NaN</td>\n",
       "      <td>NaN</td>\n",
       "      <td>NaN</td>\n",
       "      <td>Seeq Data Lab</td>\n",
       "      <td>Seeq Data Lab</td>\n",
       "      <td>[14D7B430-1897-4142-BA3C-3C2D8ADB9E1E] {Asset}...</td>\n",
       "      <td>Success</td>\n",
       "    </tr>\n",
       "    <tr>\n",
       "      <th>2</th>\n",
       "      <td>EF8B8508-C23D-49A0-964A-DCB7D08D8839</td>\n",
       "      <td>NaN</td>\n",
       "      <td>My CSV Tree &gt;&gt; Cooling Tower 1</td>\n",
       "      <td>Area A</td>\n",
       "      <td>Asset</td>\n",
       "      <td>3</td>\n",
       "      <td>NaN</td>\n",
       "      <td>NaN</td>\n",
       "      <td>NaN</td>\n",
       "      <td>NaN</td>\n",
       "      <td>...</td>\n",
       "      <td>NaN</td>\n",
       "      <td>NaN</td>\n",
       "      <td>NaN</td>\n",
       "      <td>NaN</td>\n",
       "      <td>NaN</td>\n",
       "      <td>NaN</td>\n",
       "      <td>Seeq Data Lab</td>\n",
       "      <td>Seeq Data Lab</td>\n",
       "      <td>[14D7B430-1897-4142-BA3C-3C2D8ADB9E1E] {Asset}...</td>\n",
       "      <td>Success</td>\n",
       "    </tr>\n",
       "    <tr>\n",
       "      <th>3</th>\n",
       "      <td>4BE60E29-D3B2-40A8-96D1-25445EEB0429</td>\n",
       "      <td>NaN</td>\n",
       "      <td>My CSV Tree &gt;&gt; Cooling Tower 1 &gt;&gt; Area A</td>\n",
       "      <td>Dew Point</td>\n",
       "      <td>CalculatedSignal</td>\n",
       "      <td>4</td>\n",
       "      <td>NaN</td>\n",
       "      <td>$t - ((100 - $rh.setUnits(\"\"))/5)</td>\n",
       "      <td>[rh=72CF3AB6-6F0F-44D9-BB32-ECCCE5EB5437, t=01...</td>\n",
       "      <td>NaN</td>\n",
       "      <td>...</td>\n",
       "      <td>NaN</td>\n",
       "      <td>NaN</td>\n",
       "      <td>NaN</td>\n",
       "      <td>NaN</td>\n",
       "      <td>NaN</td>\n",
       "      <td>NaN</td>\n",
       "      <td>Seeq Data Lab</td>\n",
       "      <td>Seeq Data Lab</td>\n",
       "      <td>[14D7B430-1897-4142-BA3C-3C2D8ADB9E1E] {Signal...</td>\n",
       "      <td>Success</td>\n",
       "    </tr>\n",
       "    <tr>\n",
       "      <th>4</th>\n",
       "      <td>72CF3AB6-6F0F-44D9-BB32-ECCCE5EB5437</td>\n",
       "      <td>CB2A3329-F26E-4718-BF9F-288DB4330B3F</td>\n",
       "      <td>My CSV Tree &gt;&gt; Cooling Tower 1 &gt;&gt; Area A</td>\n",
       "      <td>Relative Humidity</td>\n",
       "      <td>CalculatedSignal</td>\n",
       "      <td>4</td>\n",
       "      <td>NaN</td>\n",
       "      <td>$signal</td>\n",
       "      <td>[signal=CB2A3329-F26E-4718-BF9F-288DB4330B3F]</td>\n",
       "      <td>NaN</td>\n",
       "      <td>...</td>\n",
       "      <td>NaN</td>\n",
       "      <td>NaN</td>\n",
       "      <td>NaN</td>\n",
       "      <td>NaN</td>\n",
       "      <td>NaN</td>\n",
       "      <td>NaN</td>\n",
       "      <td>Seeq Data Lab</td>\n",
       "      <td>Seeq Data Lab</td>\n",
       "      <td>[14D7B430-1897-4142-BA3C-3C2D8ADB9E1E] {Signal...</td>\n",
       "      <td>Success</td>\n",
       "    </tr>\n",
       "    <tr>\n",
       "      <th>5</th>\n",
       "      <td>012DA005-C2F1-44CB-A5AE-9C2DC4CCBDB9</td>\n",
       "      <td>896D85D7-A606-43F3-958B-E1FCF98BD619</td>\n",
       "      <td>My CSV Tree &gt;&gt; Cooling Tower 1 &gt;&gt; Area A</td>\n",
       "      <td>Temperature</td>\n",
       "      <td>CalculatedSignal</td>\n",
       "      <td>4</td>\n",
       "      <td>NaN</td>\n",
       "      <td>$signal</td>\n",
       "      <td>[signal=896D85D7-A606-43F3-958B-E1FCF98BD619]</td>\n",
       "      <td>NaN</td>\n",
       "      <td>...</td>\n",
       "      <td>NaN</td>\n",
       "      <td>NaN</td>\n",
       "      <td>NaN</td>\n",
       "      <td>NaN</td>\n",
       "      <td>NaN</td>\n",
       "      <td>NaN</td>\n",
       "      <td>Seeq Data Lab</td>\n",
       "      <td>Seeq Data Lab</td>\n",
       "      <td>[14D7B430-1897-4142-BA3C-3C2D8ADB9E1E] {Signal...</td>\n",
       "      <td>Success</td>\n",
       "    </tr>\n",
       "    <tr>\n",
       "      <th>6</th>\n",
       "      <td>4FE16058-DC12-4636-A057-BDC8624D6935</td>\n",
       "      <td>NaN</td>\n",
       "      <td>My CSV Tree &gt;&gt; Cooling Tower 1</td>\n",
       "      <td>Area B</td>\n",
       "      <td>Asset</td>\n",
       "      <td>3</td>\n",
       "      <td>NaN</td>\n",
       "      <td>NaN</td>\n",
       "      <td>NaN</td>\n",
       "      <td>NaN</td>\n",
       "      <td>...</td>\n",
       "      <td>NaN</td>\n",
       "      <td>NaN</td>\n",
       "      <td>NaN</td>\n",
       "      <td>NaN</td>\n",
       "      <td>NaN</td>\n",
       "      <td>NaN</td>\n",
       "      <td>Seeq Data Lab</td>\n",
       "      <td>Seeq Data Lab</td>\n",
       "      <td>[14D7B430-1897-4142-BA3C-3C2D8ADB9E1E] {Asset}...</td>\n",
       "      <td>Success</td>\n",
       "    </tr>\n",
       "    <tr>\n",
       "      <th>7</th>\n",
       "      <td>C4C315C0-71CA-499C-A62B-AAFBBC8CE8AC</td>\n",
       "      <td>NaN</td>\n",
       "      <td>My CSV Tree &gt;&gt; Cooling Tower 1 &gt;&gt; Area B</td>\n",
       "      <td>Dew Point</td>\n",
       "      <td>CalculatedSignal</td>\n",
       "      <td>4</td>\n",
       "      <td>NaN</td>\n",
       "      <td>$t - ((100 - $rh.setUnits(\"\"))/5)</td>\n",
       "      <td>[rh=42BE47E5-1AE6-413D-8BBB-91D4110FE33F, t=AD...</td>\n",
       "      <td>NaN</td>\n",
       "      <td>...</td>\n",
       "      <td>NaN</td>\n",
       "      <td>NaN</td>\n",
       "      <td>NaN</td>\n",
       "      <td>NaN</td>\n",
       "      <td>NaN</td>\n",
       "      <td>NaN</td>\n",
       "      <td>Seeq Data Lab</td>\n",
       "      <td>Seeq Data Lab</td>\n",
       "      <td>[14D7B430-1897-4142-BA3C-3C2D8ADB9E1E] {Signal...</td>\n",
       "      <td>Success</td>\n",
       "    </tr>\n",
       "    <tr>\n",
       "      <th>8</th>\n",
       "      <td>42BE47E5-1AE6-413D-8BBB-91D4110FE33F</td>\n",
       "      <td>EA5AB24B-32AA-4BFB-A276-669D5D1F3952</td>\n",
       "      <td>My CSV Tree &gt;&gt; Cooling Tower 1 &gt;&gt; Area B</td>\n",
       "      <td>Relative Humidity</td>\n",
       "      <td>CalculatedSignal</td>\n",
       "      <td>4</td>\n",
       "      <td>NaN</td>\n",
       "      <td>$signal</td>\n",
       "      <td>[signal=EA5AB24B-32AA-4BFB-A276-669D5D1F3952]</td>\n",
       "      <td>NaN</td>\n",
       "      <td>...</td>\n",
       "      <td>NaN</td>\n",
       "      <td>NaN</td>\n",
       "      <td>NaN</td>\n",
       "      <td>NaN</td>\n",
       "      <td>NaN</td>\n",
       "      <td>NaN</td>\n",
       "      <td>Seeq Data Lab</td>\n",
       "      <td>Seeq Data Lab</td>\n",
       "      <td>[14D7B430-1897-4142-BA3C-3C2D8ADB9E1E] {Signal...</td>\n",
       "      <td>Success</td>\n",
       "    </tr>\n",
       "    <tr>\n",
       "      <th>9</th>\n",
       "      <td>ADFC8C3E-BEF1-4B71-8121-FBBCCB188F56</td>\n",
       "      <td>BA63FFB6-A6BE-4844-8394-2709F4D63B57</td>\n",
       "      <td>My CSV Tree &gt;&gt; Cooling Tower 1 &gt;&gt; Area B</td>\n",
       "      <td>Temperature</td>\n",
       "      <td>CalculatedSignal</td>\n",
       "      <td>4</td>\n",
       "      <td>NaN</td>\n",
       "      <td>$signal</td>\n",
       "      <td>[signal=BA63FFB6-A6BE-4844-8394-2709F4D63B57]</td>\n",
       "      <td>NaN</td>\n",
       "      <td>...</td>\n",
       "      <td>NaN</td>\n",
       "      <td>NaN</td>\n",
       "      <td>NaN</td>\n",
       "      <td>NaN</td>\n",
       "      <td>NaN</td>\n",
       "      <td>NaN</td>\n",
       "      <td>Seeq Data Lab</td>\n",
       "      <td>Seeq Data Lab</td>\n",
       "      <td>[14D7B430-1897-4142-BA3C-3C2D8ADB9E1E] {Signal...</td>\n",
       "      <td>Success</td>\n",
       "    </tr>\n",
       "    <tr>\n",
       "      <th>10</th>\n",
       "      <td>EA0E6510-7222-4A50-94E2-07146102ADA9</td>\n",
       "      <td>NaN</td>\n",
       "      <td>My CSV Tree</td>\n",
       "      <td>Cooling Tower 2</td>\n",
       "      <td>Asset</td>\n",
       "      <td>2</td>\n",
       "      <td>NaN</td>\n",
       "      <td>NaN</td>\n",
       "      <td>NaN</td>\n",
       "      <td>NaN</td>\n",
       "      <td>...</td>\n",
       "      <td>NaN</td>\n",
       "      <td>NaN</td>\n",
       "      <td>NaN</td>\n",
       "      <td>NaN</td>\n",
       "      <td>NaN</td>\n",
       "      <td>NaN</td>\n",
       "      <td>Seeq Data Lab</td>\n",
       "      <td>Seeq Data Lab</td>\n",
       "      <td>[14D7B430-1897-4142-BA3C-3C2D8ADB9E1E] {Asset}...</td>\n",
       "      <td>Success</td>\n",
       "    </tr>\n",
       "    <tr>\n",
       "      <th>11</th>\n",
       "      <td>941C577F-38FE-46C0-88EF-2490ECDCE0F9</td>\n",
       "      <td>NaN</td>\n",
       "      <td>My CSV Tree &gt;&gt; Cooling Tower 2</td>\n",
       "      <td>Area D</td>\n",
       "      <td>Asset</td>\n",
       "      <td>3</td>\n",
       "      <td>NaN</td>\n",
       "      <td>NaN</td>\n",
       "      <td>NaN</td>\n",
       "      <td>NaN</td>\n",
       "      <td>...</td>\n",
       "      <td>NaN</td>\n",
       "      <td>NaN</td>\n",
       "      <td>NaN</td>\n",
       "      <td>NaN</td>\n",
       "      <td>NaN</td>\n",
       "      <td>NaN</td>\n",
       "      <td>Seeq Data Lab</td>\n",
       "      <td>Seeq Data Lab</td>\n",
       "      <td>[14D7B430-1897-4142-BA3C-3C2D8ADB9E1E] {Asset}...</td>\n",
       "      <td>Success</td>\n",
       "    </tr>\n",
       "    <tr>\n",
       "      <th>12</th>\n",
       "      <td>D98F1FDC-7BAD-404D-BE63-C8FB685A7ECD</td>\n",
       "      <td>NaN</td>\n",
       "      <td>My CSV Tree &gt;&gt; Cooling Tower 2 &gt;&gt; Area D</td>\n",
       "      <td>Dew Point</td>\n",
       "      <td>CalculatedSignal</td>\n",
       "      <td>4</td>\n",
       "      <td>NaN</td>\n",
       "      <td>$t - ((100 - $rh.setUnits(\"\"))/5)</td>\n",
       "      <td>[rh=896E1A5A-74BB-4E27-A4BC-7D6FA398FA05, t=6F...</td>\n",
       "      <td>NaN</td>\n",
       "      <td>...</td>\n",
       "      <td>NaN</td>\n",
       "      <td>NaN</td>\n",
       "      <td>NaN</td>\n",
       "      <td>NaN</td>\n",
       "      <td>NaN</td>\n",
       "      <td>NaN</td>\n",
       "      <td>Seeq Data Lab</td>\n",
       "      <td>Seeq Data Lab</td>\n",
       "      <td>[14D7B430-1897-4142-BA3C-3C2D8ADB9E1E] {Signal...</td>\n",
       "      <td>Success</td>\n",
       "    </tr>\n",
       "    <tr>\n",
       "      <th>13</th>\n",
       "      <td>896E1A5A-74BB-4E27-A4BC-7D6FA398FA05</td>\n",
       "      <td>BC097E60-9307-4669-ABE6-D2A2159D9394</td>\n",
       "      <td>My CSV Tree &gt;&gt; Cooling Tower 2 &gt;&gt; Area D</td>\n",
       "      <td>Relative Humidity</td>\n",
       "      <td>CalculatedSignal</td>\n",
       "      <td>4</td>\n",
       "      <td>NaN</td>\n",
       "      <td>$signal</td>\n",
       "      <td>[signal=BC097E60-9307-4669-ABE6-D2A2159D9394]</td>\n",
       "      <td>NaN</td>\n",
       "      <td>...</td>\n",
       "      <td>NaN</td>\n",
       "      <td>NaN</td>\n",
       "      <td>NaN</td>\n",
       "      <td>NaN</td>\n",
       "      <td>NaN</td>\n",
       "      <td>NaN</td>\n",
       "      <td>Seeq Data Lab</td>\n",
       "      <td>Seeq Data Lab</td>\n",
       "      <td>[14D7B430-1897-4142-BA3C-3C2D8ADB9E1E] {Signal...</td>\n",
       "      <td>Success</td>\n",
       "    </tr>\n",
       "    <tr>\n",
       "      <th>14</th>\n",
       "      <td>6F089784-98AF-4DEC-8721-688A6C5067A8</td>\n",
       "      <td>72971C0C-08A0-40BC-84AF-828FA707E81E</td>\n",
       "      <td>My CSV Tree &gt;&gt; Cooling Tower 2 &gt;&gt; Area D</td>\n",
       "      <td>Temperature</td>\n",
       "      <td>CalculatedSignal</td>\n",
       "      <td>4</td>\n",
       "      <td>NaN</td>\n",
       "      <td>$signal</td>\n",
       "      <td>[signal=72971C0C-08A0-40BC-84AF-828FA707E81E]</td>\n",
       "      <td>NaN</td>\n",
       "      <td>...</td>\n",
       "      <td>NaN</td>\n",
       "      <td>NaN</td>\n",
       "      <td>NaN</td>\n",
       "      <td>NaN</td>\n",
       "      <td>NaN</td>\n",
       "      <td>NaN</td>\n",
       "      <td>Seeq Data Lab</td>\n",
       "      <td>Seeq Data Lab</td>\n",
       "      <td>[14D7B430-1897-4142-BA3C-3C2D8ADB9E1E] {Signal...</td>\n",
       "      <td>Success</td>\n",
       "    </tr>\n",
       "    <tr>\n",
       "      <th>15</th>\n",
       "      <td>9E7A8B7F-CD25-43A1-A4ED-BD6CE8037225</td>\n",
       "      <td>NaN</td>\n",
       "      <td>My CSV Tree &gt;&gt; Cooling Tower 2</td>\n",
       "      <td>Area E</td>\n",
       "      <td>Asset</td>\n",
       "      <td>3</td>\n",
       "      <td>NaN</td>\n",
       "      <td>NaN</td>\n",
       "      <td>NaN</td>\n",
       "      <td>NaN</td>\n",
       "      <td>...</td>\n",
       "      <td>NaN</td>\n",
       "      <td>NaN</td>\n",
       "      <td>NaN</td>\n",
       "      <td>NaN</td>\n",
       "      <td>NaN</td>\n",
       "      <td>NaN</td>\n",
       "      <td>Seeq Data Lab</td>\n",
       "      <td>Seeq Data Lab</td>\n",
       "      <td>[14D7B430-1897-4142-BA3C-3C2D8ADB9E1E] {Asset}...</td>\n",
       "      <td>Success</td>\n",
       "    </tr>\n",
       "    <tr>\n",
       "      <th>16</th>\n",
       "      <td>975E5316-84F0-4CC6-97A2-8E6A50825F21</td>\n",
       "      <td>NaN</td>\n",
       "      <td>My CSV Tree &gt;&gt; Cooling Tower 2 &gt;&gt; Area E</td>\n",
       "      <td>Dew Point</td>\n",
       "      <td>CalculatedSignal</td>\n",
       "      <td>4</td>\n",
       "      <td>NaN</td>\n",
       "      <td>$t - ((100 - $rh.setUnits(\"\"))/5)</td>\n",
       "      <td>[rh=F752D51A-7F5B-44B5-9F9C-2CC0CA5B40EA, t=9B...</td>\n",
       "      <td>NaN</td>\n",
       "      <td>...</td>\n",
       "      <td>NaN</td>\n",
       "      <td>NaN</td>\n",
       "      <td>NaN</td>\n",
       "      <td>NaN</td>\n",
       "      <td>NaN</td>\n",
       "      <td>NaN</td>\n",
       "      <td>Seeq Data Lab</td>\n",
       "      <td>Seeq Data Lab</td>\n",
       "      <td>[14D7B430-1897-4142-BA3C-3C2D8ADB9E1E] {Signal...</td>\n",
       "      <td>Success</td>\n",
       "    </tr>\n",
       "    <tr>\n",
       "      <th>17</th>\n",
       "      <td>F752D51A-7F5B-44B5-9F9C-2CC0CA5B40EA</td>\n",
       "      <td>7BEEF4F5-2A60-471E-BB2E-DD58CC205763</td>\n",
       "      <td>My CSV Tree &gt;&gt; Cooling Tower 2 &gt;&gt; Area E</td>\n",
       "      <td>Relative Humidity</td>\n",
       "      <td>CalculatedSignal</td>\n",
       "      <td>4</td>\n",
       "      <td>NaN</td>\n",
       "      <td>$signal</td>\n",
       "      <td>[signal=7BEEF4F5-2A60-471E-BB2E-DD58CC205763]</td>\n",
       "      <td>NaN</td>\n",
       "      <td>...</td>\n",
       "      <td>NaN</td>\n",
       "      <td>NaN</td>\n",
       "      <td>NaN</td>\n",
       "      <td>NaN</td>\n",
       "      <td>NaN</td>\n",
       "      <td>NaN</td>\n",
       "      <td>Seeq Data Lab</td>\n",
       "      <td>Seeq Data Lab</td>\n",
       "      <td>[14D7B430-1897-4142-BA3C-3C2D8ADB9E1E] {Signal...</td>\n",
       "      <td>Success</td>\n",
       "    </tr>\n",
       "    <tr>\n",
       "      <th>18</th>\n",
       "      <td>9BE8952D-E44E-4EF6-ADFD-CB9EE02E9ECD</td>\n",
       "      <td>29EA9D4E-1EB7-4C06-9244-2BB34096FCF9</td>\n",
       "      <td>My CSV Tree &gt;&gt; Cooling Tower 2 &gt;&gt; Area E</td>\n",
       "      <td>Temperature</td>\n",
       "      <td>CalculatedSignal</td>\n",
       "      <td>4</td>\n",
       "      <td>NaN</td>\n",
       "      <td>$signal</td>\n",
       "      <td>[signal=29EA9D4E-1EB7-4C06-9244-2BB34096FCF9]</td>\n",
       "      <td>NaN</td>\n",
       "      <td>...</td>\n",
       "      <td>NaN</td>\n",
       "      <td>NaN</td>\n",
       "      <td>NaN</td>\n",
       "      <td>NaN</td>\n",
       "      <td>NaN</td>\n",
       "      <td>NaN</td>\n",
       "      <td>Seeq Data Lab</td>\n",
       "      <td>Seeq Data Lab</td>\n",
       "      <td>[14D7B430-1897-4142-BA3C-3C2D8ADB9E1E] {Signal...</td>\n",
       "      <td>Success</td>\n",
       "    </tr>\n",
       "  </tbody>\n",
       "</table>\n",
       "<p>19 rows × 26 columns</p>\n",
       "</div>"
      ],
      "text/plain": [
       "                                      ID  \\\n",
       "0   00C74254-C493-4B44-A76B-DED39FCA42B8   \n",
       "1   6F228D2E-3B45-4320-B0C9-BDFDD13C4A95   \n",
       "2   EF8B8508-C23D-49A0-964A-DCB7D08D8839   \n",
       "3   4BE60E29-D3B2-40A8-96D1-25445EEB0429   \n",
       "4   72CF3AB6-6F0F-44D9-BB32-ECCCE5EB5437   \n",
       "5   012DA005-C2F1-44CB-A5AE-9C2DC4CCBDB9   \n",
       "6   4FE16058-DC12-4636-A057-BDC8624D6935   \n",
       "7   C4C315C0-71CA-499C-A62B-AAFBBC8CE8AC   \n",
       "8   42BE47E5-1AE6-413D-8BBB-91D4110FE33F   \n",
       "9   ADFC8C3E-BEF1-4B71-8121-FBBCCB188F56   \n",
       "10  EA0E6510-7222-4A50-94E2-07146102ADA9   \n",
       "11  941C577F-38FE-46C0-88EF-2490ECDCE0F9   \n",
       "12  D98F1FDC-7BAD-404D-BE63-C8FB685A7ECD   \n",
       "13  896E1A5A-74BB-4E27-A4BC-7D6FA398FA05   \n",
       "14  6F089784-98AF-4DEC-8721-688A6C5067A8   \n",
       "15  9E7A8B7F-CD25-43A1-A4ED-BD6CE8037225   \n",
       "16  975E5316-84F0-4CC6-97A2-8E6A50825F21   \n",
       "17  F752D51A-7F5B-44B5-9F9C-2CC0CA5B40EA   \n",
       "18  9BE8952D-E44E-4EF6-ADFD-CB9EE02E9ECD   \n",
       "\n",
       "                           Referenced ID  \\\n",
       "0                                    NaN   \n",
       "1                                    NaN   \n",
       "2                                    NaN   \n",
       "3                                    NaN   \n",
       "4   CB2A3329-F26E-4718-BF9F-288DB4330B3F   \n",
       "5   896D85D7-A606-43F3-958B-E1FCF98BD619   \n",
       "6                                    NaN   \n",
       "7                                    NaN   \n",
       "8   EA5AB24B-32AA-4BFB-A276-669D5D1F3952   \n",
       "9   BA63FFB6-A6BE-4844-8394-2709F4D63B57   \n",
       "10                                   NaN   \n",
       "11                                   NaN   \n",
       "12                                   NaN   \n",
       "13  BC097E60-9307-4669-ABE6-D2A2159D9394   \n",
       "14  72971C0C-08A0-40BC-84AF-828FA707E81E   \n",
       "15                                   NaN   \n",
       "16                                   NaN   \n",
       "17  7BEEF4F5-2A60-471E-BB2E-DD58CC205763   \n",
       "18  29EA9D4E-1EB7-4C06-9244-2BB34096FCF9   \n",
       "\n",
       "                                        Path               Name  \\\n",
       "0                                                   My CSV Tree   \n",
       "1                                My CSV Tree    Cooling Tower 1   \n",
       "2             My CSV Tree >> Cooling Tower 1             Area A   \n",
       "3   My CSV Tree >> Cooling Tower 1 >> Area A          Dew Point   \n",
       "4   My CSV Tree >> Cooling Tower 1 >> Area A  Relative Humidity   \n",
       "5   My CSV Tree >> Cooling Tower 1 >> Area A        Temperature   \n",
       "6             My CSV Tree >> Cooling Tower 1             Area B   \n",
       "7   My CSV Tree >> Cooling Tower 1 >> Area B          Dew Point   \n",
       "8   My CSV Tree >> Cooling Tower 1 >> Area B  Relative Humidity   \n",
       "9   My CSV Tree >> Cooling Tower 1 >> Area B        Temperature   \n",
       "10                               My CSV Tree    Cooling Tower 2   \n",
       "11            My CSV Tree >> Cooling Tower 2             Area D   \n",
       "12  My CSV Tree >> Cooling Tower 2 >> Area D          Dew Point   \n",
       "13  My CSV Tree >> Cooling Tower 2 >> Area D  Relative Humidity   \n",
       "14  My CSV Tree >> Cooling Tower 2 >> Area D        Temperature   \n",
       "15            My CSV Tree >> Cooling Tower 2             Area E   \n",
       "16  My CSV Tree >> Cooling Tower 2 >> Area E          Dew Point   \n",
       "17  My CSV Tree >> Cooling Tower 2 >> Area E  Relative Humidity   \n",
       "18  My CSV Tree >> Cooling Tower 2 >> Area E        Temperature   \n",
       "\n",
       "                Type Depth Description                            Formula  \\\n",
       "0              Asset     1         NaN                                NaN   \n",
       "1              Asset     2         NaN                                NaN   \n",
       "2              Asset     3         NaN                                NaN   \n",
       "3   CalculatedSignal     4         NaN  $t - ((100 - $rh.setUnits(\"\"))/5)   \n",
       "4   CalculatedSignal     4         NaN                            $signal   \n",
       "5   CalculatedSignal     4         NaN                            $signal   \n",
       "6              Asset     3         NaN                                NaN   \n",
       "7   CalculatedSignal     4         NaN  $t - ((100 - $rh.setUnits(\"\"))/5)   \n",
       "8   CalculatedSignal     4         NaN                            $signal   \n",
       "9   CalculatedSignal     4         NaN                            $signal   \n",
       "10             Asset     2         NaN                                NaN   \n",
       "11             Asset     3         NaN                                NaN   \n",
       "12  CalculatedSignal     4         NaN  $t - ((100 - $rh.setUnits(\"\"))/5)   \n",
       "13  CalculatedSignal     4         NaN                            $signal   \n",
       "14  CalculatedSignal     4         NaN                            $signal   \n",
       "15             Asset     3         NaN                                NaN   \n",
       "16  CalculatedSignal     4         NaN  $t - ((100 - $rh.setUnits(\"\"))/5)   \n",
       "17  CalculatedSignal     4         NaN                            $signal   \n",
       "18  CalculatedSignal     4         NaN                            $signal   \n",
       "\n",
       "                                   Formula Parameters Roll Up Statistic  ...  \\\n",
       "0                                                 NaN               NaN  ...   \n",
       "1                                                 NaN               NaN  ...   \n",
       "2                                                 NaN               NaN  ...   \n",
       "3   [rh=72CF3AB6-6F0F-44D9-BB32-ECCCE5EB5437, t=01...               NaN  ...   \n",
       "4       [signal=CB2A3329-F26E-4718-BF9F-288DB4330B3F]               NaN  ...   \n",
       "5       [signal=896D85D7-A606-43F3-958B-E1FCF98BD619]               NaN  ...   \n",
       "6                                                 NaN               NaN  ...   \n",
       "7   [rh=42BE47E5-1AE6-413D-8BBB-91D4110FE33F, t=AD...               NaN  ...   \n",
       "8       [signal=EA5AB24B-32AA-4BFB-A276-669D5D1F3952]               NaN  ...   \n",
       "9       [signal=BA63FFB6-A6BE-4844-8394-2709F4D63B57]               NaN  ...   \n",
       "10                                                NaN               NaN  ...   \n",
       "11                                                NaN               NaN  ...   \n",
       "12  [rh=896E1A5A-74BB-4E27-A4BC-7D6FA398FA05, t=6F...               NaN  ...   \n",
       "13      [signal=BC097E60-9307-4669-ABE6-D2A2159D9394]               NaN  ...   \n",
       "14      [signal=72971C0C-08A0-40BC-84AF-828FA707E81E]               NaN  ...   \n",
       "15                                                NaN               NaN  ...   \n",
       "16  [rh=F752D51A-7F5B-44B5-9F9C-2CC0CA5B40EA, t=9B...               NaN  ...   \n",
       "17      [signal=7BEEF4F5-2A60-471E-BB2E-DD58CC205763]               NaN  ...   \n",
       "18      [signal=29EA9D4E-1EB7-4C06-9244-2BB34096FCF9]               NaN  ...   \n",
       "\n",
       "   Number Format Measured Item Metric Neutral Color Period Process Type  \\\n",
       "0            NaN           NaN                  NaN    NaN          NaN   \n",
       "1            NaN           NaN                  NaN    NaN          NaN   \n",
       "2            NaN           NaN                  NaN    NaN          NaN   \n",
       "3            NaN           NaN                  NaN    NaN          NaN   \n",
       "4            NaN           NaN                  NaN    NaN          NaN   \n",
       "5            NaN           NaN                  NaN    NaN          NaN   \n",
       "6            NaN           NaN                  NaN    NaN          NaN   \n",
       "7            NaN           NaN                  NaN    NaN          NaN   \n",
       "8            NaN           NaN                  NaN    NaN          NaN   \n",
       "9            NaN           NaN                  NaN    NaN          NaN   \n",
       "10           NaN           NaN                  NaN    NaN          NaN   \n",
       "11           NaN           NaN                  NaN    NaN          NaN   \n",
       "12           NaN           NaN                  NaN    NaN          NaN   \n",
       "13           NaN           NaN                  NaN    NaN          NaN   \n",
       "14           NaN           NaN                  NaN    NaN          NaN   \n",
       "15           NaN           NaN                  NaN    NaN          NaN   \n",
       "16           NaN           NaN                  NaN    NaN          NaN   \n",
       "17           NaN           NaN                  NaN    NaN          NaN   \n",
       "18           NaN           NaN                  NaN    NaN          NaN   \n",
       "\n",
       "   Thresholds Datasource Class  Datasource ID  \\\n",
       "0         NaN    Seeq Data Lab  Seeq Data Lab   \n",
       "1         NaN    Seeq Data Lab  Seeq Data Lab   \n",
       "2         NaN    Seeq Data Lab  Seeq Data Lab   \n",
       "3         NaN    Seeq Data Lab  Seeq Data Lab   \n",
       "4         NaN    Seeq Data Lab  Seeq Data Lab   \n",
       "5         NaN    Seeq Data Lab  Seeq Data Lab   \n",
       "6         NaN    Seeq Data Lab  Seeq Data Lab   \n",
       "7         NaN    Seeq Data Lab  Seeq Data Lab   \n",
       "8         NaN    Seeq Data Lab  Seeq Data Lab   \n",
       "9         NaN    Seeq Data Lab  Seeq Data Lab   \n",
       "10        NaN    Seeq Data Lab  Seeq Data Lab   \n",
       "11        NaN    Seeq Data Lab  Seeq Data Lab   \n",
       "12        NaN    Seeq Data Lab  Seeq Data Lab   \n",
       "13        NaN    Seeq Data Lab  Seeq Data Lab   \n",
       "14        NaN    Seeq Data Lab  Seeq Data Lab   \n",
       "15        NaN    Seeq Data Lab  Seeq Data Lab   \n",
       "16        NaN    Seeq Data Lab  Seeq Data Lab   \n",
       "17        NaN    Seeq Data Lab  Seeq Data Lab   \n",
       "18        NaN    Seeq Data Lab  Seeq Data Lab   \n",
       "\n",
       "                                              Data ID Push Result  \n",
       "0   [14D7B430-1897-4142-BA3C-3C2D8ADB9E1E] {Asset}...     Success  \n",
       "1   [14D7B430-1897-4142-BA3C-3C2D8ADB9E1E] {Asset}...     Success  \n",
       "2   [14D7B430-1897-4142-BA3C-3C2D8ADB9E1E] {Asset}...     Success  \n",
       "3   [14D7B430-1897-4142-BA3C-3C2D8ADB9E1E] {Signal...     Success  \n",
       "4   [14D7B430-1897-4142-BA3C-3C2D8ADB9E1E] {Signal...     Success  \n",
       "5   [14D7B430-1897-4142-BA3C-3C2D8ADB9E1E] {Signal...     Success  \n",
       "6   [14D7B430-1897-4142-BA3C-3C2D8ADB9E1E] {Asset}...     Success  \n",
       "7   [14D7B430-1897-4142-BA3C-3C2D8ADB9E1E] {Signal...     Success  \n",
       "8   [14D7B430-1897-4142-BA3C-3C2D8ADB9E1E] {Signal...     Success  \n",
       "9   [14D7B430-1897-4142-BA3C-3C2D8ADB9E1E] {Signal...     Success  \n",
       "10  [14D7B430-1897-4142-BA3C-3C2D8ADB9E1E] {Asset}...     Success  \n",
       "11  [14D7B430-1897-4142-BA3C-3C2D8ADB9E1E] {Asset}...     Success  \n",
       "12  [14D7B430-1897-4142-BA3C-3C2D8ADB9E1E] {Signal...     Success  \n",
       "13  [14D7B430-1897-4142-BA3C-3C2D8ADB9E1E] {Signal...     Success  \n",
       "14  [14D7B430-1897-4142-BA3C-3C2D8ADB9E1E] {Signal...     Success  \n",
       "15  [14D7B430-1897-4142-BA3C-3C2D8ADB9E1E] {Asset}...     Success  \n",
       "16  [14D7B430-1897-4142-BA3C-3C2D8ADB9E1E] {Signal...     Success  \n",
       "17  [14D7B430-1897-4142-BA3C-3C2D8ADB9E1E] {Signal...     Success  \n",
       "18  [14D7B430-1897-4142-BA3C-3C2D8ADB9E1E] {Signal...     Success  \n",
       "\n",
       "[19 rows x 26 columns]"
      ]
     },
     "execution_count": 18,
     "metadata": {},
     "output_type": "execute_result"
    }
   ],
   "source": [
    "my_tree.push()\n",
    "my_csv_tree.push()"
   ]
  },
  {
   "cell_type": "markdown",
   "id": "loose-large",
   "metadata": {},
   "source": [
    "Tada! The link displayed in the output will take you to the workbook that now contains your asset tree."
   ]
  },
  {
   "cell_type": "markdown",
   "id": "square-surveillance",
   "metadata": {},
   "source": [
    "## Advanced Features\n",
    "\n",
    "### Inserting with Custom DataFrames\n",
    "\n",
    "For even more flexible insertions, you can provide any [Pandas DataFrame](https://pandas.pydata.org/pandas-docs/stable/user_guide/dsintro.html#dataframe) as input to the `children` argument. The features of the Pandas library can be harnessed to customize the path, name, formula, and properties of every item you are inserting into your tree."
   ]
  },
  {
   "cell_type": "code",
   "execution_count": 19,
   "id": "paperback-egyptian",
   "metadata": {},
   "outputs": [
    {
     "data": {
      "text/html": [
       "<div style=\"background-color: #EEFFEE;text-align: left;\">Successfully inserted items into the tree. The tree \"My Tree\" has height 4 and contains 4 assets, 3 signals, 1 calculation whose type has not yet been determined, and 1 condition.</div><table class=\"tex2jax_ignore\"><tr><td style=\"background-color: #EEFFEE;\"></td><td style=\"background-color: #EEFFEE; text-align: right;\">Assets Inserted</td><td style=\"background-color: #EEFFEE; text-align: right;\">Signals Inserted</td><td style=\"background-color: #EEFFEE; text-align: right;\">Conditions Inserted</td><td style=\"background-color: #EEFFEE; text-align: right;\">Scalars Inserted</td><td style=\"background-color: #EEFFEE; text-align: right;\">Metrics Inserted</td><td style=\"background-color: #EEFFEE; text-align: right;\">Total Items Inserted</td><td style=\"background-color: #EEFFEE; text-align: right;\">Items Pulled From Seeq</td><td style=\"background-color: #EEFFEE; text-align: right;\">Errors Encountered</td></tr><tr style=\"background-color: #EEFFEE;\"><td style=\"vertical-align: top;\">Status</td><td style=\"text-align: right; vertical-align: top;\">0</td><td style=\"text-align: right; vertical-align: top;\">1</td><td style=\"text-align: right; vertical-align: top;\">0</td><td style=\"text-align: right; vertical-align: top;\">0</td><td style=\"text-align: right; vertical-align: top;\">0</td><td style=\"text-align: right; vertical-align: top;\">2</td><td style=\"text-align: right; vertical-align: top;\">1</td><td style=\"text-align: right; vertical-align: top;\">0</td></tr></table>"
      ],
      "text/plain": [
       "<IPython.core.display.HTML object>"
      ]
     },
     "metadata": {},
     "output_type": "display_data"
    }
   ],
   "source": [
    "new_signals = pd.DataFrame([{\n",
    "    'Name': 'Relative Humidity',\n",
    "    'ID': spy.search({'Name': 'Area A_Relative Humidity', 'Datasource Name': 'Example Data'}).ID.squeeze(),\n",
    "    'Parent': 'Area A'\n",
    "}, {\n",
    "    'Name': 'Dew Point',\n",
    "    'Formula': '$t - ((100 - $RH.setUnits(\"\"))/5)',\n",
    "    'Formula Parameters': {'$t': 'Temperature', '$rh': 'Relative Humidity'},\n",
    "    'Parent': 'Area A'\n",
    "}])\n",
    "\n",
    "my_tree.insert(new_signals)"
   ]
  },
  {
   "cell_type": "markdown",
   "id": "similar-reflex",
   "metadata": {},
   "source": [
    "### Inserting Metrics\n",
    "\n",
    "Once your tree is defined with the data items you're interested in, you can add metrics to create tabular calculations.\n",
    "\n",
    "Metrics usually have more inputs than other types of tree items and therefore must be defined using a DataFrame. The required properties are the Name, Type ('Metric'), and a Measured Item. Like formula parameters for calculations, the Measured Item, Bounding Condition, and Thresholds can refer to other items in your tree.\n"
   ]
  },
  {
   "cell_type": "code",
   "execution_count": 20,
   "id": "sweet-justice",
   "metadata": {},
   "outputs": [
    {
     "data": {
      "text/html": [
       "<div style=\"background-color: #EEFFEE;text-align: left;\">Successfully inserted items into the tree. The tree \"My Tree\" has height 4 and contains 4 assets, 3 signals, 2 metrics, 1 calculation whose type has not yet been determined, and 1 condition.</div><table class=\"tex2jax_ignore\"><tr><td style=\"background-color: #EEFFEE;\"></td><td style=\"background-color: #EEFFEE; text-align: right;\">Assets Inserted</td><td style=\"background-color: #EEFFEE; text-align: right;\">Signals Inserted</td><td style=\"background-color: #EEFFEE; text-align: right;\">Conditions Inserted</td><td style=\"background-color: #EEFFEE; text-align: right;\">Scalars Inserted</td><td style=\"background-color: #EEFFEE; text-align: right;\">Metrics Inserted</td><td style=\"background-color: #EEFFEE; text-align: right;\">Total Items Inserted</td><td style=\"background-color: #EEFFEE; text-align: right;\">Items Pulled From Seeq</td><td style=\"background-color: #EEFFEE; text-align: right;\">Errors Encountered</td></tr><tr style=\"background-color: #EEFFEE;\"><td style=\"vertical-align: top;\">Status</td><td style=\"text-align: right; vertical-align: top;\">0</td><td style=\"text-align: right; vertical-align: top;\">0</td><td style=\"text-align: right; vertical-align: top;\">0</td><td style=\"text-align: right; vertical-align: top;\">0</td><td style=\"text-align: right; vertical-align: top;\">2</td><td style=\"text-align: right; vertical-align: top;\">2</td><td style=\"text-align: right; vertical-align: top;\">0</td><td style=\"text-align: right; vertical-align: top;\">0</td></tr></table>"
      ],
      "text/plain": [
       "<IPython.core.display.HTML object>"
      ]
     },
     "metadata": {},
     "output_type": "display_data"
    }
   ],
   "source": [
    "new_metrics = pd.DataFrame([{\n",
    "    'Name': 'Dew Point Hourly Average',\n",
    "    'Type': 'Metric',\n",
    "    'Parent': 'Area A',\n",
    "    'Measured Item': 'Dew Point',\n",
    "    'Statistic': 'Average',\n",
    "    'Duration': '1h',\n",
    "    'Period': '1h',\n",
    "}, {\n",
    "    'Name': 'Overheating Severity',\n",
    "    'Type': 'Metric',\n",
    "    'Parent': 'Area A',\n",
    "    'Measured Item': 'Dew Point',\n",
    "    'Aggregation Function': 'percentile(95)',\n",
    "    'Bounding Condition': 'Too Hot',\n",
    "    'Bounding Condition Maximum Duration': '48h',\n",
    "    'Metric Neutral Color': '#FFFFFF',\n",
    "    'Thresholds': {\n",
    "        'HiHiHi#FF0000': 95,\n",
    "        'HiHi': 'Temperature',\n",
    "        'Hi': 85\n",
    "    }\n",
    "}])\n",
    "\n",
    "my_tree.insert(new_metrics)"
   ]
  },
  {
   "cell_type": "markdown",
   "id": "fallen-uganda",
   "metadata": {},
   "source": [
    "### Inserting Roll-up Calculations\n",
    "\n",
    "*Roll-up calculations* are a great way to evaluate summary statistics across multiple assets in your tree in order to monitor the health and performance of your assets. To insert a roll-up calculation, use the `roll_up_statistic` and `roll_up_parameters` inputs to the `insert()` function."
   ]
  },
  {
   "cell_type": "code",
   "execution_count": 21,
   "id": "discrete-differential",
   "metadata": {},
   "outputs": [
    {
     "data": {
      "text/html": [
       "<div style=\"background-color: #EEFFEE;text-align: left;\">Successfully inserted items into the tree. The tree \"My CSV Tree\" has height 4 and contains 12 signals, 7 assets, and 2 calculations whose types have not yet been determined.</div><table class=\"tex2jax_ignore\"><tr><td style=\"background-color: #EEFFEE;\"></td><td style=\"background-color: #EEFFEE; text-align: right;\">Assets Inserted</td><td style=\"background-color: #EEFFEE; text-align: right;\">Signals Inserted</td><td style=\"background-color: #EEFFEE; text-align: right;\">Conditions Inserted</td><td style=\"background-color: #EEFFEE; text-align: right;\">Scalars Inserted</td><td style=\"background-color: #EEFFEE; text-align: right;\">Metrics Inserted</td><td style=\"background-color: #EEFFEE; text-align: right;\">Total Items Inserted</td><td style=\"background-color: #EEFFEE; text-align: right;\">Items Pulled From Seeq</td><td style=\"background-color: #EEFFEE; text-align: right;\">Errors Encountered</td></tr><tr style=\"background-color: #EEFFEE;\"><td style=\"vertical-align: top;\">Status</td><td style=\"text-align: right; vertical-align: top;\">0</td><td style=\"text-align: right; vertical-align: top;\">0</td><td style=\"text-align: right; vertical-align: top;\">0</td><td style=\"text-align: right; vertical-align: top;\">0</td><td style=\"text-align: right; vertical-align: top;\">0</td><td style=\"text-align: right; vertical-align: top;\">2</td><td style=\"text-align: right; vertical-align: top;\">0</td><td style=\"text-align: right; vertical-align: top;\">0</td></tr></table>"
      ],
      "text/plain": [
       "<IPython.core.display.HTML object>"
      ]
     },
     "metadata": {},
     "output_type": "display_data"
    },
    {
     "name": "stdout",
     "output_type": "stream",
     "text": [
      "My CSV Tree\n",
      "|-- Cooling Tower 1\n",
      "|   |-- Area A\n",
      "|   |   |-- Dew Point\n",
      "|   |   |-- Relative Humidity\n",
      "|   |   |-- Temperature\n",
      "|   |-- Area B\n",
      "|   |   |-- Dew Point\n",
      "|   |   |-- Relative Humidity\n",
      "|   |   |-- Temperature\n",
      "|   |-- Average Temperature of All Areas\n",
      "|-- Cooling Tower 2\n",
      "    |-- Area D\n",
      "    |   |-- Dew Point\n",
      "    |   |-- Relative Humidity\n",
      "    |   |-- Temperature\n",
      "    |-- Area E\n",
      "    |   |-- Dew Point\n",
      "    |   |-- Relative Humidity\n",
      "    |   |-- Temperature\n",
      "    |-- Average Temperature of All Areas\n"
     ]
    }
   ],
   "source": [
    "my_csv_tree.insert(name='Average Temperature of All Areas',\n",
    "                   roll_up_statistic='Average',\n",
    "                   roll_up_parameters='Area ? >> Temperature',\n",
    "                   parent='Cooling Tower ?')\n",
    "my_csv_tree"
   ]
  },
  {
   "cell_type": "markdown",
   "id": "western-laptop",
   "metadata": {},
   "source": [
    "The resulting calculation is created by applying the function specified by `roll_up_statistic` to all parameters that match the string given by `roll_up_parameters`. In this case, the roll-up `Cooling Tower 1 >> Average Temperature of All Areas` calculates the average of `Area A >> Temperature` and `Area B >> Temperature`, and similarly for Cooling Tower 2, Area D, and Area E respectively."
   ]
  },
  {
   "cell_type": "markdown",
   "id": "alone-gates",
   "metadata": {},
   "source": [
    "### Inserting with References\n",
    "\n",
    "When inserting many items into a tree at once, you may want each item you are inserting to have a different friendly name and a different parent. To achieve this quickly, you can pass references to DataFrame columns to the arguments `friendly_name` and `parent` of the `insert()` function.\n",
    "\n",
    "In the Seeq example data, there are a collection of signals with names of the format `'Area A_Temperature'`. Column references allows you to insert all of these signals at once, where the signal `'Area A_Temperature'` has parent `'Area A'` with friendly name `'Temperature'`, while the signal `'Area D_Compressor Power'` has parent `'Area D'` and friendly name `'Compressor Power'`, and so on. First let's remove all existing signals from `my_tree`."
   ]
  },
  {
   "cell_type": "code",
   "execution_count": 22,
   "id": "effective-headline",
   "metadata": {},
   "outputs": [
    {
     "data": {
      "text/html": [
       "<div style=\"background-color: #EEFFEE;text-align: left;\">Successfully removed items from the tree. The tree \"My Tree\" has height 3 and contains 4 assets.</div><table class=\"tex2jax_ignore\"><tr><td style=\"background-color: #EEFFEE;\"></td><td style=\"background-color: #EEFFEE; text-align: right;\">Assets Removed</td><td style=\"background-color: #EEFFEE; text-align: right;\">Signals Removed</td><td style=\"background-color: #EEFFEE; text-align: right;\">Conditions Removed</td><td style=\"background-color: #EEFFEE; text-align: right;\">Scalars Removed</td><td style=\"background-color: #EEFFEE; text-align: right;\">Metrics Removed</td><td style=\"background-color: #EEFFEE; text-align: right;\">Total Items Removed</td><td style=\"background-color: #EEFFEE; text-align: right;\">Items Pulled From Seeq</td><td style=\"background-color: #EEFFEE; text-align: right;\">Errors Encountered</td></tr><tr style=\"background-color: #EEFFEE;\"><td style=\"vertical-align: top;\">Status</td><td style=\"text-align: right; vertical-align: top;\">0</td><td style=\"text-align: right; vertical-align: top;\">3</td><td style=\"text-align: right; vertical-align: top;\">1</td><td style=\"text-align: right; vertical-align: top;\">0</td><td style=\"text-align: right; vertical-align: top;\">2</td><td style=\"text-align: right; vertical-align: top;\">7</td><td style=\"text-align: right; vertical-align: top;\">0</td><td style=\"text-align: right; vertical-align: top;\">0</td></tr></table>"
      ],
      "text/plain": [
       "<IPython.core.display.HTML object>"
      ]
     },
     "metadata": {},
     "output_type": "display_data"
    }
   ],
   "source": [
    "my_tree.remove('Area ? >> *')"
   ]
  },
  {
   "cell_type": "markdown",
   "id": "indonesian-running",
   "metadata": {},
   "source": [
    "Then let's grab the signals from Seeq:"
   ]
  },
  {
   "cell_type": "code",
   "execution_count": 23,
   "id": "guided-animation",
   "metadata": {},
   "outputs": [
    {
     "data": {
      "text/html": [
       "<div style=\"background-color: #EEFFEE;text-align: left;\">Query successful</div><table class=\"tex2jax_ignore\"><tr><td style=\"background-color: #EEFFEE;\"></td><td style=\"background-color: #EEFFEE; text-align: left;\">Name</td><td style=\"background-color: #EEFFEE; text-align: left;\">Datasource Name</td><td style=\"background-color: #EEFFEE; text-align: left;\">Time</td><td style=\"background-color: #EEFFEE; text-align: right;\">Count</td><td style=\"background-color: #EEFFEE; text-align: right;\">Pages</td><td style=\"background-color: #EEFFEE; text-align: left;\">Result</td></tr><tr style=\"background-color: #EEFFEE;\"><td style=\"vertical-align: top;\">0</td><td style=\"text-align: left; vertical-align: top;\">Area ?_*</td><td style=\"text-align: left; vertical-align: top;\">Example Data</td><td style=\"vertical-align: top;\">00:00:00.06</td><td style=\"text-align: right; vertical-align: top;\">68</td><td style=\"text-align: right; vertical-align: top;\">1</td><td style=\"text-align: left; vertical-align: top;\">Success</td></tr></table>"
      ],
      "text/plain": [
       "<IPython.core.display.HTML object>"
      ]
     },
     "metadata": {},
     "output_type": "display_data"
    },
    {
     "data": {
      "text/html": [
       "<div>\n",
       "<style scoped>\n",
       "    .dataframe tbody tr th:only-of-type {\n",
       "        vertical-align: middle;\n",
       "    }\n",
       "\n",
       "    .dataframe tbody tr th {\n",
       "        vertical-align: top;\n",
       "    }\n",
       "\n",
       "    .dataframe thead th {\n",
       "        text-align: right;\n",
       "    }\n",
       "</style>\n",
       "<table border=\"1\" class=\"dataframe\">\n",
       "  <thead>\n",
       "    <tr style=\"text-align: right;\">\n",
       "      <th></th>\n",
       "      <th>ID</th>\n",
       "      <th>Name</th>\n",
       "      <th>Description</th>\n",
       "      <th>Type</th>\n",
       "      <th>Value Unit Of Measure</th>\n",
       "      <th>Datasource Name</th>\n",
       "      <th>Archived</th>\n",
       "    </tr>\n",
       "  </thead>\n",
       "  <tbody>\n",
       "    <tr>\n",
       "      <th>0</th>\n",
       "      <td>7D3EE65E-F660-4D2D-B5D5-D30FD68D3B34</td>\n",
       "      <td>Area A_Compressor Power</td>\n",
       "      <td>NaN</td>\n",
       "      <td>StoredSignal</td>\n",
       "      <td>kW</td>\n",
       "      <td>Example Data</td>\n",
       "      <td>False</td>\n",
       "    </tr>\n",
       "    <tr>\n",
       "      <th>1</th>\n",
       "      <td>474BE2D3-1B79-4AA6-8073-3059985B8CF7</td>\n",
       "      <td>Area A_Compressor Stage</td>\n",
       "      <td>NaN</td>\n",
       "      <td>StoredSignal</td>\n",
       "      <td>string</td>\n",
       "      <td>Example Data</td>\n",
       "      <td>False</td>\n",
       "    </tr>\n",
       "    <tr>\n",
       "      <th>2</th>\n",
       "      <td>28318A1B-5664-40CE-B4C2-4B7EFF43BF1F</td>\n",
       "      <td>Area A_Optimizer</td>\n",
       "      <td>NaN</td>\n",
       "      <td>StoredSignal</td>\n",
       "      <td>NaN</td>\n",
       "      <td>Example Data</td>\n",
       "      <td>False</td>\n",
       "    </tr>\n",
       "    <tr>\n",
       "      <th>3</th>\n",
       "      <td>CB2A3329-F26E-4718-BF9F-288DB4330B3F</td>\n",
       "      <td>Area A_Relative Humidity</td>\n",
       "      <td>NaN</td>\n",
       "      <td>StoredSignal</td>\n",
       "      <td>%</td>\n",
       "      <td>Example Data</td>\n",
       "      <td>False</td>\n",
       "    </tr>\n",
       "    <tr>\n",
       "      <th>4</th>\n",
       "      <td>896D85D7-A606-43F3-958B-E1FCF98BD619</td>\n",
       "      <td>Area A_Temperature</td>\n",
       "      <td>NaN</td>\n",
       "      <td>StoredSignal</td>\n",
       "      <td>°F</td>\n",
       "      <td>Example Data</td>\n",
       "      <td>False</td>\n",
       "    </tr>\n",
       "  </tbody>\n",
       "</table>\n",
       "</div>"
      ],
      "text/plain": [
       "                                     ID                      Name  \\\n",
       "0  7D3EE65E-F660-4D2D-B5D5-D30FD68D3B34   Area A_Compressor Power   \n",
       "1  474BE2D3-1B79-4AA6-8073-3059985B8CF7   Area A_Compressor Stage   \n",
       "2  28318A1B-5664-40CE-B4C2-4B7EFF43BF1F          Area A_Optimizer   \n",
       "3  CB2A3329-F26E-4718-BF9F-288DB4330B3F  Area A_Relative Humidity   \n",
       "4  896D85D7-A606-43F3-958B-E1FCF98BD619        Area A_Temperature   \n",
       "\n",
       "   Description          Type Value Unit Of Measure Datasource Name  Archived  \n",
       "0          NaN  StoredSignal                    kW    Example Data     False  \n",
       "1          NaN  StoredSignal                string    Example Data     False  \n",
       "2          NaN  StoredSignal                   NaN    Example Data     False  \n",
       "3          NaN  StoredSignal                     %    Example Data     False  \n",
       "4          NaN  StoredSignal                    °F    Example Data     False  "
      ]
     },
     "execution_count": 23,
     "metadata": {},
     "output_type": "execute_result"
    }
   ],
   "source": [
    "search_results = spy.search({'Name': 'Area ?_*',\n",
    "                             'Datasource Name': 'Example Data'}, order_by='Name')\n",
    "search_results.head(5)"
   ]
  },
  {
   "cell_type": "markdown",
   "id": "frozen-mission",
   "metadata": {},
   "source": [
    "A column value reference has the following syntax: `{{ ... } ... }`. The substring within the inner braces specifies which column of the above DataFrame to look for data in. If nothing is provided where the second ellipsis is, then the data from that column will be returned. For example the first row seen above would return `kW` when queried with `{{Value Unit Of Measure}}`. However, if we only want some of the data in the column, then we can provide an expression with wildcards that matches the data and has parentheses surrounding the substring we wish to extract. For example, `{{Name}Area ?_(*)}` will return `Compressor Power` in the first row.\n",
    "\n",
    "Let's see it in action:"
   ]
  },
  {
   "cell_type": "code",
   "execution_count": 24,
   "id": "false-olive",
   "metadata": {
    "scrolled": false
   },
   "outputs": [
    {
     "data": {
      "text/html": [
       "<div style=\"background-color: #EEFFEE;text-align: left;\">Successfully inserted items into the tree. The tree \"My Tree\" has height 4 and contains 12 signals and 4 assets.</div><table class=\"tex2jax_ignore\"><tr><td style=\"background-color: #EEFFEE;\"></td><td style=\"background-color: #EEFFEE; text-align: right;\">Assets Inserted</td><td style=\"background-color: #EEFFEE; text-align: right;\">Signals Inserted</td><td style=\"background-color: #EEFFEE; text-align: right;\">Conditions Inserted</td><td style=\"background-color: #EEFFEE; text-align: right;\">Scalars Inserted</td><td style=\"background-color: #EEFFEE; text-align: right;\">Metrics Inserted</td><td style=\"background-color: #EEFFEE; text-align: right;\">Total Items Inserted</td><td style=\"background-color: #EEFFEE; text-align: right;\">Items Pulled From Seeq</td><td style=\"background-color: #EEFFEE; text-align: right;\">Errors Encountered</td></tr><tr style=\"background-color: #EEFFEE;\"><td style=\"vertical-align: top;\">Status</td><td style=\"text-align: right; vertical-align: top;\">0</td><td style=\"text-align: right; vertical-align: top;\">12</td><td style=\"text-align: right; vertical-align: top;\">0</td><td style=\"text-align: right; vertical-align: top;\">0</td><td style=\"text-align: right; vertical-align: top;\">0</td><td style=\"text-align: right; vertical-align: top;\">12</td><td style=\"text-align: right; vertical-align: top;\">68</td><td style=\"text-align: right; vertical-align: top;\">0</td></tr></table>"
      ],
      "text/plain": [
       "<IPython.core.display.HTML object>"
      ]
     },
     "metadata": {},
     "output_type": "display_data"
    },
    {
     "name": "stdout",
     "output_type": "stream",
     "text": [
      "My Tree\n",
      "|-- Cooling Tower 1\n",
      "    |-- Area A\n",
      "    |   |-- Compressor Power\n",
      "    |   |-- Compressor Stage\n",
      "    |   |-- Optimizer\n",
      "    |   |-- Relative Humidity\n",
      "    |   |-- Temperature\n",
      "    |   |-- Wet Bulb\n",
      "    |-- Area C\n",
      "        |-- Compressor Power\n",
      "        |-- Compressor Stage\n",
      "        |-- Optimizer\n",
      "        |-- Relative Humidity\n",
      "        |-- Temperature\n",
      "        |-- Wet Bulb\n"
     ]
    }
   ],
   "source": [
    "my_tree.insert(children=search_results,\n",
    "               friendly_name='{{Name}Area ?_(*)}',\n",
    "               parent='{{Name}(Area ?)_*}')\n",
    "my_tree.visualize()"
   ]
  },
  {
   "cell_type": "markdown",
   "id": "aging-cliff",
   "metadata": {},
   "source": [
    "Below are more examples of column value extraction syntax, with the following input `children` DataFrame:\n",
    "\n",
    "| ID                                   | Name         | Unit  | Facility Type     |\n",
    "| ------------------------------------ | ------------ | ----- | ----------------- |\n",
    "| B8FA62DA-5C42-4CA3-9C3F-E80E6E5AE990 | Site A_Temp  | °F    | Research Facility |\n",
    "| 51D52461-A667-413A-AD9E-548FE16E601B | Site B_Flow  | gal/s | Factory           |\n",
    "\n",
    "\n",
    "\n",
    "| Syntax                                                      | Syntax Description                                                                                                                                                                                                                                                                                                 | Output for first row        | Output for second row          |   |\n",
    "|-------------------------------------------------------------|--------------------------------------------------------------------------------------------------------------------------------------------------------------------------------------------------------------------------------------------------------------------------------------------------------------------|-----------------------------|--------------------------------|---|\n",
    "| {{Name}}                                                    | Get the value of the \"Name\" column for that row.                                                                                                                                                                                                                                                                   | Site A_Temp                 | Site B_Flow                    |   |\n",
    "| {{Name}Site ?_(*)}                                          | From the \"Name\" column, get the value of the wildcard match after \"Site ?_\".                                                                                                                                                                                                                                       | Temp                        | Flow                           |   |\n",
    "| {{Name}(*_Temp)}                                            | Get the entire value of the \"Name\" column for that row if it matches \"*_Temp\". Note: this pattern does not match the second row. If such a pattern is used for `parent`, then the row would not be inserted under any parent. If such a pattern is used for `friendly_name`, its original name will be used.                                                                                          | Site A_Temp                 | N/A        |   |\n",
    "| {{Facility Type}} {{Name}Site (?)_*}                        | Get the value of the \"Facility Type\" column for that row. Then a literal \" \" character. Then from the \"Name\" column, get the value of the single-char wildcard between \"Site \" and \"_\".                                                                                                                            | Research Facility A         | Factory B                      |   |\n",
    "| Average of {{Name}(Site ?)_*} {{Name}Site ?_(*)} ({{Unit}}) | A literal \"Average of \". Then from the \"Name\" column, get the value of the substring matching \"Site ?\" before the \"_\". Then a literal \" \" character. Then from the \"Name\" column, get the value of the wildcard match after \"Site ?_\". Then a literal \" (\". Get the value of the \"Unit\" column. Then a literal \")\". | Average of Site A Temp (°F) | Average of Site B Flow (gal/s) |   |"
   ]
  },
  {
   "cell_type": "markdown",
   "id": "intimate-measure",
   "metadata": {},
   "source": [
    "### The `spy.assets` Submodule and Asset Tree Templates\n",
    "\n",
    "Read on to the [next tutorial notebook on asset trees in SPy](Asset%20Trees%202%20-%20Templates.ipynb) to learn how to use the `spy.assets` submodule to build asset trees out of templates."
   ]
  }
 ],
 "metadata": {
  "kernelspec": {
   "display_name": "Python 3 (ipykernel)",
   "language": "python",
   "name": "python3"
  },
  "language_info": {
   "codemirror_mode": {
    "name": "ipython",
    "version": 3
   },
   "file_extension": ".py",
   "mimetype": "text/x-python",
   "name": "python",
   "nbconvert_exporter": "python",
   "pygments_lexer": "ipython3",
   "version": "3.7.8"
  }
 },
 "nbformat": 4,
 "nbformat_minor": 5
}
