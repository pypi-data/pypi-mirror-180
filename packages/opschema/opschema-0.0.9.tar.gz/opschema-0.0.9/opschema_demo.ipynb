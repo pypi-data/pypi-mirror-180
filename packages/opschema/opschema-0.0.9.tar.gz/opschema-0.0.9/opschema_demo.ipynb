{
 "cells": [
  {
   "cell_type": "code",
   "execution_count": 1,
   "id": "35e64f19",
   "metadata": {},
   "outputs": [
    {
     "data": {
      "text/plain": [
       "['ops.tf.gather_nd',\n",
       " 'ops.tf.nn.atrous_conv2d',\n",
       " 'ops.tf.nn.atrous_conv2d_transpose',\n",
       " 'ops.tf.nn.avg_pool',\n",
       " 'ops.tf.nn.bias_add',\n",
       " 'ops.tf.nn.conv_transpose',\n",
       " 'ops.tf.nn.convolution',\n",
       " 'ops.tf.nn.depth_to_space',\n",
       " 'ops.tf.nn.separable_conv2d',\n",
       " 'ops.tf.nn.space_to_batch',\n",
       " 'ops.tf.nn.space_to_depth',\n",
       " 'ops.tf.scatter_nd']"
      ]
     },
     "execution_count": 1,
     "metadata": {},
     "output_type": "execute_result"
    }
   ],
   "source": [
    "import opschema as osk\n",
    "osk.list_schemas()"
   ]
  }
 ],
 "metadata": {
  "kernelspec": {
   "display_name": "Python 3 (ipykernel)",
   "language": "python",
   "name": "python3"
  },
  "language_info": {
   "codemirror_mode": {
    "name": "ipython",
    "version": 3
   },
   "file_extension": ".py",
   "mimetype": "text/x-python",
   "name": "python",
   "nbconvert_exporter": "python",
   "pygments_lexer": "ipython3",
   "version": "3.7.2"
  }
 },
 "nbformat": 4,
 "nbformat_minor": 5
}
