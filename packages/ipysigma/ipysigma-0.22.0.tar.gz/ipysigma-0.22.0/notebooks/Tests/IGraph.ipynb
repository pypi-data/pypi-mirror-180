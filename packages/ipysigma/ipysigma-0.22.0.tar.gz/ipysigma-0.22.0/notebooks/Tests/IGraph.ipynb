{
 "cells": [
  {
   "cell_type": "code",
   "execution_count": 1,
   "id": "c276612b-e2cd-495c-9086-44a6914af9ef",
   "metadata": {},
   "outputs": [],
   "source": [
    "import igraph as ig\n",
    "from ipysigma import Sigma"
   ]
  },
  {
   "cell_type": "code",
   "execution_count": 2,
   "id": "b15598f4-1bbb-4b95-8c2e-df4ce908b0fc",
   "metadata": {},
   "outputs": [],
   "source": [
    "graph = ig.Graph.Famous('Zachary')"
   ]
  },
  {
   "cell_type": "code",
   "execution_count": 6,
   "id": "51cb011f-2fb5-4004-ad74-71427e61cfba",
   "metadata": {},
   "outputs": [
    {
     "data": {
      "application/vnd.jupyter.widget-view+json": {
       "model_id": "5456c5dc3aff4178aac848e6cff1e97f",
       "version_major": 2,
       "version_minor": 0
      },
      "text/plain": [
       "Sigma(ig.Graph with 34 nodes and 78 edges)"
      ]
     },
     "metadata": {},
     "output_type": "display_data"
    }
   ],
   "source": [
    "Sigma(graph, node_size=graph.degree, node_color=graph.betweenness(), node_color_gradient='Viridis')"
   ]
  }
 ],
 "metadata": {
  "kernelspec": {
   "display_name": "Python 3",
   "language": "python",
   "name": "python3"
  },
  "language_info": {
   "codemirror_mode": {
    "name": "ipython",
    "version": 3
   },
   "file_extension": ".py",
   "mimetype": "text/x-python",
   "name": "python",
   "nbconvert_exporter": "python",
   "pygments_lexer": "ipython3",
   "version": "3.6.10"
  }
 },
 "nbformat": 4,
 "nbformat_minor": 5
}
