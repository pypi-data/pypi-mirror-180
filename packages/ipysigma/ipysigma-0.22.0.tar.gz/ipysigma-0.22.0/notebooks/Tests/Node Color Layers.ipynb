{
 "cells": [
  {
   "cell_type": "code",
   "execution_count": 1,
   "id": "b0b3b57d-f21f-4f20-b356-eb1afe3fa36e",
   "metadata": {},
   "outputs": [],
   "source": [
    "import networkx as nx\n",
    "from ipysigma import Sigma"
   ]
  },
  {
   "cell_type": "code",
   "execution_count": 2,
   "id": "e1bdf781-0173-469f-98aa-537e8959a7e7",
   "metadata": {},
   "outputs": [],
   "source": [
    "g = nx.read_gexf('../data/rio.gexf')"
   ]
  },
  {
   "cell_type": "code",
   "execution_count": 15,
   "id": "2538ace6-04f8-48eb-ae5b-a39f57c5e373",
   "metadata": {},
   "outputs": [
    {
     "data": {
      "application/vnd.jupyter.widget-view+json": {
       "model_id": "cc50aeb1972246069d88929e4910298e",
       "version_major": 2,
       "version_minor": 0
      },
      "text/plain": [
       "Sigma(nx.DiGraph with 366 nodes and 1,107 edges)"
      ]
     },
     "metadata": {},
     "output_type": "display_data"
    }
   ],
   "source": [
    "Sigma(\n",
    "    g,\n",
    "    node_metrics=['louvain'],\n",
    "    node_color='louvain',\n",
    "    node_color_saturation=g.degree,\n",
    "    node_color_saturation_range=(0.2, 1)\n",
    ")"
   ]
  }
 ],
 "metadata": {
  "kernelspec": {
   "display_name": "Python 3",
   "language": "python",
   "name": "python3"
  },
  "language_info": {
   "codemirror_mode": {
    "name": "ipython",
    "version": 3
   },
   "file_extension": ".py",
   "mimetype": "text/x-python",
   "name": "python",
   "nbconvert_exporter": "python",
   "pygments_lexer": "ipython3",
   "version": "3.6.10"
  }
 },
 "nbformat": 4,
 "nbformat_minor": 5
}
