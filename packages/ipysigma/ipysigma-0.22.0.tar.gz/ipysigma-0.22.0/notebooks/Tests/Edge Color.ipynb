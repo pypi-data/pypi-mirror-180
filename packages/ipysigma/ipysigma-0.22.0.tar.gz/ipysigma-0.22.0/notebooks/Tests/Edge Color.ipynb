{
 "cells": [
  {
   "cell_type": "code",
   "execution_count": 1,
   "id": "1dc7a259-40ad-456e-9528-9b29ac2e628b",
   "metadata": {},
   "outputs": [],
   "source": [
    "import networkx as nx\n",
    "from ipysigma import Sigma\n",
    "from random import random"
   ]
  },
  {
   "cell_type": "code",
   "execution_count": 2,
   "id": "2f28a32d-98fd-4955-b74f-2efff5c5e01e",
   "metadata": {},
   "outputs": [],
   "source": [
    "Sigma.set_defaults(height=250, node_size_range=(1, 5))"
   ]
  },
  {
   "cell_type": "code",
   "execution_count": 3,
   "id": "8a107366-964c-4363-892b-0a671634606c",
   "metadata": {},
   "outputs": [],
   "source": [
    "g = nx.read_gexf('../data/rio.gexf')\n",
    "\n",
    "for source, target, attr in g.edges.data():\n",
    "    attr['type'] = 'one' if random() > 0.5 else 'two'\n",
    "    attr['raw_type'] = 'yellow' if random() > 0.5 else 'purple'\n",
    "    if random() > 0.5:\n",
    "        attr['half_type'] = 'one'"
   ]
  },
  {
   "cell_type": "code",
   "execution_count": 4,
   "id": "ffbdcbb2-ef9e-45ed-ad93-d4c079dabd56",
   "metadata": {},
   "outputs": [
    {
     "data": {
      "application/vnd.jupyter.widget-view+json": {
       "model_id": "6543f45a4d814b61a3ea9e5990c45171",
       "version_major": 2,
       "version_minor": 0
      },
      "text/plain": [
       "Sigma(nx.DiGraph with 366 nodes and 1,107 edges)"
      ]
     },
     "metadata": {},
     "output_type": "display_data"
    }
   ],
   "source": [
    "Sigma(g)"
   ]
  },
  {
   "cell_type": "code",
   "execution_count": 5,
   "id": "ae971a20-50e1-4d10-9be1-036c90f27749",
   "metadata": {},
   "outputs": [
    {
     "data": {
      "application/vnd.jupyter.widget-view+json": {
       "model_id": "d4dae3b019a84a138b822296e2363ad0",
       "version_major": 2,
       "version_minor": 0
      },
      "text/plain": [
       "Sigma(nx.DiGraph with 366 nodes and 1,107 edges)"
      ]
     },
     "metadata": {},
     "output_type": "display_data"
    }
   ],
   "source": [
    "Sigma(g, edge_color_from='source')"
   ]
  },
  {
   "cell_type": "code",
   "execution_count": 6,
   "id": "b4fa6355-d3ae-4032-98c3-19ee2a72e33d",
   "metadata": {},
   "outputs": [],
   "source": [
    "for node, attr in g.nodes.data():\n",
    "    del attr['viz']['color']\n",
    "    attr['color'] = 'rgba(0, 0, 0, 0)'"
   ]
  },
  {
   "cell_type": "code",
   "execution_count": 7,
   "id": "057f751d-1144-41c1-902c-3198be871087",
   "metadata": {},
   "outputs": [
    {
     "data": {
      "application/vnd.jupyter.widget-view+json": {
       "model_id": "edf7215db97c4a7e8bd23796aed018af",
       "version_major": 2,
       "version_minor": 0
      },
      "text/plain": [
       "Sigma(nx.DiGraph with 366 nodes and 1,107 edges)"
      ]
     },
     "metadata": {},
     "output_type": "display_data"
    }
   ],
   "source": [
    "Sigma(g, edge_color='type')"
   ]
  },
  {
   "cell_type": "code",
   "execution_count": 8,
   "id": "1a3b42fa-0d7c-4946-9492-8b2b936cd3ba",
   "metadata": {},
   "outputs": [
    {
     "data": {
      "application/vnd.jupyter.widget-view+json": {
       "model_id": "44947309506c4260810999cd3746f871",
       "version_major": 2,
       "version_minor": 0
      },
      "text/plain": [
       "Sigma(nx.DiGraph with 366 nodes and 1,107 edges)"
      ]
     },
     "metadata": {},
     "output_type": "display_data"
    }
   ],
   "source": [
    "Sigma(g, raw_edge_color='raw_type')"
   ]
  },
  {
   "cell_type": "code",
   "execution_count": 9,
   "id": "f878be61-6a6c-4663-9999-4a615bd29593",
   "metadata": {},
   "outputs": [
    {
     "data": {
      "application/vnd.jupyter.widget-view+json": {
       "model_id": "01d7e3bcdf0f411e97bc97509c4a6a42",
       "version_major": 2,
       "version_minor": 0
      },
      "text/plain": [
       "Sigma(nx.DiGraph with 366 nodes and 1,107 edges)"
      ]
     },
     "metadata": {},
     "output_type": "display_data"
    }
   ],
   "source": [
    "Sigma(g, edge_color='type', edge_color_palette={'one': 'green', 'two': 'cyan'})"
   ]
  },
  {
   "cell_type": "code",
   "execution_count": 10,
   "id": "fd72f59b-f510-407b-9026-9deb1b6cda07",
   "metadata": {},
   "outputs": [
    {
     "data": {
      "application/vnd.jupyter.widget-view+json": {
       "model_id": "c7fe8a9a6ed3473fb69df68ab2fd1ac5",
       "version_major": 2,
       "version_minor": 0
      },
      "text/plain": [
       "Sigma(nx.DiGraph with 366 nodes and 1,107 edges)"
      ]
     },
     "metadata": {},
     "output_type": "display_data"
    }
   ],
   "source": [
    "Sigma(g, edge_color='half_type', default_edge_color='grey')"
   ]
  },
  {
   "cell_type": "code",
   "execution_count": 12,
   "id": "b465f5f6-4f81-42fe-89ad-c33b80f67ecb",
   "metadata": {},
   "outputs": [
    {
     "data": {
      "application/vnd.jupyter.widget-view+json": {
       "model_id": "aa8fa246de7140cd93ea1f6229251027",
       "version_major": 2,
       "version_minor": 0
      },
      "text/plain": [
       "Sigma(nx.DiGraph with 366 nodes and 1,107 edges)"
      ]
     },
     "metadata": {},
     "output_type": "display_data"
    }
   ],
   "source": [
    "Sigma(g, edge_color=range(len(g.edges)), edge_color_gradient=('yellow', 'red'))"
   ]
  }
 ],
 "metadata": {
  "kernelspec": {
   "display_name": "Python 3",
   "language": "python",
   "name": "python3"
  },
  "language_info": {
   "codemirror_mode": {
    "name": "ipython",
    "version": 3
   },
   "file_extension": ".py",
   "mimetype": "text/x-python",
   "name": "python",
   "nbconvert_exporter": "python",
   "pygments_lexer": "ipython3",
   "version": "3.6.10"
  }
 },
 "nbformat": 4,
 "nbformat_minor": 5
}
