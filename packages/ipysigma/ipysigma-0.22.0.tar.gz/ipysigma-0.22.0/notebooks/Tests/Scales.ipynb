{
 "cells": [
  {
   "cell_type": "code",
   "execution_count": 1,
   "id": "eb61314c-c2a9-4c17-8cbb-2b32dd76f5f5",
   "metadata": {},
   "outputs": [],
   "source": [
    "import networkx as nx\n",
    "from ipysigma import Sigma, SigmaGrid"
   ]
  },
  {
   "cell_type": "code",
   "execution_count": 2,
   "id": "5e6c6df4-8ac4-4d23-b4fe-b4fc7bd3fa44",
   "metadata": {},
   "outputs": [],
   "source": [
    "g = nx.read_gexf('../data/rio.gexf')"
   ]
  },
  {
   "cell_type": "code",
   "execution_count": 3,
   "id": "4bc3a15d-f78b-4bcf-8a9b-eea9e179248a",
   "metadata": {},
   "outputs": [],
   "source": [
    "def in_degree_plus_one(g):\n",
    "    return lambda n: g.in_degree[n] + 1"
   ]
  },
  {
   "cell_type": "code",
   "execution_count": 4,
   "id": "8daec6b3-8b44-4a55-a0ac-c51ed6a03a9a",
   "metadata": {
    "tags": []
   },
   "outputs": [
    {
     "data": {
      "application/vnd.jupyter.widget-view+json": {
       "model_id": "53b92ab9a0a944d6ae195763aad589b7",
       "version_major": 2,
       "version_minor": 0
      },
      "text/plain": [
       "VBox(children=(HBox(children=(Sigma(nx.DiGraph with 366 nodes and 1,107 edges), Sigma(nx.DiGraph with 366 node…"
      ]
     },
     "metadata": {},
     "output_type": "display_data"
    }
   ],
   "source": [
    "SigmaGrid(\n",
    "    g,\n",
    "    columns=2,\n",
    "    hide_search=True,\n",
    "    node_size_range=(2, 8),\n",
    "    node_size=in_degree_plus_one(g),\n",
    "    height=250,\n",
    "    views=[\n",
    "        {'name': 'lin', 'node_size_scale': 'lin'},\n",
    "        {'name': 'pow', 'node_size_scale': 'pow'},\n",
    "        {'name': 'sqrt', 'node_size_scale': 'sqrt'},\n",
    "        {'name': 'log', 'node_size_scale': 'log'}\n",
    "    ]\n",
    ")"
   ]
  },
  {
   "cell_type": "code",
   "execution_count": 5,
   "id": "870c45ca-89c6-406e-9e72-b086e8632c2e",
   "metadata": {},
   "outputs": [
    {
     "data": {
      "application/vnd.jupyter.widget-view+json": {
       "model_id": "0ec2c4ca73b240df902899d12790f3f5",
       "version_major": 2,
       "version_minor": 0
      },
      "text/plain": [
       "VBox(children=(HBox(children=(Sigma(nx.DiGraph with 366 nodes and 1,107 edges), Sigma(nx.DiGraph with 366 node…"
      ]
     },
     "metadata": {},
     "output_type": "display_data"
    }
   ],
   "source": [
    "SigmaGrid(\n",
    "    g,\n",
    "    columns=2,\n",
    "    hide_search=True,\n",
    "    node_size_range=(2, 6),\n",
    "    node_color=in_degree_plus_one(g),\n",
    "    node_color_gradient=('yellow', 'red'),\n",
    "    height=250,\n",
    "    views=[\n",
    "        {'name': 'lin', 'node_color_scale': 'lin'},\n",
    "        {'name': 'pow', 'node_color_scale': 'pow'},\n",
    "        {'name': 'sqrt', 'node_color_scale': 'sqrt'},\n",
    "        {'name': 'log', 'node_color_scale': 'log'}\n",
    "    ]\n",
    ")"
   ]
  },
  {
   "cell_type": "code",
   "execution_count": 8,
   "id": "c77602a9-fd58-4e5a-81e2-bef9795c55e3",
   "metadata": {},
   "outputs": [
    {
     "data": {
      "application/vnd.jupyter.widget-view+json": {
       "model_id": "a909ac365b0640ec867944096901121f",
       "version_major": 2,
       "version_minor": 0
      },
      "text/plain": [
       "Sigma(nx.DiGraph with 366 nodes and 1,107 edges)"
      ]
     },
     "metadata": {},
     "output_type": "display_data"
    }
   ],
   "source": [
    "Sigma(g, node_size=g.degree, node_size_scale='log+1')"
   ]
  }
 ],
 "metadata": {
  "kernelspec": {
   "display_name": "Python 3",
   "language": "python",
   "name": "python3"
  },
  "language_info": {
   "codemirror_mode": {
    "name": "ipython",
    "version": 3
   },
   "file_extension": ".py",
   "mimetype": "text/x-python",
   "name": "python",
   "nbconvert_exporter": "python",
   "pygments_lexer": "ipython3",
   "version": "3.6.12"
  }
 },
 "nbformat": 4,
 "nbformat_minor": 5
}
