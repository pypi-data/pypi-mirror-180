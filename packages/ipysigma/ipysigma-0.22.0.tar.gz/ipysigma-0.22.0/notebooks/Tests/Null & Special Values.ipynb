{
 "cells": [
  {
   "cell_type": "code",
   "execution_count": 1,
   "id": "4885a8f2-e6fb-4cae-8e0b-abd30e7e4a76",
   "metadata": {},
   "outputs": [],
   "source": [
    "import networkx as nx\n",
    "from ipysigma import Sigma\n",
    "import pandas as pd\n",
    "import numpy as np\n",
    "from datetime import date, datetime"
   ]
  },
  {
   "cell_type": "code",
   "execution_count": 2,
   "id": "7c872353-29cf-451c-b3cf-53f4de76aca8",
   "metadata": {},
   "outputs": [],
   "source": [
    "Sigma.set_defaults(height=250)"
   ]
  },
  {
   "cell_type": "code",
   "execution_count": 3,
   "id": "693460f2-c097-40c6-819f-323c15e8f351",
   "metadata": {},
   "outputs": [],
   "source": [
    "g = nx.karate_club_graph()"
   ]
  },
  {
   "cell_type": "code",
   "execution_count": 4,
   "id": "a9792402-ec0c-44e7-96fc-cfefda0e6e47",
   "metadata": {},
   "outputs": [],
   "source": [
    "random_sizes_with_nans = np.random.random(len(g))\n",
    "random_sizes_with_nans[0:5] = np.nan"
   ]
  },
  {
   "cell_type": "code",
   "execution_count": 5,
   "id": "b583ef10-aa83-447b-8446-62612c02e729",
   "metadata": {},
   "outputs": [
    {
     "data": {
      "application/vnd.jupyter.widget-view+json": {
       "model_id": "42388dccffd043138cc0e11fa6ab45db",
       "version_major": 2,
       "version_minor": 0
      },
      "text/plain": [
       "Sigma(nx.Graph with 34 nodes and 78 edges)"
      ]
     },
     "metadata": {},
     "output_type": "display_data"
    }
   ],
   "source": [
    "Sigma(g, node_size=random_sizes_with_nans, selected_node=4)"
   ]
  },
  {
   "cell_type": "code",
   "execution_count": 6,
   "id": "9253533c-c9ce-45a3-a98e-050ff5b84912",
   "metadata": {},
   "outputs": [],
   "source": [
    "for n, attr in g.nodes.data():\n",
    "    attr['datetime'] = datetime.now()\n",
    "    attr['date'] = date.today()"
   ]
  },
  {
   "cell_type": "code",
   "execution_count": 7,
   "id": "0cfa70bf-1e2e-4c18-b9cc-2f792d1ce818",
   "metadata": {},
   "outputs": [
    {
     "data": {
      "application/vnd.jupyter.widget-view+json": {
       "model_id": "3631d774853c4f67b88abf8c46aad15c",
       "version_major": 2,
       "version_minor": 0
      },
      "text/plain": [
       "Sigma(nx.Graph with 34 nodes and 78 edges)"
      ]
     },
     "metadata": {},
     "output_type": "display_data"
    }
   ],
   "source": [
    "Sigma(g, selected_node=4)"
   ]
  }
 ],
 "metadata": {
  "kernelspec": {
   "display_name": "Python 3",
   "language": "python",
   "name": "python3"
  },
  "language_info": {
   "codemirror_mode": {
    "name": "ipython",
    "version": 3
   },
   "file_extension": ".py",
   "mimetype": "text/x-python",
   "name": "python",
   "nbconvert_exporter": "python",
   "pygments_lexer": "ipython3",
   "version": "3.6.12"
  }
 },
 "nbformat": 4,
 "nbformat_minor": 5
}
