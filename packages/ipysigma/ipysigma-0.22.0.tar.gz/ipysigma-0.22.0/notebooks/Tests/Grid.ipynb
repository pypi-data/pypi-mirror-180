{
 "cells": [
  {
   "cell_type": "code",
   "execution_count": 1,
   "id": "72e36da3-019c-4f36-8a75-9e03e0a6c538",
   "metadata": {},
   "outputs": [],
   "source": [
    "import networkx as nx\n",
    "from ipysigma import SigmaGrid"
   ]
  },
  {
   "cell_type": "code",
   "execution_count": 2,
   "id": "8fd8b90b-7542-4a5c-a8c2-5c5b10982e86",
   "metadata": {},
   "outputs": [],
   "source": [
    "g = nx.read_gexf('../data/rio.gexf')"
   ]
  },
  {
   "cell_type": "code",
   "execution_count": 3,
   "id": "d7485929-b7c8-4d07-ad4d-13cbcfe00c46",
   "metadata": {},
   "outputs": [
    {
     "data": {
      "application/vnd.jupyter.widget-view+json": {
       "model_id": "e97fb00488ee44b09733162cfd755a15",
       "version_major": 2,
       "version_minor": 0
      },
      "text/plain": [
       "VBox(children=(HBox(children=(Sigma(nx.DiGraph with 366 nodes and 1,107 edges), Sigma(nx.DiGraph with 366 node…"
      ]
     },
     "metadata": {},
     "output_type": "display_data"
    }
   ],
   "source": [
    "SigmaGrid(\n",
    "    g,\n",
    "    views=[{'node_color': 'Language'}, {'node_color': 'Category'}],\n",
    "    node_size_range=(2, 10),\n",
    "    default_edge_type='curve'\n",
    ")"
   ]
  },
  {
   "cell_type": "code",
   "execution_count": 4,
   "id": "d3dbf291-e130-41e6-8146-7552526a3cca",
   "metadata": {},
   "outputs": [
    {
     "data": {
      "application/vnd.jupyter.widget-view+json": {
       "model_id": "2fad64ddd34d4d9295885ad4ae9544eb",
       "version_major": 2,
       "version_minor": 0
      },
      "text/plain": [
       "VBox(children=(HBox(children=(Sigma(nx.DiGraph with 366 nodes and 1,107 edges), Sigma(nx.DiGraph with 366 node…"
      ]
     },
     "metadata": {},
     "output_type": "display_data"
    }
   ],
   "source": [
    "SigmaGrid(\n",
    "    g,\n",
    "    node_size_range=(2, 10),\n",
    "    columns=3\n",
    ").add(node_color='Language').add(node_color='Category')"
   ]
  }
 ],
 "metadata": {
  "kernelspec": {
   "display_name": "Python 3",
   "language": "python",
   "name": "python3"
  },
  "language_info": {
   "codemirror_mode": {
    "name": "ipython",
    "version": 3
   },
   "file_extension": ".py",
   "mimetype": "text/x-python",
   "name": "python",
   "nbconvert_exporter": "python",
   "pygments_lexer": "ipython3",
   "version": "3.6.12"
  }
 },
 "nbformat": 4,
 "nbformat_minor": 5
}
