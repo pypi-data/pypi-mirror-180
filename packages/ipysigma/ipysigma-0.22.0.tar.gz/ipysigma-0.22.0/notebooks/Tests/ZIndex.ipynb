{
 "cells": [
  {
   "cell_type": "code",
   "execution_count": 1,
   "id": "1ace44a1-7750-402a-8214-e568b767c40a",
   "metadata": {},
   "outputs": [],
   "source": [
    "import networkx as nx\n",
    "from ipysigma import Sigma"
   ]
  },
  {
   "cell_type": "code",
   "execution_count": 2,
   "id": "4ba29109-6087-45ed-873c-2fa18e0e48fa",
   "metadata": {},
   "outputs": [],
   "source": [
    "g = nx.complete_graph(100)"
   ]
  },
  {
   "cell_type": "code",
   "execution_count": 12,
   "id": "ba8d5ede-0586-45ae-8d40-df8256091418",
   "metadata": {},
   "outputs": [
    {
     "data": {
      "application/vnd.jupyter.widget-view+json": {
       "model_id": "d843a72e41fe41bcadde3aab712301dd",
       "version_major": 2,
       "version_minor": 0
      },
      "text/plain": [
       "Sigma(nx.Graph with 100 nodes and 4,950 edges)"
      ]
     },
     "metadata": {},
     "output_type": "display_data"
    }
   ],
   "source": [
    "Sigma(\n",
    "    g,\n",
    "    default_node_size=10,\n",
    "    raw_node_size={50: 50},\n",
    "    node_zindex={50: -1},\n",
    "    raw_node_color={50: 'black'},\n",
    "    raw_edge_color={(u, v): 'black' for u, v in g.edges if u == 49},\n",
    "    edge_zindex=lambda u, v: 1 if u == 49 else 0\n",
    ")"
   ]
  }
 ],
 "metadata": {
  "kernelspec": {
   "display_name": "Python 3",
   "language": "python",
   "name": "python3"
  },
  "language_info": {
   "codemirror_mode": {
    "name": "ipython",
    "version": 3
   },
   "file_extension": ".py",
   "mimetype": "text/x-python",
   "name": "python",
   "nbconvert_exporter": "python",
   "pygments_lexer": "ipython3",
   "version": "3.6.10"
  }
 },
 "nbformat": 4,
 "nbformat_minor": 5
}
