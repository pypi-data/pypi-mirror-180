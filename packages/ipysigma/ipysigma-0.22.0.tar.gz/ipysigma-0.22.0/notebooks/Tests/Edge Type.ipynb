{
 "cells": [
  {
   "cell_type": "code",
   "execution_count": 1,
   "id": "02207d66-f9d2-45f4-909b-52af64ae1315",
   "metadata": {},
   "outputs": [],
   "source": [
    "import networkx as nx\n",
    "from ipysigma import Sigma"
   ]
  },
  {
   "cell_type": "code",
   "execution_count": 2,
   "id": "d29bee84-6c8a-4bd5-8693-4a97b80925b8",
   "metadata": {},
   "outputs": [],
   "source": [
    "Sigma.set_defaults(height=250, node_size_range=(1, 5))"
   ]
  },
  {
   "cell_type": "code",
   "execution_count": 3,
   "id": "27b32a2e-ad13-482c-9e93-5e1934a2b3cc",
   "metadata": {},
   "outputs": [],
   "source": [
    "g = nx.read_gexf('../data/rio.gexf')"
   ]
  },
  {
   "cell_type": "code",
   "execution_count": 4,
   "id": "9e8b6b4e-4634-4de3-8256-62e0c9f65666",
   "metadata": {},
   "outputs": [
    {
     "data": {
      "application/vnd.jupyter.widget-view+json": {
       "model_id": "cf4e98c3d110455b8722e8efd2102636",
       "version_major": 2,
       "version_minor": 0
      },
      "text/plain": [
       "Sigma(nx.DiGraph with 366 nodes and 1,107 edges)"
      ]
     },
     "metadata": {},
     "output_type": "display_data"
    }
   ],
   "source": [
    "Sigma(g)"
   ]
  },
  {
   "cell_type": "code",
   "execution_count": 12,
   "id": "081d57e5-0342-4fe5-b3c3-476f99536c6a",
   "metadata": {},
   "outputs": [
    {
     "data": {
      "application/vnd.jupyter.widget-view+json": {
       "model_id": "4faf62c8489c42f0ba9c9b20857346c5",
       "version_major": 2,
       "version_minor": 0
      },
      "text/plain": [
       "Sigma(nx.DiGraph with 366 nodes and 1,107 edges)"
      ]
     },
     "metadata": {},
     "output_type": "display_data"
    }
   ],
   "source": [
    "Sigma(g, default_edge_type='line')"
   ]
  },
  {
   "cell_type": "code",
   "execution_count": 6,
   "id": "ecd75ba0-b59d-47d7-8b16-c320708d79c2",
   "metadata": {},
   "outputs": [
    {
     "data": {
      "application/vnd.jupyter.widget-view+json": {
       "model_id": "f0427a5ca9034e00b0238bdd59f968fc",
       "version_major": 2,
       "version_minor": 0
      },
      "text/plain": [
       "Sigma(nx.DiGraph with 366 nodes and 1,107 edges)"
      ]
     },
     "metadata": {},
     "output_type": "display_data"
    }
   ],
   "source": [
    "Sigma(g, default_edge_type='triangle', default_edge_size=5)"
   ]
  },
  {
   "cell_type": "code",
   "execution_count": 7,
   "id": "96d0d340-c589-4b17-bc09-66bd53cfb02f",
   "metadata": {},
   "outputs": [
    {
     "data": {
      "application/vnd.jupyter.widget-view+json": {
       "model_id": "5e518f1275004a789cd162a5e537d553",
       "version_major": 2,
       "version_minor": 0
      },
      "text/plain": [
       "Sigma(nx.DiGraph with 366 nodes and 1,107 edges)"
      ]
     },
     "metadata": {},
     "output_type": "display_data"
    }
   ],
   "source": [
    "Sigma(g, default_edge_type='curve')"
   ]
  },
  {
   "cell_type": "code",
   "execution_count": 13,
   "id": "c737b74c-49d1-4c37-9b47-aa0c0656f3ba",
   "metadata": {},
   "outputs": [
    {
     "data": {
      "application/vnd.jupyter.widget-view+json": {
       "model_id": "fee6e6225c834ef59a82ac5c572f13f8",
       "version_major": 2,
       "version_minor": 0
      },
      "text/plain": [
       "Sigma(nx.DiGraph with 366 nodes and 1,107 edges)"
      ]
     },
     "metadata": {},
     "output_type": "display_data"
    }
   ],
   "source": [
    "Sigma(g, default_edge_type='curve', default_edge_curveness=0.1, hide_edges_on_move=True)"
   ]
  }
 ],
 "metadata": {
  "kernelspec": {
   "display_name": "Python 3",
   "language": "python",
   "name": "python3"
  },
  "language_info": {
   "codemirror_mode": {
    "name": "ipython",
    "version": 3
   },
   "file_extension": ".py",
   "mimetype": "text/x-python",
   "name": "python",
   "nbconvert_exporter": "python",
   "pygments_lexer": "ipython3",
   "version": "3.6.10"
  }
 },
 "nbformat": 4,
 "nbformat_minor": 5
}
