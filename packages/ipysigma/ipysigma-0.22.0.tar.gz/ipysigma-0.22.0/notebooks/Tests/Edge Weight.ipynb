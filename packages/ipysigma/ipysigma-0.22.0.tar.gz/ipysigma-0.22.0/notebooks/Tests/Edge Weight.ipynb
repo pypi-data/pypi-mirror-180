{
 "cells": [
  {
   "cell_type": "code",
   "execution_count": 1,
   "id": "d799319f-4ac6-4581-96f2-0b14d7bd3de6",
   "metadata": {},
   "outputs": [],
   "source": [
    "import networkx as nx\n",
    "from ipysigma import SigmaGrid\n",
    "from random import random\n",
    "from ipywidgets import HBox"
   ]
  },
  {
   "cell_type": "code",
   "execution_count": 2,
   "id": "94f92970-e17e-4e32-94b6-a1baf3e09b5b",
   "metadata": {},
   "outputs": [],
   "source": [
    "g = nx.karate_club_graph()"
   ]
  },
  {
   "cell_type": "code",
   "execution_count": 8,
   "id": "627724e2-093c-4998-be55-39e907073981",
   "metadata": {},
   "outputs": [
    {
     "data": {
      "application/vnd.jupyter.widget-view+json": {
       "model_id": "8dfc0af35523464bb3fa2ae1806ed3a4",
       "version_major": 2,
       "version_minor": 0
      },
      "text/plain": [
       "VBox(children=(HBox(children=(Sigma(nx.Graph with 34 nodes and 78 edges), Sigma(nx.Graph with 34 nodes and 78 …"
      ]
     },
     "metadata": {},
     "output_type": "display_data"
    }
   ],
   "source": [
    "SigmaGrid(\n",
    "    g,\n",
    "    node_metrics=['louvain'],\n",
    "    node_color='louvain',\n",
    "    default_node_size=10,\n",
    "    clickable_edges=True,\n",
    "    default_edge_size=5,\n",
    "    default_node_border_ratio=0.2,\n",
    ").add(hide_search=True).add(edge_weight=lambda u, v: 100 if u == 33 or v == 33 else 1)"
   ]
  }
 ],
 "metadata": {
  "kernelspec": {
   "display_name": "Python 3",
   "language": "python",
   "name": "python3"
  },
  "language_info": {
   "codemirror_mode": {
    "name": "ipython",
    "version": 3
   },
   "file_extension": ".py",
   "mimetype": "text/x-python",
   "name": "python",
   "nbconvert_exporter": "python",
   "pygments_lexer": "ipython3",
   "version": "3.6.10"
  }
 },
 "nbformat": 4,
 "nbformat_minor": 5
}
