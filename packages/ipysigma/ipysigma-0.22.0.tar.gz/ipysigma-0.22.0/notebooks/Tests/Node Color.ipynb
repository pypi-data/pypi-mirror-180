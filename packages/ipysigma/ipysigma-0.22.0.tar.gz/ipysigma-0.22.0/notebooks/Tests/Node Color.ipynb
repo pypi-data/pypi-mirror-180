{
 "cells": [
  {
   "cell_type": "code",
   "execution_count": 1,
   "id": "3088e4ad-aa26-47d1-9db8-0334fa4c244d",
   "metadata": {},
   "outputs": [],
   "source": [
    "import networkx as nx\n",
    "from ipysigma import Sigma\n",
    "from random import random"
   ]
  },
  {
   "cell_type": "code",
   "execution_count": 2,
   "id": "ea779382-7b8d-454d-8ea7-eca0782fdeea",
   "metadata": {},
   "outputs": [],
   "source": [
    "Sigma.set_defaults(height=250)"
   ]
  },
  {
   "cell_type": "code",
   "execution_count": 3,
   "id": "1e5dfda1-e813-4cb3-846c-3c18a7bd7385",
   "metadata": {},
   "outputs": [],
   "source": [
    "g = nx.karate_club_graph()"
   ]
  },
  {
   "cell_type": "code",
   "execution_count": 4,
   "id": "c56c9fd1-2ff3-408f-85db-22390b7aa6ec",
   "metadata": {},
   "outputs": [
    {
     "data": {
      "application/vnd.jupyter.widget-view+json": {
       "model_id": "7521d4c032b7487094b15b7d47e72525",
       "version_major": 2,
       "version_minor": 0
      },
      "text/plain": [
       "Sigma(nx.Graph with 34 nodes and 78 edges)"
      ]
     },
     "metadata": {},
     "output_type": "display_data"
    }
   ],
   "source": [
    "Sigma(g)"
   ]
  },
  {
   "cell_type": "code",
   "execution_count": 5,
   "id": "5dd90401-9cd7-4207-88ab-cb4e984eb391",
   "metadata": {},
   "outputs": [],
   "source": [
    "for node, attr in g.nodes.data():\n",
    "    attr['color'] = 'green' if random() > 0.5 else 'blue'\n",
    "    attr['other_color'] = 'cyan' if random() > 0.5 else 'magenta'"
   ]
  },
  {
   "cell_type": "code",
   "execution_count": 6,
   "id": "dc60420c-ee34-459b-9ecc-717b0a7d645c",
   "metadata": {},
   "outputs": [
    {
     "data": {
      "application/vnd.jupyter.widget-view+json": {
       "model_id": "55890c38854042738c0039dee74b1901",
       "version_major": 2,
       "version_minor": 0
      },
      "text/plain": [
       "Sigma(nx.Graph with 34 nodes and 78 edges)"
      ]
     },
     "metadata": {},
     "output_type": "display_data"
    }
   ],
   "source": [
    "Sigma(g)"
   ]
  },
  {
   "cell_type": "code",
   "execution_count": 7,
   "id": "258e68b8-0ba9-4736-99d6-1c5a896807c5",
   "metadata": {},
   "outputs": [
    {
     "data": {
      "application/vnd.jupyter.widget-view+json": {
       "model_id": "6263c8aab3e0469ba4234ab3d991cc7f",
       "version_major": 2,
       "version_minor": 0
      },
      "text/plain": [
       "Sigma(nx.Graph with 34 nodes and 78 edges)"
      ]
     },
     "metadata": {},
     "output_type": "display_data"
    }
   ],
   "source": [
    "Sigma(g, raw_node_color='other_color')"
   ]
  },
  {
   "cell_type": "code",
   "execution_count": 8,
   "id": "110302cf-4c0b-4da7-acd4-ee6dd14e5654",
   "metadata": {},
   "outputs": [],
   "source": [
    "for node, attr in g.nodes.data():\n",
    "    del attr['color']"
   ]
  },
  {
   "cell_type": "code",
   "execution_count": 9,
   "id": "2bfb205f-83cd-49ca-a1ed-bee47673cdca",
   "metadata": {},
   "outputs": [
    {
     "data": {
      "application/vnd.jupyter.widget-view+json": {
       "model_id": "af864e3e6026452c9a56803f2fdca8a1",
       "version_major": 2,
       "version_minor": 0
      },
      "text/plain": [
       "Sigma(nx.Graph with 34 nodes and 78 edges)"
      ]
     },
     "metadata": {},
     "output_type": "display_data"
    }
   ],
   "source": [
    "Sigma(g, default_node_color='orange', raw_node_color={1: 'blue'})"
   ]
  },
  {
   "cell_type": "code",
   "execution_count": 10,
   "id": "b6ca95f9-f56c-4163-957d-86664e3d9c03",
   "metadata": {},
   "outputs": [
    {
     "data": {
      "application/vnd.jupyter.widget-view+json": {
       "model_id": "359b2a1504c74c9e94553d747a637604",
       "version_major": 2,
       "version_minor": 0
      },
      "text/plain": [
       "Sigma(nx.Graph with 34 nodes and 78 edges)"
      ]
     },
     "metadata": {},
     "output_type": "display_data"
    }
   ],
   "source": [
    "Sigma(g, node_color='club', node_color_palette={'Officer': 'yellow'}, default_node_color='purple')"
   ]
  },
  {
   "cell_type": "code",
   "execution_count": 11,
   "id": "9906d74a-f1ac-4460-8d58-cada13c7ecb4",
   "metadata": {},
   "outputs": [
    {
     "data": {
      "application/vnd.jupyter.widget-view+json": {
       "model_id": "3bb9dd56ff904a12806304782fb3ef74",
       "version_major": 2,
       "version_minor": 0
      },
      "text/plain": [
       "Sigma(nx.Graph with 34 nodes and 78 edges)"
      ]
     },
     "metadata": {},
     "output_type": "display_data"
    }
   ],
   "source": [
    "Sigma(g, node_color=g.degree, node_color_gradient=['yellow', 'red'])"
   ]
  },
  {
   "cell_type": "code",
   "execution_count": 12,
   "id": "8cc6e958-32f3-498d-b637-af1ba3f4837b",
   "metadata": {
    "tags": []
   },
   "outputs": [
    {
     "data": {
      "application/vnd.jupyter.widget-view+json": {
       "model_id": "5053dfa87b274ca2840447c1a98ff696",
       "version_major": 2,
       "version_minor": 0
      },
      "text/plain": [
       "Sigma(nx.Graph with 34 nodes and 78 edges)"
      ]
     },
     "metadata": {},
     "output_type": "display_data"
    }
   ],
   "source": [
    "Sigma(g, node_color=lambda u: g.degree(u) if g.degree(u) >= 5 else None, node_color_gradient=['yellow', 'red'], default_node_color='blue')"
   ]
  }
 ],
 "metadata": {
  "kernelspec": {
   "display_name": "Python 3",
   "language": "python",
   "name": "python3"
  },
  "language_info": {
   "codemirror_mode": {
    "name": "ipython",
    "version": 3
   },
   "file_extension": ".py",
   "mimetype": "text/x-python",
   "name": "python",
   "nbconvert_exporter": "python",
   "pygments_lexer": "ipython3",
   "version": "3.6.12"
  }
 },
 "nbformat": 4,
 "nbformat_minor": 5
}
