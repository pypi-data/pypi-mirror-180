{
 "cells": [
  {
   "cell_type": "code",
   "execution_count": 1,
   "id": "cf655a94-75a2-46d4-9520-b78f79f38fda",
   "metadata": {},
   "outputs": [],
   "source": [
    "import networkx as nx\n",
    "from ipysigma import Sigma, SigmaGrid"
   ]
  },
  {
   "cell_type": "code",
   "execution_count": 2,
   "id": "dd8ededc-0b92-48a4-933b-5c10d328edc4",
   "metadata": {},
   "outputs": [],
   "source": [
    "Sigma.set_defaults(height=250)"
   ]
  },
  {
   "cell_type": "code",
   "execution_count": 3,
   "id": "90876808-5054-43f1-bdbb-f78ee066be18",
   "metadata": {},
   "outputs": [],
   "source": [
    "g = nx.karate_club_graph()"
   ]
  },
  {
   "cell_type": "code",
   "execution_count": 5,
   "id": "82652893-08fc-4834-9317-bcaef18b1936",
   "metadata": {},
   "outputs": [
    {
     "data": {
      "application/vnd.jupyter.widget-view+json": {
       "model_id": "780d3aa7d9234f4c95c5f450acdecd7e",
       "version_major": 2,
       "version_minor": 0
      },
      "text/plain": [
       "VBox(children=(HBox(children=(Sigma(nx.Graph with 34 nodes and 78 edges), Sigma(nx.Graph with 34 nodes and 78 …"
      ]
     },
     "metadata": {},
     "output_type": "display_data"
    }
   ],
   "source": [
    "SigmaGrid(g, hide_search=True).add().add()"
   ]
  },
  {
   "cell_type": "code",
   "execution_count": 6,
   "id": "0421da29-ebd2-40c6-91e3-89b2f6ad024b",
   "metadata": {},
   "outputs": [
    {
     "data": {
      "application/vnd.jupyter.widget-view+json": {
       "model_id": "e3f3f97533394e79a0ab9f97581feed5",
       "version_major": 2,
       "version_minor": 0
      },
      "text/plain": [
       "VBox(children=(HBox(children=(Sigma(nx.Graph with 34 nodes and 78 edges), Sigma(nx.Graph with 34 nodes and 78 …"
      ]
     },
     "metadata": {},
     "output_type": "display_data"
    }
   ],
   "source": [
    "SigmaGrid(g, hide_search=True, sync_targets=['layout']).add().add()"
   ]
  },
  {
   "cell_type": "code",
   "execution_count": 7,
   "id": "61906626-b75d-4aae-b5ae-832722c0b993",
   "metadata": {},
   "outputs": [
    {
     "data": {
      "application/vnd.jupyter.widget-view+json": {
       "model_id": "c8482b6d3ad345d6a34ab6ecc30b30d7",
       "version_major": 2,
       "version_minor": 0
      },
      "text/plain": [
       "VBox(children=(HBox(children=(Sigma(nx.Graph with 34 nodes and 78 edges), Sigma(nx.Graph with 34 nodes and 78 …"
      ]
     },
     "metadata": {},
     "output_type": "display_data"
    }
   ],
   "source": [
    "SigmaGrid(g, hide_search=True, sync_targets=['hover']).add().add()"
   ]
  },
  {
   "cell_type": "code",
   "execution_count": 8,
   "id": "6f8a1fd2-1348-44b1-97a9-805571824e15",
   "metadata": {},
   "outputs": [
    {
     "data": {
      "application/vnd.jupyter.widget-view+json": {
       "model_id": "536af015cb904a588277d8667cee8cf9",
       "version_major": 2,
       "version_minor": 0
      },
      "text/plain": [
       "VBox(children=(HBox(children=(Sigma(nx.Graph with 34 nodes and 78 edges), Sigma(nx.Graph with 34 nodes and 78 …"
      ]
     },
     "metadata": {},
     "output_type": "display_data"
    }
   ],
   "source": [
    "SigmaGrid(g, hide_search=True, sync_targets=['selection']).add().add()"
   ]
  },
  {
   "cell_type": "code",
   "execution_count": 9,
   "id": "ff8cef5a-ee7b-49d8-8f3c-25620c96b36d",
   "metadata": {},
   "outputs": [
    {
     "data": {
      "application/vnd.jupyter.widget-view+json": {
       "model_id": "462d61705f4a480d8355efb25014f70a",
       "version_major": 2,
       "version_minor": 0
      },
      "text/plain": [
       "VBox(children=(HBox(children=(Sigma(nx.Graph with 34 nodes and 78 edges), Sigma(nx.Graph with 34 nodes and 78 …"
      ]
     },
     "metadata": {},
     "output_type": "display_data"
    }
   ],
   "source": [
    "SigmaGrid(g, hide_search=True, sync_targets=['camera']).add().add()"
   ]
  }
 ],
 "metadata": {
  "kernelspec": {
   "display_name": "Python 3",
   "language": "python",
   "name": "python3"
  },
  "language_info": {
   "codemirror_mode": {
    "name": "ipython",
    "version": 3
   },
   "file_extension": ".py",
   "mimetype": "text/x-python",
   "name": "python",
   "nbconvert_exporter": "python",
   "pygments_lexer": "ipython3",
   "version": "3.6.10"
  }
 },
 "nbformat": 4,
 "nbformat_minor": 5
}
