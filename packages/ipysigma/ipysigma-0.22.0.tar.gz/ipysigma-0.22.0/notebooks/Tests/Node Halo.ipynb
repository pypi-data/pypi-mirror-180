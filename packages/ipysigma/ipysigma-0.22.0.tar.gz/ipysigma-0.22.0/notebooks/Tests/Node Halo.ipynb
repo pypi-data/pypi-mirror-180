{
 "cells": [
  {
   "cell_type": "code",
   "execution_count": 1,
   "id": "a63ed3a0-3ea8-4abb-91c8-d82ebf875609",
   "metadata": {},
   "outputs": [],
   "source": [
    "import networkx as nx\n",
    "from ipysigma import Sigma"
   ]
  },
  {
   "cell_type": "code",
   "execution_count": 2,
   "id": "6c7cdae8-296d-45d4-bfc9-1d6e4945902d",
   "metadata": {},
   "outputs": [],
   "source": [
    "g = nx.read_gexf('../data/arctic.gexf')"
   ]
  },
  {
   "cell_type": "code",
   "execution_count": 3,
   "id": "6efb599f-7913-463c-81aa-6d0083a7dcec",
   "metadata": {},
   "outputs": [],
   "source": [
    "b = nx.betweenness_centrality(g)\n",
    "nx.set_node_attributes(g, b, name='betweenness')"
   ]
  },
  {
   "cell_type": "code",
   "execution_count": 4,
   "id": "0db1d107-c5b6-4a54-b5c0-a5c263a7ae9f",
   "metadata": {},
   "outputs": [
    {
     "data": {
      "application/vnd.jupyter.widget-view+json": {
       "model_id": "c22598297aab49e5b486bc6eb551e509",
       "version_major": 2,
       "version_minor": 0
      },
      "text/plain": [
       "Sigma(nx.DiGraph with 1,715 nodes and 6,676 edges)"
      ]
     },
     "metadata": {},
     "output_type": "display_data"
    }
   ],
   "source": [
    "Sigma(g, raw_node_color=None, default_node_halo_size=10)"
   ]
  },
  {
   "cell_type": "code",
   "execution_count": 5,
   "id": "c23f2a54-a56f-4f5f-860d-4b8c6fdbf7b3",
   "metadata": {},
   "outputs": [
    {
     "data": {
      "application/vnd.jupyter.widget-view+json": {
       "model_id": "32fee86e6442494aa7da5ce385404744",
       "version_major": 2,
       "version_minor": 0
      },
      "text/plain": [
       "Sigma(nx.DiGraph with 1,715 nodes and 6,676 edges)"
      ]
     },
     "metadata": {},
     "output_type": "display_data"
    }
   ],
   "source": [
    "Sigma(g, raw_node_color=None, node_halo_size='betweenness')"
   ]
  },
  {
   "cell_type": "code",
   "execution_count": 6,
   "id": "3a76963e-d73b-4644-8d37-2c9db928aa53",
   "metadata": {},
   "outputs": [
    {
     "data": {
      "application/vnd.jupyter.widget-view+json": {
       "model_id": "39670f23d66f4253882a29b79d58be55",
       "version_major": 2,
       "version_minor": 0
      },
      "text/plain": [
       "Sigma(nx.DiGraph with 1,715 nodes and 6,676 edges)"
      ]
     },
     "metadata": {},
     "output_type": "display_data"
    }
   ],
   "source": [
    "Sigma(g, raw_node_color=None, node_halo_size='betweenness', default_node_border_color='black')"
   ]
  },
  {
   "cell_type": "code",
   "execution_count": 7,
   "id": "699e0c8f-45ee-457f-93f8-7c8dca0ca693",
   "metadata": {},
   "outputs": [
    {
     "data": {
      "application/vnd.jupyter.widget-view+json": {
       "model_id": "ce51b6befd904af0b0202b8449de2afb",
       "version_major": 2,
       "version_minor": 0
      },
      "text/plain": [
       "Sigma(nx.DiGraph with 1,715 nodes and 6,676 edges)"
      ]
     },
     "metadata": {},
     "output_type": "display_data"
    }
   ],
   "source": [
    "Sigma(g, raw_node_color=None, node_halo_size='betweenness', default_node_pictogram='settings')"
   ]
  },
  {
   "cell_type": "code",
   "execution_count": 8,
   "id": "24f4fa18-ba3d-495f-a8ae-7bdfaf5db52c",
   "metadata": {},
   "outputs": [
    {
     "data": {
      "application/vnd.jupyter.widget-view+json": {
       "model_id": "266ee22113ef4a61807d24ab3cb5cf95",
       "version_major": 2,
       "version_minor": 0
      },
      "text/plain": [
       "Sigma(nx.DiGraph with 1,715 nodes and 6,676 edges)"
      ]
     },
     "metadata": {},
     "output_type": "display_data"
    }
   ],
   "source": [
    "Sigma(g, raw_node_color=None, node_halo_size='betweenness', default_node_pictogram='settings', default_node_border_color='white')"
   ]
  },
  {
   "cell_type": "code",
   "execution_count": 9,
   "id": "c57d71f2-758e-41c0-930f-a5a651cb2011",
   "metadata": {},
   "outputs": [
    {
     "data": {
      "application/vnd.jupyter.widget-view+json": {
       "model_id": "9d99a64e07184d5590d31384b6410386",
       "version_major": 2,
       "version_minor": 0
      },
      "text/plain": [
       "Sigma(nx.DiGraph with 1,715 nodes and 6,676 edges)"
      ]
     },
     "metadata": {},
     "output_type": "display_data"
    }
   ],
   "source": [
    "Sigma(\n",
    "    g,\n",
    "    raw_node_color=None,\n",
    "    node_halo_size='betweenness',\n",
    "    node_halo_color_gradient='Inferno',\n",
    "    node_halo_color='betweenness',\n",
    "    node_halo_size_range=(3, 50),\n",
    "    default_node_color='rgba(0, 0, 0, 0)',\n",
    "    node_zindex='betweenness'\n",
    ")"
   ]
  }
 ],
 "metadata": {
  "kernelspec": {
   "display_name": "Python 3",
   "language": "python",
   "name": "python3"
  },
  "language_info": {
   "codemirror_mode": {
    "name": "ipython",
    "version": 3
   },
   "file_extension": ".py",
   "mimetype": "text/x-python",
   "name": "python",
   "nbconvert_exporter": "python",
   "pygments_lexer": "ipython3",
   "version": "3.6.10"
  }
 },
 "nbformat": 4,
 "nbformat_minor": 5
}
