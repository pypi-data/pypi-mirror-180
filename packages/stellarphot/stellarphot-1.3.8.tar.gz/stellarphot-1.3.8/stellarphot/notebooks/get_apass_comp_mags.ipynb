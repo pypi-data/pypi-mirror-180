{
 "cells": [
  {
   "cell_type": "code",
   "execution_count": 1,
   "id": "84f2e230-770d-4e7d-8985-1066d787f2ae",
   "metadata": {},
   "outputs": [],
   "source": [
    "from pathlib import Path  \n",
    "from collections import defaultdict\n",
    "\n",
    "# Use this to read in a CCD image\n",
    "from astropy.nddata import CCDData\n",
    "\n",
    "# Use this to respresent the coordinates of the variable star\n",
    "from astropy.coordinates import SkyCoord\n",
    "\n",
    "# We will use table to read and write tables of data as CSV files (or as FITS)\n",
    "from astropy.table import Table\n",
    "\n",
    "# We will use this to get the APASS stars in the field of view of an image\n",
    "from stellarphot.differential_photometry import find_apass_stars\n",
    "\n",
    "import requests\n",
    "import pandas\n",
    "import json"
   ]
  },
  {
   "cell_type": "code",
   "execution_count": 2,
   "id": "0dc7b9a4-828d-4f81-9368-df02f48a282f",
   "metadata": {},
   "outputs": [],
   "source": [
    "# Star chart parameters\n",
    "var_star_name = 'V0533 Her'\n",
    "\n",
    "# File for saving comparison star magnitudes in\n",
    "apass_mags_comp_stars = 'apass-V0533-Her.csv'\n",
    "\n",
    "# You chould not need to change these....\n",
    "fov = 40\n",
    "limiting_magnitude = 16"
   ]
  },
  {
   "cell_type": "code",
   "execution_count": 3,
   "id": "c5b2d933-078d-4d18-8fba-98531f2734a2",
   "metadata": {},
   "outputs": [
    {
     "name": "stdout",
     "output_type": "stream",
     "text": [
      "https://app.aavso.org/vsp/api/chart/?format=json&star=V0533+Her&fov=40&maglimit=16\n"
     ]
    }
   ],
   "source": [
    "payload = {'format':'json',\n",
    "           'star': var_star_name,\n",
    "           'fov': fov,\n",
    "           'maglimit': limiting_magnitude\n",
    "          }\n",
    "\n",
    "r = requests.get('https://app.aavso.org/vsp/api/chart', params = payload)\n",
    "\n",
    "print(r.url)\n",
    "\n",
    "food = r.json()"
   ]
  },
  {
   "cell_type": "code",
   "execution_count": 4,
   "id": "7af32e82-d57a-43b7-8a36-4c9cda5f0d09",
   "metadata": {},
   "outputs": [],
   "source": [
    "var_coord = SkyCoord(ra=food['ra'], dec=food['dec'], unit=('hour', 'degree'))"
   ]
  },
  {
   "cell_type": "code",
   "execution_count": 5,
   "id": "55b5b042-a11f-4716-8496-64b4cdfd7009",
   "metadata": {},
   "outputs": [],
   "source": [
    "if not food['photometry']:\n",
    "    raise RuntimeError('No comparison stars for this variable -- request them from the AAVSO')\n"
   ]
  },
  {
   "cell_type": "code",
   "execution_count": 6,
   "id": "881fec02-448f-46f4-b6d0-4b224c973645",
   "metadata": {},
   "outputs": [],
   "source": [
    "json = json.dumps(food['photometry'])\n",
    "panda = pandas.read_json(json, orient = 'records')"
   ]
  },
  {
   "cell_type": "code",
   "execution_count": 7,
   "id": "a39117f7-72a8-4c8b-88f8-51230815fbe6",
   "metadata": {},
   "outputs": [
    {
     "data": {
      "text/html": [
       "<div>\n",
       "<style scoped>\n",
       "    .dataframe tbody tr th:only-of-type {\n",
       "        vertical-align: middle;\n",
       "    }\n",
       "\n",
       "    .dataframe tbody tr th {\n",
       "        vertical-align: top;\n",
       "    }\n",
       "\n",
       "    .dataframe thead th {\n",
       "        text-align: right;\n",
       "    }\n",
       "</style>\n",
       "<table border=\"1\" class=\"dataframe\">\n",
       "  <thead>\n",
       "    <tr style=\"text-align: right;\">\n",
       "      <th></th>\n",
       "      <th>auid</th>\n",
       "      <th>ra</th>\n",
       "      <th>dec</th>\n",
       "      <th>label</th>\n",
       "      <th>bands</th>\n",
       "      <th>comments</th>\n",
       "    </tr>\n",
       "  </thead>\n",
       "  <tbody>\n",
       "    <tr>\n",
       "      <th>0</th>\n",
       "      <td>000-BCS-520</td>\n",
       "      <td>18:14:34.02</td>\n",
       "      <td>41:51:18.5</td>\n",
       "      <td>119</td>\n",
       "      <td>[{'band': 'V', 'mag': 11.935, 'error': 0.096},...</td>\n",
       "      <td></td>\n",
       "    </tr>\n",
       "    <tr>\n",
       "      <th>1</th>\n",
       "      <td>000-BCS-524</td>\n",
       "      <td>18:14:37.93</td>\n",
       "      <td>41:54:53.9</td>\n",
       "      <td>123</td>\n",
       "      <td>[{'band': 'V', 'mag': 12.256, 'error': 0.066},...</td>\n",
       "      <td></td>\n",
       "    </tr>\n",
       "    <tr>\n",
       "      <th>2</th>\n",
       "      <td>000-BCS-531</td>\n",
       "      <td>18:14:52.94</td>\n",
       "      <td>41:53:00.3</td>\n",
       "      <td>128</td>\n",
       "      <td>[{'band': 'V', 'mag': 12.756, 'error': 0.074},...</td>\n",
       "      <td></td>\n",
       "    </tr>\n",
       "    <tr>\n",
       "      <th>3</th>\n",
       "      <td>000-BCS-529</td>\n",
       "      <td>18:14:48.07</td>\n",
       "      <td>41:49:26.0</td>\n",
       "      <td>131</td>\n",
       "      <td>[{'band': 'V', 'mag': 13.09, 'error': 0.005}, ...</td>\n",
       "      <td></td>\n",
       "    </tr>\n",
       "    <tr>\n",
       "      <th>4</th>\n",
       "      <td>000-BCS-512</td>\n",
       "      <td>18:14:20.20</td>\n",
       "      <td>41:49:18.3</td>\n",
       "      <td>133</td>\n",
       "      <td>[{'band': 'V', 'mag': 13.273, 'error': 0.006},...</td>\n",
       "      <td></td>\n",
       "    </tr>\n",
       "    <tr>\n",
       "      <th>5</th>\n",
       "      <td>000-BCS-532</td>\n",
       "      <td>18:14:54.61</td>\n",
       "      <td>41:54:03.3</td>\n",
       "      <td>134</td>\n",
       "      <td>[{'band': 'V', 'mag': 13.437, 'error': 0.064},...</td>\n",
       "      <td></td>\n",
       "    </tr>\n",
       "    <tr>\n",
       "      <th>6</th>\n",
       "      <td>000-BCS-514</td>\n",
       "      <td>18:14:23.19</td>\n",
       "      <td>41:54:06.0</td>\n",
       "      <td>135</td>\n",
       "      <td>[{'band': 'V', 'mag': 13.491, 'error': 0.0}, {...</td>\n",
       "      <td></td>\n",
       "    </tr>\n",
       "    <tr>\n",
       "      <th>7</th>\n",
       "      <td>000-BCS-517</td>\n",
       "      <td>18:14:30.10</td>\n",
       "      <td>41:50:39.5</td>\n",
       "      <td>139</td>\n",
       "      <td>[{'band': 'V', 'mag': 13.939, 'error': 0.005},...</td>\n",
       "      <td></td>\n",
       "    </tr>\n",
       "    <tr>\n",
       "      <th>8</th>\n",
       "      <td>000-BCS-515</td>\n",
       "      <td>18:14:23.35</td>\n",
       "      <td>41:53:14.3</td>\n",
       "      <td>151</td>\n",
       "      <td>[{'band': 'V', 'mag': 15.078, 'error': 0.005},...</td>\n",
       "      <td></td>\n",
       "    </tr>\n",
       "    <tr>\n",
       "      <th>9</th>\n",
       "      <td>000-BCS-510</td>\n",
       "      <td>18:14:12.81</td>\n",
       "      <td>41:51:05.1</td>\n",
       "      <td>153</td>\n",
       "      <td>[{'band': 'V', 'mag': 15.32, 'error': 0.013000...</td>\n",
       "      <td></td>\n",
       "    </tr>\n",
       "  </tbody>\n",
       "</table>\n",
       "</div>"
      ],
      "text/plain": [
       "          auid           ra         dec  label  \\\n",
       "0  000-BCS-520  18:14:34.02  41:51:18.5    119   \n",
       "1  000-BCS-524  18:14:37.93  41:54:53.9    123   \n",
       "2  000-BCS-531  18:14:52.94  41:53:00.3    128   \n",
       "3  000-BCS-529  18:14:48.07  41:49:26.0    131   \n",
       "4  000-BCS-512  18:14:20.20  41:49:18.3    133   \n",
       "5  000-BCS-532  18:14:54.61  41:54:03.3    134   \n",
       "6  000-BCS-514  18:14:23.19  41:54:06.0    135   \n",
       "7  000-BCS-517  18:14:30.10  41:50:39.5    139   \n",
       "8  000-BCS-515  18:14:23.35  41:53:14.3    151   \n",
       "9  000-BCS-510  18:14:12.81  41:51:05.1    153   \n",
       "\n",
       "                                               bands comments  \n",
       "0  [{'band': 'V', 'mag': 11.935, 'error': 0.096},...           \n",
       "1  [{'band': 'V', 'mag': 12.256, 'error': 0.066},...           \n",
       "2  [{'band': 'V', 'mag': 12.756, 'error': 0.074},...           \n",
       "3  [{'band': 'V', 'mag': 13.09, 'error': 0.005}, ...           \n",
       "4  [{'band': 'V', 'mag': 13.273, 'error': 0.006},...           \n",
       "5  [{'band': 'V', 'mag': 13.437, 'error': 0.064},...           \n",
       "6  [{'band': 'V', 'mag': 13.491, 'error': 0.0}, {...           \n",
       "7  [{'band': 'V', 'mag': 13.939, 'error': 0.005},...           \n",
       "8  [{'band': 'V', 'mag': 15.078, 'error': 0.005},...           \n",
       "9  [{'band': 'V', 'mag': 15.32, 'error': 0.013000...           "
      ]
     },
     "execution_count": 7,
     "metadata": {},
     "output_type": "execute_result"
    }
   ],
   "source": [
    "panda"
   ]
  },
  {
   "cell_type": "code",
   "execution_count": 8,
   "id": "a227e757-c303-42e7-9f5a-2a1d8ec31502",
   "metadata": {},
   "outputs": [],
   "source": [
    "filepath = Path('aavso.csv') "
   ]
  },
  {
   "cell_type": "code",
   "execution_count": 9,
   "id": "25e5aa76-e334-4780-8e45-f6680596b9d7",
   "metadata": {},
   "outputs": [],
   "source": [
    "panda.to_csv(filepath) "
   ]
  },
  {
   "cell_type": "code",
   "execution_count": 10,
   "id": "bcd91195-e60f-484b-89a3-4e5ad5a7329b",
   "metadata": {},
   "outputs": [],
   "source": [
    "aavso_comps = Table.from_pandas(panda)"
   ]
  },
  {
   "cell_type": "code",
   "execution_count": 11,
   "id": "82efa3de-1f8e-45f8-8700-059f4b55b012",
   "metadata": {},
   "outputs": [],
   "source": [
    "aavso_comps['coords'] = SkyCoord(ra=aavso_comps['ra'], dec=aavso_comps['dec'], unit=('hour', 'degree'))"
   ]
  },
  {
   "cell_type": "code",
   "execution_count": 12,
   "id": "df1feb71-3027-4b6b-9ebe-907acbc6cb31",
   "metadata": {},
   "outputs": [],
   "source": [
    "# ccd = CCDData.read(sample_image)"
   ]
  },
  {
   "cell_type": "code",
   "execution_count": null,
   "id": "c654d8c2-c345-4495-b59e-6716b88ca4f8",
   "metadata": {},
   "outputs": [],
   "source": []
  },
  {
   "cell_type": "code",
   "execution_count": 13,
   "id": "5902ab0b-ec2b-44a9-bd2c-45b8819ca4d6",
   "metadata": {},
   "outputs": [],
   "source": [
    "apass, apass_low_error = find_apass_stars(var_coord, max_mag_error=0.1, max_color_error=0.2)\n",
    "\n",
    "apass['coords'] = SkyCoord(ra=apass['RAJ2000'], dec=apass['DEJ2000'], unit=('degree', 'degree'))\n",
    "\n"
   ]
  },
  {
   "cell_type": "markdown",
   "id": "280de335-0dd9-4cf4-86a2-cc7e842d3814",
   "metadata": {},
   "source": [
    "## Match the comp stars to APASS stars\n",
    "\n",
    "One of the columns of the APASS table will be called `coords` and will be a list of coordinate objects. Astropy coordinates have the magical ability to match themselves to the coordinates of another set of coordinats.\n",
    "\n",
    "You could use either the full apass list or the low error one below."
   ]
  },
  {
   "cell_type": "code",
   "execution_count": 14,
   "id": "544511b1-2060-4835-b254-a8334aea57ac",
   "metadata": {},
   "outputs": [],
   "source": [
    "index, d2d, _ = aavso_comps['coords'].match_to_catalog_sky(apass['coords'])"
   ]
  },
  {
   "cell_type": "code",
   "execution_count": 15,
   "id": "03b527a0-da24-4f0a-b067-4b41497a851c",
   "metadata": {},
   "outputs": [],
   "source": [
    "if (d2d.arcsec > 1.5).any():\n",
    "    raise RuntimeError('Coordinate mismatch')"
   ]
  },
  {
   "cell_type": "code",
   "execution_count": 16,
   "id": "e6c5645e-3678-4ccf-b73c-1f48ef42b734",
   "metadata": {},
   "outputs": [],
   "source": [
    "apass_comp_stars = apass[index]"
   ]
  },
  {
   "cell_type": "code",
   "execution_count": 17,
   "id": "e0e90de6-9150-4b3e-9909-53bc496bb95b",
   "metadata": {},
   "outputs": [],
   "source": [
    "apass_comp_stars['auid'] = aavso_comps['auid']"
   ]
  },
  {
   "cell_type": "code",
   "execution_count": 18,
   "id": "f9af1cab-a3d1-41c9-89c2-1142cddf7561",
   "metadata": {},
   "outputs": [],
   "source": [
    "apass_mag_cols_band_map = dict(\n",
    "    Vmag='V', Bmag='B', g_mag='SG', r_mag='SR', i_mag='SI'\n",
    ")\n",
    "\n",
    "mag_err_cols = {k: f'e_{k}' for k in apass_mag_cols_band_map.keys()}"
   ]
  },
  {
   "cell_type": "code",
   "execution_count": 19,
   "id": "1f03d7f3-a632-4ea3-ad1e-eaa87594b6d6",
   "metadata": {},
   "outputs": [],
   "source": [
    "del apass_comp_stars['coords'], apass_comp_stars['B-V'], apass_comp_stars['e_B-V']"
   ]
  },
  {
   "cell_type": "code",
   "execution_count": 20,
   "id": "5ff46e2f-3255-4de5-8db8-25adc0284c3f",
   "metadata": {},
   "outputs": [],
   "source": [
    "constant_cols = set(apass_comp_stars.colnames) - set(apass_mag_cols_band_map.keys()) - set(mag_err_cols.values())"
   ]
  },
  {
   "cell_type": "code",
   "execution_count": 21,
   "id": "40e0c7b4-21e5-4855-a072-ad27d2e3fa0d",
   "metadata": {},
   "outputs": [],
   "source": [
    "rearranged = defaultdict(list)\n",
    "n_bands = len(apass_mag_cols_band_map.keys())\n",
    "\n",
    "for row in apass_comp_stars:\n",
    "    for cc in constant_cols:\n",
    "        rearranged[cc].extend([row[cc]] * n_bands)\n",
    "    for band, band_name in apass_mag_cols_band_map.items():\n",
    "        rearranged['band'].append(band_name)\n",
    "        rearranged['mag'].append(row[band])\n",
    "        rearranged['mag_err'].append(row[mag_err_cols[band]])"
   ]
  },
  {
   "cell_type": "code",
   "execution_count": 22,
   "id": "4c2bdfb6-9e18-4bd3-a3bb-22bfd8a2109b",
   "metadata": {},
   "outputs": [],
   "source": [
    "rearranged = Table(rearranged)"
   ]
  },
  {
   "cell_type": "code",
   "execution_count": 23,
   "id": "3e70455f-fd7d-4d2b-b59a-bd10bb175329",
   "metadata": {},
   "outputs": [
    {
     "data": {
      "text/html": [
       "<div><i>Table length=50</i>\n",
       "<table id=\"table4353724912\" class=\"table-striped table-bordered table-condensed\">\n",
       "<thead><tr><th>e_RAJ2000</th><th>RAJ2000</th><th>Field</th><th>auid</th><th>DEJ2000</th><th>e_DEJ2000</th><th>mobs</th><th>nobs</th><th>recno</th><th>band</th><th>mag</th><th>mag_err</th></tr></thead>\n",
       "<thead><tr><th>float32</th><th>float64</th><th>int64</th><th>str11</th><th>float64</th><th>float32</th><th>int16</th><th>int16</th><th>int32</th><th>str2</th><th>float32</th><th>float32</th></tr></thead>\n",
       "<tr><td>0.373</td><td>273.641704</td><td>20121948</td><td>000-BCS-520</td><td>41.855157</td><td>0.246</td><td>36</td><td>4</td><td>14537579</td><td>V</td><td>11.861</td><td>0.042</td></tr>\n",
       "<tr><td>0.373</td><td>273.641704</td><td>20121948</td><td>000-BCS-520</td><td>41.855157</td><td>0.246</td><td>36</td><td>4</td><td>14537579</td><td>B</td><td>12.277</td><td>0.116</td></tr>\n",
       "<tr><td>0.373</td><td>273.641704</td><td>20121948</td><td>000-BCS-520</td><td>41.855157</td><td>0.246</td><td>36</td><td>4</td><td>14537579</td><td>SG</td><td>12.039</td><td>0.053</td></tr>\n",
       "<tr><td>0.373</td><td>273.641704</td><td>20121948</td><td>000-BCS-520</td><td>41.855157</td><td>0.246</td><td>36</td><td>4</td><td>14537579</td><td>SR</td><td>11.759</td><td>0.052</td></tr>\n",
       "<tr><td>0.373</td><td>273.641704</td><td>20121948</td><td>000-BCS-520</td><td>41.855157</td><td>0.246</td><td>36</td><td>4</td><td>14537579</td><td>SI</td><td>11.677</td><td>0.055</td></tr>\n",
       "<tr><td>0.469</td><td>273.657989</td><td>20121948</td><td>000-BCS-524</td><td>41.914956</td><td>0.493</td><td>36</td><td>4</td><td>14537585</td><td>V</td><td>12.174</td><td>0.066</td></tr>\n",
       "<tr><td>0.469</td><td>273.657989</td><td>20121948</td><td>000-BCS-524</td><td>41.914956</td><td>0.493</td><td>36</td><td>4</td><td>14537585</td><td>B</td><td>13.28</td><td>0.114</td></tr>\n",
       "<tr><td>0.469</td><td>273.657989</td><td>20121948</td><td>000-BCS-524</td><td>41.914956</td><td>0.493</td><td>36</td><td>4</td><td>14537585</td><td>SG</td><td>12.708</td><td>0.059</td></tr>\n",
       "<tr><td>0.469</td><td>273.657989</td><td>20121948</td><td>000-BCS-524</td><td>41.914956</td><td>0.493</td><td>36</td><td>4</td><td>14537585</td><td>SR</td><td>11.81</td><td>0.045</td></tr>\n",
       "<tr><td>...</td><td>...</td><td>...</td><td>...</td><td>...</td><td>...</td><td>...</td><td>...</td><td>...</td><td>...</td><td>...</td><td>...</td></tr>\n",
       "<tr><td>0.542</td><td>273.597347</td><td>20121948</td><td>000-BCS-515</td><td>41.887331</td><td>0.452</td><td>34</td><td>4</td><td>14537589</td><td>V</td><td>15.09</td><td>0.057</td></tr>\n",
       "<tr><td>0.542</td><td>273.597347</td><td>20121948</td><td>000-BCS-515</td><td>41.887331</td><td>0.452</td><td>34</td><td>4</td><td>14537589</td><td>B</td><td>15.505</td><td>0.083</td></tr>\n",
       "<tr><td>0.542</td><td>273.597347</td><td>20121948</td><td>000-BCS-515</td><td>41.887331</td><td>0.452</td><td>34</td><td>4</td><td>14537589</td><td>SG</td><td>15.244</td><td>0.05</td></tr>\n",
       "<tr><td>0.542</td><td>273.597347</td><td>20121948</td><td>000-BCS-515</td><td>41.887331</td><td>0.452</td><td>34</td><td>4</td><td>14537589</td><td>SR</td><td>14.956</td><td>0.05</td></tr>\n",
       "<tr><td>0.542</td><td>273.597347</td><td>20121948</td><td>000-BCS-515</td><td>41.887331</td><td>0.452</td><td>34</td><td>4</td><td>14537589</td><td>SI</td><td>14.885</td><td>0.125</td></tr>\n",
       "<tr><td>0.541</td><td>273.553322</td><td>20121948</td><td>000-BCS-510</td><td>41.851459</td><td>0.46</td><td>34</td><td>4</td><td>14537574</td><td>V</td><td>15.33</td><td>0.039</td></tr>\n",
       "<tr><td>0.541</td><td>273.553322</td><td>20121948</td><td>000-BCS-510</td><td>41.851459</td><td>0.46</td><td>34</td><td>4</td><td>14537574</td><td>B</td><td>16.021</td><td>0.117</td></tr>\n",
       "<tr><td>0.541</td><td>273.553322</td><td>20121948</td><td>000-BCS-510</td><td>41.851459</td><td>0.46</td><td>34</td><td>4</td><td>14537574</td><td>SG</td><td>15.616</td><td>0.069</td></tr>\n",
       "<tr><td>0.541</td><td>273.553322</td><td>20121948</td><td>000-BCS-510</td><td>41.851459</td><td>0.46</td><td>34</td><td>4</td><td>14537574</td><td>SR</td><td>15.089</td><td>0.041</td></tr>\n",
       "<tr><td>0.541</td><td>273.553322</td><td>20121948</td><td>000-BCS-510</td><td>41.851459</td><td>0.46</td><td>34</td><td>4</td><td>14537574</td><td>SI</td><td>14.929</td><td>0.115</td></tr>\n",
       "</table></div>"
      ],
      "text/plain": [
       "<Table length=50>\n",
       "e_RAJ2000  RAJ2000    Field       auid     DEJ2000  ...  nobs  recno   band   mag   mag_err\n",
       " float32   float64    int64      str11     float64  ... int16  int32   str2 float32 float32\n",
       "--------- ---------- -------- ----------- --------- ... ----- -------- ---- ------- -------\n",
       "    0.373 273.641704 20121948 000-BCS-520 41.855157 ...     4 14537579    V  11.861   0.042\n",
       "    0.373 273.641704 20121948 000-BCS-520 41.855157 ...     4 14537579    B  12.277   0.116\n",
       "    0.373 273.641704 20121948 000-BCS-520 41.855157 ...     4 14537579   SG  12.039   0.053\n",
       "    0.373 273.641704 20121948 000-BCS-520 41.855157 ...     4 14537579   SR  11.759   0.052\n",
       "    0.373 273.641704 20121948 000-BCS-520 41.855157 ...     4 14537579   SI  11.677   0.055\n",
       "    0.469 273.657989 20121948 000-BCS-524 41.914956 ...     4 14537585    V  12.174   0.066\n",
       "    0.469 273.657989 20121948 000-BCS-524 41.914956 ...     4 14537585    B   13.28   0.114\n",
       "    0.469 273.657989 20121948 000-BCS-524 41.914956 ...     4 14537585   SG  12.708   0.059\n",
       "    0.469 273.657989 20121948 000-BCS-524 41.914956 ...     4 14537585   SR   11.81   0.045\n",
       "      ...        ...      ...         ...       ... ...   ...      ...  ...     ...     ...\n",
       "    0.542 273.597347 20121948 000-BCS-515 41.887331 ...     4 14537589    V   15.09   0.057\n",
       "    0.542 273.597347 20121948 000-BCS-515 41.887331 ...     4 14537589    B  15.505   0.083\n",
       "    0.542 273.597347 20121948 000-BCS-515 41.887331 ...     4 14537589   SG  15.244    0.05\n",
       "    0.542 273.597347 20121948 000-BCS-515 41.887331 ...     4 14537589   SR  14.956    0.05\n",
       "    0.542 273.597347 20121948 000-BCS-515 41.887331 ...     4 14537589   SI  14.885   0.125\n",
       "    0.541 273.553322 20121948 000-BCS-510 41.851459 ...     4 14537574    V   15.33   0.039\n",
       "    0.541 273.553322 20121948 000-BCS-510 41.851459 ...     4 14537574    B  16.021   0.117\n",
       "    0.541 273.553322 20121948 000-BCS-510 41.851459 ...     4 14537574   SG  15.616   0.069\n",
       "    0.541 273.553322 20121948 000-BCS-510 41.851459 ...     4 14537574   SR  15.089   0.041\n",
       "    0.541 273.553322 20121948 000-BCS-510 41.851459 ...     4 14537574   SI  14.929   0.115"
      ]
     },
     "execution_count": 23,
     "metadata": {},
     "output_type": "execute_result"
    }
   ],
   "source": [
    "rearranged"
   ]
  },
  {
   "cell_type": "code",
   "execution_count": 24,
   "id": "ba99d38b-9e1c-481a-9d3a-97ee7e15c720",
   "metadata": {},
   "outputs": [],
   "source": [
    "rearranged.write(apass_mags_comp_stars, overwrite=True)"
   ]
  },
  {
   "cell_type": "code",
   "execution_count": null,
   "id": "513083c8-0785-4f81-8e5b-013f9fd9a266",
   "metadata": {},
   "outputs": [],
   "source": []
  }
 ],
 "metadata": {
  "kernelspec": {
   "display_name": "Python 3 (ipykernel)",
   "language": "python",
   "name": "python3"
  },
  "language_info": {
   "codemirror_mode": {
    "name": "ipython",
    "version": 3
   },
   "file_extension": ".py",
   "mimetype": "text/x-python",
   "name": "python",
   "nbconvert_exporter": "python",
   "pygments_lexer": "ipython3",
   "version": "3.9.13"
  }
 },
 "nbformat": 4,
 "nbformat_minor": 5
}
