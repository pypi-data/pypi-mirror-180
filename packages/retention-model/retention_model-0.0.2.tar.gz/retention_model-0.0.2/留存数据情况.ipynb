{
 "cells": [
  {
   "cell_type": "code",
   "execution_count": 14,
   "id": "28599eed",
   "metadata": {
    "ExecuteTime": {
     "end_time": "2022-11-23T03:44:43.835123Z",
     "start_time": "2022-11-23T03:44:43.823157Z"
    }
   },
   "outputs": [],
   "source": [
    "import pandas as pd\n",
    "from matplotlib import pyplot as plt"
   ]
  },
  {
   "cell_type": "code",
   "execution_count": 2,
   "id": "88634489",
   "metadata": {
    "ExecuteTime": {
     "end_time": "2022-11-23T03:28:51.013760Z",
     "start_time": "2022-11-23T03:28:50.988861Z"
    }
   },
   "outputs": [
    {
     "data": {
      "text/html": [
       "<div>\n",
       "<style scoped>\n",
       "    .dataframe tbody tr th:only-of-type {\n",
       "        vertical-align: middle;\n",
       "    }\n",
       "\n",
       "    .dataframe tbody tr th {\n",
       "        vertical-align: top;\n",
       "    }\n",
       "\n",
       "    .dataframe thead th {\n",
       "        text-align: right;\n",
       "    }\n",
       "</style>\n",
       "<table border=\"1\" class=\"dataframe\">\n",
       "  <thead>\n",
       "    <tr style=\"text-align: right;\">\n",
       "      <th></th>\n",
       "      <th>start_month</th>\n",
       "      <th>lag_month</th>\n",
       "      <th>cp_num</th>\n",
       "      <th>pub_num</th>\n",
       "      <th>pr</th>\n",
       "    </tr>\n",
       "  </thead>\n",
       "  <tbody>\n",
       "    <tr>\n",
       "      <th>0</th>\n",
       "      <td>202106</td>\n",
       "      <td>202106</td>\n",
       "      <td>26</td>\n",
       "      <td>49</td>\n",
       "      <td>0.084967</td>\n",
       "    </tr>\n",
       "    <tr>\n",
       "      <th>1</th>\n",
       "      <td>202106</td>\n",
       "      <td>202107</td>\n",
       "      <td>298</td>\n",
       "      <td>15622</td>\n",
       "      <td>0.973856</td>\n",
       "    </tr>\n",
       "    <tr>\n",
       "      <th>2</th>\n",
       "      <td>202106</td>\n",
       "      <td>202108</td>\n",
       "      <td>278</td>\n",
       "      <td>11357</td>\n",
       "      <td>0.908497</td>\n",
       "    </tr>\n",
       "    <tr>\n",
       "      <th>3</th>\n",
       "      <td>202106</td>\n",
       "      <td>202109</td>\n",
       "      <td>255</td>\n",
       "      <td>10308</td>\n",
       "      <td>0.833333</td>\n",
       "    </tr>\n",
       "    <tr>\n",
       "      <th>4</th>\n",
       "      <td>202106</td>\n",
       "      <td>202110</td>\n",
       "      <td>252</td>\n",
       "      <td>10342</td>\n",
       "      <td>0.823529</td>\n",
       "    </tr>\n",
       "  </tbody>\n",
       "</table>\n",
       "</div>"
      ],
      "text/plain": [
       "   start_month  lag_month  cp_num  pub_num        pr\n",
       "0       202106     202106      26       49  0.084967\n",
       "1       202106     202107     298    15622  0.973856\n",
       "2       202106     202108     278    11357  0.908497\n",
       "3       202106     202109     255    10308  0.833333\n",
       "4       202106     202110     252    10342  0.823529"
      ]
     },
     "execution_count": 2,
     "metadata": {},
     "output_type": "execute_result"
    }
   ],
   "source": [
    "df = pd.read_csv('X引入留存(月).csv', encoding='utf-8')\n",
    "df.head()"
   ]
  },
  {
   "cell_type": "code",
   "execution_count": 11,
   "id": "e2e3548c",
   "metadata": {
    "ExecuteTime": {
     "end_time": "2022-11-23T03:43:16.690271Z",
     "start_time": "2022-11-23T03:43:16.567359Z"
    }
   },
   "outputs": [],
   "source": [
    "df['lag'] = df['lag_month'].apply(lambda x: int(str(x)[0:4]) * 12 + int(str(x)[4:])) - \\\n",
    "             df['start_month'].apply(lambda x: int(str(x)[0:4]) * 12 + int(str(x)[4:]))"
   ]
  },
  {
   "cell_type": "code",
   "execution_count": 12,
   "id": "d90ab22d",
   "metadata": {
    "ExecuteTime": {
     "end_time": "2022-11-23T03:43:44.784094Z",
     "start_time": "2022-11-23T03:43:44.750194Z"
    }
   },
   "outputs": [
    {
     "data": {
      "text/html": [
       "<div>\n",
       "<style scoped>\n",
       "    .dataframe tbody tr th:only-of-type {\n",
       "        vertical-align: middle;\n",
       "    }\n",
       "\n",
       "    .dataframe tbody tr th {\n",
       "        vertical-align: top;\n",
       "    }\n",
       "\n",
       "    .dataframe thead th {\n",
       "        text-align: right;\n",
       "    }\n",
       "</style>\n",
       "<table border=\"1\" class=\"dataframe\">\n",
       "  <thead>\n",
       "    <tr style=\"text-align: right;\">\n",
       "      <th>start_month</th>\n",
       "      <th>202106</th>\n",
       "      <th>202107</th>\n",
       "      <th>202108</th>\n",
       "      <th>202109</th>\n",
       "      <th>202110</th>\n",
       "      <th>202111</th>\n",
       "      <th>202112</th>\n",
       "      <th>202201</th>\n",
       "      <th>202202</th>\n",
       "      <th>202203</th>\n",
       "      <th>202204</th>\n",
       "      <th>202205</th>\n",
       "      <th>202206</th>\n",
       "      <th>202207</th>\n",
       "      <th>202208</th>\n",
       "      <th>202209</th>\n",
       "      <th>202210</th>\n",
       "      <th>202211</th>\n",
       "    </tr>\n",
       "    <tr>\n",
       "      <th>lag</th>\n",
       "      <th></th>\n",
       "      <th></th>\n",
       "      <th></th>\n",
       "      <th></th>\n",
       "      <th></th>\n",
       "      <th></th>\n",
       "      <th></th>\n",
       "      <th></th>\n",
       "      <th></th>\n",
       "      <th></th>\n",
       "      <th></th>\n",
       "      <th></th>\n",
       "      <th></th>\n",
       "      <th></th>\n",
       "      <th></th>\n",
       "      <th></th>\n",
       "      <th></th>\n",
       "      <th></th>\n",
       "    </tr>\n",
       "  </thead>\n",
       "  <tbody>\n",
       "    <tr>\n",
       "      <th>0</th>\n",
       "      <td>0.084967</td>\n",
       "      <td>0.851402</td>\n",
       "      <td>0.921404</td>\n",
       "      <td>0.906964</td>\n",
       "      <td>0.796511</td>\n",
       "      <td>0.926392</td>\n",
       "      <td>0.852210</td>\n",
       "      <td>0.927246</td>\n",
       "      <td>0.908328</td>\n",
       "      <td>0.914223</td>\n",
       "      <td>0.924517</td>\n",
       "      <td>0.925802</td>\n",
       "      <td>0.924742</td>\n",
       "      <td>0.888401</td>\n",
       "      <td>0.785238</td>\n",
       "      <td>0.801866</td>\n",
       "      <td>0.745168</td>\n",
       "      <td>0.831944</td>\n",
       "    </tr>\n",
       "    <tr>\n",
       "      <th>1</th>\n",
       "      <td>0.973856</td>\n",
       "      <td>0.911252</td>\n",
       "      <td>0.924944</td>\n",
       "      <td>0.899418</td>\n",
       "      <td>0.923538</td>\n",
       "      <td>0.743219</td>\n",
       "      <td>0.970994</td>\n",
       "      <td>0.927246</td>\n",
       "      <td>0.855843</td>\n",
       "      <td>0.929081</td>\n",
       "      <td>0.941486</td>\n",
       "      <td>0.936083</td>\n",
       "      <td>0.953737</td>\n",
       "      <td>0.950421</td>\n",
       "      <td>0.926893</td>\n",
       "      <td>0.908291</td>\n",
       "      <td>0.941423</td>\n",
       "      <td>NaN</td>\n",
       "    </tr>\n",
       "    <tr>\n",
       "      <th>2</th>\n",
       "      <td>0.908497</td>\n",
       "      <td>0.848324</td>\n",
       "      <td>0.861521</td>\n",
       "      <td>0.841527</td>\n",
       "      <td>0.714747</td>\n",
       "      <td>0.652748</td>\n",
       "      <td>0.896409</td>\n",
       "      <td>0.825027</td>\n",
       "      <td>0.747026</td>\n",
       "      <td>0.854794</td>\n",
       "      <td>0.870392</td>\n",
       "      <td>0.881333</td>\n",
       "      <td>0.900644</td>\n",
       "      <td>0.894621</td>\n",
       "      <td>0.837833</td>\n",
       "      <td>0.893934</td>\n",
       "      <td>NaN</td>\n",
       "      <td>NaN</td>\n",
       "    </tr>\n",
       "    <tr>\n",
       "      <th>3</th>\n",
       "      <td>0.833333</td>\n",
       "      <td>0.815492</td>\n",
       "      <td>0.818329</td>\n",
       "      <td>0.679495</td>\n",
       "      <td>0.648044</td>\n",
       "      <td>0.598233</td>\n",
       "      <td>0.846685</td>\n",
       "      <td>0.739905</td>\n",
       "      <td>0.692092</td>\n",
       "      <td>0.802892</td>\n",
       "      <td>0.828847</td>\n",
       "      <td>0.827945</td>\n",
       "      <td>0.865722</td>\n",
       "      <td>0.806989</td>\n",
       "      <td>0.802244</td>\n",
       "      <td>NaN</td>\n",
       "      <td>NaN</td>\n",
       "      <td>NaN</td>\n",
       "    </tr>\n",
       "    <tr>\n",
       "      <th>4</th>\n",
       "      <td>0.823529</td>\n",
       "      <td>0.780096</td>\n",
       "      <td>0.661946</td>\n",
       "      <td>0.631091</td>\n",
       "      <td>0.595174</td>\n",
       "      <td>0.582887</td>\n",
       "      <td>0.790055</td>\n",
       "      <td>0.716260</td>\n",
       "      <td>0.659902</td>\n",
       "      <td>0.776149</td>\n",
       "      <td>0.801931</td>\n",
       "      <td>0.802552</td>\n",
       "      <td>0.792655</td>\n",
       "      <td>0.802049</td>\n",
       "      <td>NaN</td>\n",
       "      <td>NaN</td>\n",
       "      <td>NaN</td>\n",
       "      <td>NaN</td>\n",
       "    </tr>\n",
       "    <tr>\n",
       "      <th>5</th>\n",
       "      <td>0.758170</td>\n",
       "      <td>0.653215</td>\n",
       "      <td>0.611370</td>\n",
       "      <td>0.579021</td>\n",
       "      <td>0.582494</td>\n",
       "      <td>0.551749</td>\n",
       "      <td>0.781768</td>\n",
       "      <td>0.685704</td>\n",
       "      <td>0.637509</td>\n",
       "      <td>0.748811</td>\n",
       "      <td>0.771943</td>\n",
       "      <td>0.729716</td>\n",
       "      <td>0.781701</td>\n",
       "      <td>NaN</td>\n",
       "      <td>NaN</td>\n",
       "      <td>NaN</td>\n",
       "      <td>NaN</td>\n",
       "      <td>NaN</td>\n",
       "    </tr>\n",
       "    <tr>\n",
       "      <th>6</th>\n",
       "      <td>0.653595</td>\n",
       "      <td>0.606532</td>\n",
       "      <td>0.568481</td>\n",
       "      <td>0.574386</td>\n",
       "      <td>0.548528</td>\n",
       "      <td>0.531763</td>\n",
       "      <td>0.729282</td>\n",
       "      <td>0.668971</td>\n",
       "      <td>0.616165</td>\n",
       "      <td>0.717314</td>\n",
       "      <td>0.708748</td>\n",
       "      <td>0.712498</td>\n",
       "      <td>NaN</td>\n",
       "      <td>NaN</td>\n",
       "      <td>NaN</td>\n",
       "      <td>NaN</td>\n",
       "      <td>NaN</td>\n",
       "      <td>NaN</td>\n",
       "    </tr>\n",
       "    <tr>\n",
       "      <th>7</th>\n",
       "      <td>0.617647</td>\n",
       "      <td>0.560876</td>\n",
       "      <td>0.558568</td>\n",
       "      <td>0.538702</td>\n",
       "      <td>0.532314</td>\n",
       "      <td>0.514186</td>\n",
       "      <td>0.698895</td>\n",
       "      <td>0.657330</td>\n",
       "      <td>0.600770</td>\n",
       "      <td>0.651149</td>\n",
       "      <td>0.705530</td>\n",
       "      <td>NaN</td>\n",
       "      <td>NaN</td>\n",
       "      <td>NaN</td>\n",
       "      <td>NaN</td>\n",
       "      <td>NaN</td>\n",
       "      <td>NaN</td>\n",
       "      <td>NaN</td>\n",
       "    </tr>\n",
       "    <tr>\n",
       "      <th>8</th>\n",
       "      <td>0.568627</td>\n",
       "      <td>0.557969</td>\n",
       "      <td>0.525187</td>\n",
       "      <td>0.527922</td>\n",
       "      <td>0.505802</td>\n",
       "      <td>0.500714</td>\n",
       "      <td>0.705801</td>\n",
       "      <td>0.631139</td>\n",
       "      <td>0.540238</td>\n",
       "      <td>0.642631</td>\n",
       "      <td>NaN</td>\n",
       "      <td>NaN</td>\n",
       "      <td>NaN</td>\n",
       "      <td>NaN</td>\n",
       "      <td>NaN</td>\n",
       "      <td>NaN</td>\n",
       "      <td>NaN</td>\n",
       "      <td>NaN</td>\n",
       "    </tr>\n",
       "    <tr>\n",
       "      <th>9</th>\n",
       "      <td>0.581699</td>\n",
       "      <td>0.511970</td>\n",
       "      <td>0.511026</td>\n",
       "      <td>0.501509</td>\n",
       "      <td>0.495274</td>\n",
       "      <td>0.485724</td>\n",
       "      <td>0.689227</td>\n",
       "      <td>0.565296</td>\n",
       "      <td>0.538488</td>\n",
       "      <td>NaN</td>\n",
       "      <td>NaN</td>\n",
       "      <td>NaN</td>\n",
       "      <td>NaN</td>\n",
       "      <td>NaN</td>\n",
       "      <td>NaN</td>\n",
       "      <td>NaN</td>\n",
       "      <td>NaN</td>\n",
       "      <td>NaN</td>\n",
       "    </tr>\n",
       "  </tbody>\n",
       "</table>\n",
       "</div>"
      ],
      "text/plain": [
       "start_month    202106    202107    202108    202109    202110    202111  \\\n",
       "lag                                                                       \n",
       "0            0.084967  0.851402  0.921404  0.906964  0.796511  0.926392   \n",
       "1            0.973856  0.911252  0.924944  0.899418  0.923538  0.743219   \n",
       "2            0.908497  0.848324  0.861521  0.841527  0.714747  0.652748   \n",
       "3            0.833333  0.815492  0.818329  0.679495  0.648044  0.598233   \n",
       "4            0.823529  0.780096  0.661946  0.631091  0.595174  0.582887   \n",
       "5            0.758170  0.653215  0.611370  0.579021  0.582494  0.551749   \n",
       "6            0.653595  0.606532  0.568481  0.574386  0.548528  0.531763   \n",
       "7            0.617647  0.560876  0.558568  0.538702  0.532314  0.514186   \n",
       "8            0.568627  0.557969  0.525187  0.527922  0.505802  0.500714   \n",
       "9            0.581699  0.511970  0.511026  0.501509  0.495274  0.485724   \n",
       "\n",
       "start_month    202112    202201    202202    202203    202204    202205  \\\n",
       "lag                                                                       \n",
       "0            0.852210  0.927246  0.908328  0.914223  0.924517  0.925802   \n",
       "1            0.970994  0.927246  0.855843  0.929081  0.941486  0.936083   \n",
       "2            0.896409  0.825027  0.747026  0.854794  0.870392  0.881333   \n",
       "3            0.846685  0.739905  0.692092  0.802892  0.828847  0.827945   \n",
       "4            0.790055  0.716260  0.659902  0.776149  0.801931  0.802552   \n",
       "5            0.781768  0.685704  0.637509  0.748811  0.771943  0.729716   \n",
       "6            0.729282  0.668971  0.616165  0.717314  0.708748  0.712498   \n",
       "7            0.698895  0.657330  0.600770  0.651149  0.705530       NaN   \n",
       "8            0.705801  0.631139  0.540238  0.642631       NaN       NaN   \n",
       "9            0.689227  0.565296  0.538488       NaN       NaN       NaN   \n",
       "\n",
       "start_month    202206    202207    202208    202209    202210    202211  \n",
       "lag                                                                      \n",
       "0            0.924742  0.888401  0.785238  0.801866  0.745168  0.831944  \n",
       "1            0.953737  0.950421  0.926893  0.908291  0.941423       NaN  \n",
       "2            0.900644  0.894621  0.837833  0.893934       NaN       NaN  \n",
       "3            0.865722  0.806989  0.802244       NaN       NaN       NaN  \n",
       "4            0.792655  0.802049       NaN       NaN       NaN       NaN  \n",
       "5            0.781701       NaN       NaN       NaN       NaN       NaN  \n",
       "6                 NaN       NaN       NaN       NaN       NaN       NaN  \n",
       "7                 NaN       NaN       NaN       NaN       NaN       NaN  \n",
       "8                 NaN       NaN       NaN       NaN       NaN       NaN  \n",
       "9                 NaN       NaN       NaN       NaN       NaN       NaN  "
      ]
     },
     "execution_count": 12,
     "metadata": {},
     "output_type": "execute_result"
    }
   ],
   "source": [
    "df1 = pd.pivot(df, index='lag', columns='start_month', values='pr')\n",
    "df1.head(10)"
   ]
  },
  {
   "cell_type": "code",
   "execution_count": 66,
   "id": "31d1a696",
   "metadata": {
    "ExecuteTime": {
     "end_time": "2022-11-23T13:41:40.354722Z",
     "start_time": "2022-11-23T13:41:40.323316Z"
    }
   },
   "outputs": [
    {
     "data": {
      "text/html": [
       "<div>\n",
       "<style scoped>\n",
       "    .dataframe tbody tr th:only-of-type {\n",
       "        vertical-align: middle;\n",
       "    }\n",
       "\n",
       "    .dataframe tbody tr th {\n",
       "        vertical-align: top;\n",
       "    }\n",
       "\n",
       "    .dataframe thead th {\n",
       "        text-align: right;\n",
       "    }\n",
       "</style>\n",
       "<table border=\"1\" class=\"dataframe\">\n",
       "  <thead>\n",
       "    <tr style=\"text-align: right;\">\n",
       "      <th>start_month</th>\n",
       "      <th>202106</th>\n",
       "      <th>202107</th>\n",
       "      <th>202108</th>\n",
       "      <th>202109</th>\n",
       "      <th>202110</th>\n",
       "      <th>202111</th>\n",
       "      <th>202112</th>\n",
       "      <th>202201</th>\n",
       "      <th>202202</th>\n",
       "      <th>202203</th>\n",
       "      <th>202204</th>\n",
       "      <th>202205</th>\n",
       "      <th>202206</th>\n",
       "      <th>202207</th>\n",
       "      <th>202208</th>\n",
       "      <th>202209</th>\n",
       "      <th>202210</th>\n",
       "      <th>202211</th>\n",
       "    </tr>\n",
       "    <tr>\n",
       "      <th>lag</th>\n",
       "      <th></th>\n",
       "      <th></th>\n",
       "      <th></th>\n",
       "      <th></th>\n",
       "      <th></th>\n",
       "      <th></th>\n",
       "      <th></th>\n",
       "      <th></th>\n",
       "      <th></th>\n",
       "      <th></th>\n",
       "      <th></th>\n",
       "      <th></th>\n",
       "      <th></th>\n",
       "      <th></th>\n",
       "      <th></th>\n",
       "      <th></th>\n",
       "      <th></th>\n",
       "      <th></th>\n",
       "    </tr>\n",
       "  </thead>\n",
       "  <tbody>\n",
       "    <tr>\n",
       "      <th>0</th>\n",
       "      <td>26.0</td>\n",
       "      <td>4979.0</td>\n",
       "      <td>9109.0</td>\n",
       "      <td>8413.0</td>\n",
       "      <td>10365.0</td>\n",
       "      <td>10383.0</td>\n",
       "      <td>617.0</td>\n",
       "      <td>2549.0</td>\n",
       "      <td>2596.0</td>\n",
       "      <td>4615.0</td>\n",
       "      <td>6320.0</td>\n",
       "      <td>7474.0</td>\n",
       "      <td>7176.0</td>\n",
       "      <td>4856.0</td>\n",
       "      <td>4479.0</td>\n",
       "      <td>4468.0</td>\n",
       "      <td>3740.0</td>\n",
       "      <td>2396.0</td>\n",
       "    </tr>\n",
       "    <tr>\n",
       "      <th>1</th>\n",
       "      <td>298.0</td>\n",
       "      <td>5329.0</td>\n",
       "      <td>9144.0</td>\n",
       "      <td>8343.0</td>\n",
       "      <td>12018.0</td>\n",
       "      <td>8330.0</td>\n",
       "      <td>703.0</td>\n",
       "      <td>2549.0</td>\n",
       "      <td>2446.0</td>\n",
       "      <td>4690.0</td>\n",
       "      <td>6436.0</td>\n",
       "      <td>7557.0</td>\n",
       "      <td>7401.0</td>\n",
       "      <td>5195.0</td>\n",
       "      <td>5287.0</td>\n",
       "      <td>5061.0</td>\n",
       "      <td>4725.0</td>\n",
       "      <td>NaN</td>\n",
       "    </tr>\n",
       "    <tr>\n",
       "      <th>2</th>\n",
       "      <td>278.0</td>\n",
       "      <td>4961.0</td>\n",
       "      <td>8517.0</td>\n",
       "      <td>7806.0</td>\n",
       "      <td>9301.0</td>\n",
       "      <td>7316.0</td>\n",
       "      <td>649.0</td>\n",
       "      <td>2268.0</td>\n",
       "      <td>2135.0</td>\n",
       "      <td>4315.0</td>\n",
       "      <td>5950.0</td>\n",
       "      <td>7115.0</td>\n",
       "      <td>6989.0</td>\n",
       "      <td>4890.0</td>\n",
       "      <td>4779.0</td>\n",
       "      <td>4981.0</td>\n",
       "      <td>NaN</td>\n",
       "      <td>NaN</td>\n",
       "    </tr>\n",
       "    <tr>\n",
       "      <th>3</th>\n",
       "      <td>255.0</td>\n",
       "      <td>4769.0</td>\n",
       "      <td>8090.0</td>\n",
       "      <td>6303.0</td>\n",
       "      <td>8433.0</td>\n",
       "      <td>6705.0</td>\n",
       "      <td>613.0</td>\n",
       "      <td>2034.0</td>\n",
       "      <td>1978.0</td>\n",
       "      <td>4053.0</td>\n",
       "      <td>5666.0</td>\n",
       "      <td>6684.0</td>\n",
       "      <td>6718.0</td>\n",
       "      <td>4411.0</td>\n",
       "      <td>4576.0</td>\n",
       "      <td>NaN</td>\n",
       "      <td>NaN</td>\n",
       "      <td>NaN</td>\n",
       "    </tr>\n",
       "    <tr>\n",
       "      <th>4</th>\n",
       "      <td>252.0</td>\n",
       "      <td>4562.0</td>\n",
       "      <td>6544.0</td>\n",
       "      <td>5854.0</td>\n",
       "      <td>7745.0</td>\n",
       "      <td>6533.0</td>\n",
       "      <td>572.0</td>\n",
       "      <td>1969.0</td>\n",
       "      <td>1886.0</td>\n",
       "      <td>3918.0</td>\n",
       "      <td>5482.0</td>\n",
       "      <td>6479.0</td>\n",
       "      <td>6151.0</td>\n",
       "      <td>4384.0</td>\n",
       "      <td>NaN</td>\n",
       "      <td>NaN</td>\n",
       "      <td>NaN</td>\n",
       "      <td>NaN</td>\n",
       "    </tr>\n",
       "  </tbody>\n",
       "</table>\n",
       "</div>"
      ],
      "text/plain": [
       "start_month  202106  202107  202108  202109   202110   202111  202112  202201  \\\n",
       "lag                                                                             \n",
       "0              26.0  4979.0  9109.0  8413.0  10365.0  10383.0   617.0  2549.0   \n",
       "1             298.0  5329.0  9144.0  8343.0  12018.0   8330.0   703.0  2549.0   \n",
       "2             278.0  4961.0  8517.0  7806.0   9301.0   7316.0   649.0  2268.0   \n",
       "3             255.0  4769.0  8090.0  6303.0   8433.0   6705.0   613.0  2034.0   \n",
       "4             252.0  4562.0  6544.0  5854.0   7745.0   6533.0   572.0  1969.0   \n",
       "\n",
       "start_month  202202  202203  202204  202205  202206  202207  202208  202209  \\\n",
       "lag                                                                           \n",
       "0            2596.0  4615.0  6320.0  7474.0  7176.0  4856.0  4479.0  4468.0   \n",
       "1            2446.0  4690.0  6436.0  7557.0  7401.0  5195.0  5287.0  5061.0   \n",
       "2            2135.0  4315.0  5950.0  7115.0  6989.0  4890.0  4779.0  4981.0   \n",
       "3            1978.0  4053.0  5666.0  6684.0  6718.0  4411.0  4576.0     NaN   \n",
       "4            1886.0  3918.0  5482.0  6479.0  6151.0  4384.0     NaN     NaN   \n",
       "\n",
       "start_month  202210  202211  \n",
       "lag                          \n",
       "0            3740.0  2396.0  \n",
       "1            4725.0     NaN  \n",
       "2               NaN     NaN  \n",
       "3               NaN     NaN  \n",
       "4               NaN     NaN  "
      ]
     },
     "execution_count": 66,
     "metadata": {},
     "output_type": "execute_result"
    }
   ],
   "source": [
    "df2 = pd.pivot(df, index='lag', columns='start_month', values='cp_num')\n",
    "df2.head()"
   ]
  },
  {
   "cell_type": "code",
   "execution_count": 104,
   "id": "41cd0638",
   "metadata": {
    "ExecuteTime": {
     "end_time": "2022-11-24T01:07:04.875953Z",
     "start_time": "2022-11-24T01:07:04.574372Z"
    }
   },
   "outputs": [
    {
     "data": {
      "text/plain": [
       "<AxesSubplot:xlabel='lag'>"
      ]
     },
     "execution_count": 104,
     "metadata": {},
     "output_type": "execute_result"
    },
    {
     "data": {
      "image/png": "[encoded data removed]",
      "text/plain": [
       "<Figure size 720x576 with 1 Axes>"
      ]
     },
     "metadata": {
      "needs_background": "light"
     },
     "output_type": "display_data"
    }
   ],
   "source": [
    "df1.iloc[:,0:7].plot(figsize=(10,8))"
   ]
  },
  {
   "cell_type": "code",
   "execution_count": 135,
   "id": "446ca2ca",
   "metadata": {
    "ExecuteTime": {
     "end_time": "2022-11-24T10:10:37.009324Z",
     "start_time": "2022-11-24T10:10:36.992399Z"
    }
   },
   "outputs": [
    {
     "data": {
      "text/html": [
       "<div>\n",
       "<style scoped>\n",
       "    .dataframe tbody tr th:only-of-type {\n",
       "        vertical-align: middle;\n",
       "    }\n",
       "\n",
       "    .dataframe tbody tr th {\n",
       "        vertical-align: top;\n",
       "    }\n",
       "\n",
       "    .dataframe thead th {\n",
       "        text-align: right;\n",
       "    }\n",
       "</style>\n",
       "<table border=\"1\" class=\"dataframe\">\n",
       "  <thead>\n",
       "    <tr style=\"text-align: right;\">\n",
       "      <th>start_month</th>\n",
       "      <th>202107</th>\n",
       "      <th>202108</th>\n",
       "      <th>202109</th>\n",
       "      <th>202110</th>\n",
       "      <th>202111</th>\n",
       "      <th>202112</th>\n",
       "      <th>202201</th>\n",
       "      <th>202202</th>\n",
       "    </tr>\n",
       "    <tr>\n",
       "      <th>lag</th>\n",
       "      <th></th>\n",
       "      <th></th>\n",
       "      <th></th>\n",
       "      <th></th>\n",
       "      <th></th>\n",
       "      <th></th>\n",
       "      <th></th>\n",
       "      <th></th>\n",
       "    </tr>\n",
       "  </thead>\n",
       "  <tbody>\n",
       "    <tr>\n",
       "      <th>0</th>\n",
       "      <td>4979.0</td>\n",
       "      <td>9109.0</td>\n",
       "      <td>8413.0</td>\n",
       "      <td>10365.0</td>\n",
       "      <td>10383.0</td>\n",
       "      <td>617.0</td>\n",
       "      <td>2549.0</td>\n",
       "      <td>2596.0</td>\n",
       "    </tr>\n",
       "    <tr>\n",
       "      <th>1</th>\n",
       "      <td>5329.0</td>\n",
       "      <td>9144.0</td>\n",
       "      <td>8343.0</td>\n",
       "      <td>12018.0</td>\n",
       "      <td>8330.0</td>\n",
       "      <td>703.0</td>\n",
       "      <td>2549.0</td>\n",
       "      <td>2446.0</td>\n",
       "    </tr>\n",
       "    <tr>\n",
       "      <th>2</th>\n",
       "      <td>4961.0</td>\n",
       "      <td>8517.0</td>\n",
       "      <td>7806.0</td>\n",
       "      <td>9301.0</td>\n",
       "      <td>7316.0</td>\n",
       "      <td>649.0</td>\n",
       "      <td>2268.0</td>\n",
       "      <td>2135.0</td>\n",
       "    </tr>\n",
       "    <tr>\n",
       "      <th>3</th>\n",
       "      <td>4769.0</td>\n",
       "      <td>8090.0</td>\n",
       "      <td>6303.0</td>\n",
       "      <td>8433.0</td>\n",
       "      <td>6705.0</td>\n",
       "      <td>613.0</td>\n",
       "      <td>2034.0</td>\n",
       "      <td>1978.0</td>\n",
       "    </tr>\n",
       "    <tr>\n",
       "      <th>4</th>\n",
       "      <td>4562.0</td>\n",
       "      <td>6544.0</td>\n",
       "      <td>5854.0</td>\n",
       "      <td>7745.0</td>\n",
       "      <td>6533.0</td>\n",
       "      <td>572.0</td>\n",
       "      <td>1969.0</td>\n",
       "      <td>1886.0</td>\n",
       "    </tr>\n",
       "    <tr>\n",
       "      <th>5</th>\n",
       "      <td>3820.0</td>\n",
       "      <td>6044.0</td>\n",
       "      <td>5371.0</td>\n",
       "      <td>7580.0</td>\n",
       "      <td>6184.0</td>\n",
       "      <td>566.0</td>\n",
       "      <td>1885.0</td>\n",
       "      <td>1822.0</td>\n",
       "    </tr>\n",
       "    <tr>\n",
       "      <th>6</th>\n",
       "      <td>3547.0</td>\n",
       "      <td>5620.0</td>\n",
       "      <td>5328.0</td>\n",
       "      <td>7138.0</td>\n",
       "      <td>5960.0</td>\n",
       "      <td>528.0</td>\n",
       "      <td>1839.0</td>\n",
       "      <td>1761.0</td>\n",
       "    </tr>\n",
       "    <tr>\n",
       "      <th>7</th>\n",
       "      <td>3280.0</td>\n",
       "      <td>5522.0</td>\n",
       "      <td>4997.0</td>\n",
       "      <td>6927.0</td>\n",
       "      <td>5763.0</td>\n",
       "      <td>506.0</td>\n",
       "      <td>1807.0</td>\n",
       "      <td>1717.0</td>\n",
       "    </tr>\n",
       "    <tr>\n",
       "      <th>8</th>\n",
       "      <td>3263.0</td>\n",
       "      <td>5192.0</td>\n",
       "      <td>4897.0</td>\n",
       "      <td>6582.0</td>\n",
       "      <td>5612.0</td>\n",
       "      <td>511.0</td>\n",
       "      <td>1735.0</td>\n",
       "      <td>1544.0</td>\n",
       "    </tr>\n",
       "  </tbody>\n",
       "</table>\n",
       "</div>"
      ],
      "text/plain": [
       "start_month  202107  202108  202109   202110   202111  202112  202201  202202\n",
       "lag                                                                          \n",
       "0            4979.0  9109.0  8413.0  10365.0  10383.0   617.0  2549.0  2596.0\n",
       "1            5329.0  9144.0  8343.0  12018.0   8330.0   703.0  2549.0  2446.0\n",
       "2            4961.0  8517.0  7806.0   9301.0   7316.0   649.0  2268.0  2135.0\n",
       "3            4769.0  8090.0  6303.0   8433.0   6705.0   613.0  2034.0  1978.0\n",
       "4            4562.0  6544.0  5854.0   7745.0   6533.0   572.0  1969.0  1886.0\n",
       "5            3820.0  6044.0  5371.0   7580.0   6184.0   566.0  1885.0  1822.0\n",
       "6            3547.0  5620.0  5328.0   7138.0   5960.0   528.0  1839.0  1761.0\n",
       "7            3280.0  5522.0  4997.0   6927.0   5763.0   506.0  1807.0  1717.0\n",
       "8            3263.0  5192.0  4897.0   6582.0   5612.0   511.0  1735.0  1544.0"
      ]
     },
     "execution_count": 135,
     "metadata": {},
     "output_type": "execute_result"
    }
   ],
   "source": [
    "df2.iloc[:9,1:9]"
   ]
  },
  {
   "cell_type": "code",
   "execution_count": 140,
   "id": "bf2d66ac",
   "metadata": {
    "ExecuteTime": {
     "end_time": "2022-11-24T10:13:39.450293Z",
     "start_time": "2022-11-24T10:13:39.438349Z"
    }
   },
   "outputs": [
    {
     "data": {
      "text/plain": [
       "lag\n",
       "0        NaN\n",
       "1     4979.0\n",
       "2     5329.0\n",
       "3     4961.0\n",
       "4     4769.0\n",
       "5     4562.0\n",
       "6     3820.0\n",
       "7     3547.0\n",
       "8     3280.0\n",
       "9     3263.0\n",
       "10    2994.0\n",
       "11    2881.0\n",
       "12    2745.0\n",
       "13    2642.0\n",
       "14    2619.0\n",
       "15    2514.0\n",
       "16    2342.0\n",
       "17    2322.0\n",
       "Name: 202107, dtype: float64"
      ]
     },
     "execution_count": 140,
     "metadata": {},
     "output_type": "execute_result"
    }
   ],
   "source": [
    "df2[202107].shift(1)"
   ]
  },
  {
   "cell_type": "markdown",
   "id": "1ea0f4f7",
   "metadata": {},
   "source": [
    "## 拟合"
   ]
  },
  {
   "cell_type": "code",
   "execution_count": 105,
   "id": "e592e229",
   "metadata": {
    "ExecuteTime": {
     "end_time": "2022-11-24T06:04:36.866913Z",
     "start_time": "2022-11-24T06:04:36.778614Z"
    }
   },
   "outputs": [
    {
     "data": {
      "text/plain": [
       "array([0.00027466, 0.00345646])"
      ]
     },
     "execution_count": 105,
     "metadata": {},
     "output_type": "execute_result"
    }
   ],
   "source": [
    "# from scipy.optimize import curve_fit\n",
    "# def func(x, a, b):\n",
    "#     r = 1\n",
    "#     r_list = []\n",
    "#     for k in x:\n",
    "#         for i in range(k):\n",
    "#             r = (b + k - i - 1) / (a + b + k - i - 1) * r\n",
    "#         r_list.append(r)\n",
    "#     return np.array(r_list)\n",
    "\n",
    "# p_est, err= curve_fit(func,  df1.iloc[1:10][202107].dropna().index, df1.iloc[1:10][202107].dropna())\n",
    "# p_est"
   ]
  },
  {
   "cell_type": "code",
   "execution_count": 106,
   "id": "37d61e00",
   "metadata": {
    "ExecuteTime": {
     "end_time": "2022-11-24T06:04:39.168408Z",
     "start_time": "2022-11-24T06:04:38.368873Z"
    }
   },
   "outputs": [
    {
     "data": {
      "text/plain": [
       "<matplotlib.legend.Legend at 0x29d210cfd00>"
      ]
     },
     "execution_count": 106,
     "metadata": {},
     "output_type": "execute_result"
    },
    {
     "data": {
      "image/png": "[encoded data removed]",
      "text/plain": [
       "<Figure size 432x288 with 1 Axes>"
      ]
     },
     "metadata": {
      "needs_background": "light"
     },
     "output_type": "display_data"
    }
   ],
   "source": [
    "# y = func(df1.iloc[1:][202107].dropna().index, *p_est)\n",
    "# plt.plot(df1.iloc[1:][202107].dropna().index, y, label='pre')\n",
    "# plt.plot(df1.iloc[1:][202107].dropna().index, df1.iloc[1:][202107].dropna(), label='actural')\n",
    "# plt.ylim([0,1])\n",
    "# plt.legend()\n"
   ]
  },
  {
   "cell_type": "markdown",
   "id": "a556866e",
   "metadata": {},
   "source": [
    "### 极大似然估计a,b"
   ]
  },
  {
   "cell_type": "code",
   "execution_count": 108,
   "id": "8c585500",
   "metadata": {
    "ExecuteTime": {
     "end_time": "2022-11-24T06:07:34.689820Z",
     "start_time": "2022-11-24T06:07:34.657113Z"
    }
   },
   "outputs": [
    {
     "data": {
      "text/plain": [
       "lag\n",
       "1      742.0\n",
       "2      627.0\n",
       "3      427.0\n",
       "4     1546.0\n",
       "5      500.0\n",
       "6      424.0\n",
       "7       98.0\n",
       "8      330.0\n",
       "9      140.0\n",
       "10     182.0\n",
       "11      69.0\n",
       "12      60.0\n",
       "13     180.0\n",
       "14     414.0\n",
       "15     101.0\n",
       "Name: 202108, dtype: float64"
      ]
     },
     "execution_count": 108,
     "metadata": {},
     "output_type": "execute_result"
    }
   ],
   "source": [
    "survive_pr = df1.loc[1:][202108].dropna()\n",
    "active_cp = df2.loc[0:][202108].dropna()\n",
    "total_cp = df2.iloc[0][202108] / df1.iloc[0][202108]\n",
    "active_cp.iloc[0] = total_cp\n",
    "lost_cp = active_cp.shift(1) - active_cp\n",
    "lost_cp = lost_cp.dropna()\n",
    "lost_cp"
   ]
  },
  {
   "cell_type": "code",
   "execution_count": 132,
   "id": "83ab7dc3",
   "metadata": {
    "ExecuteTime": {
     "end_time": "2022-11-24T06:59:17.143908Z",
     "start_time": "2022-11-24T06:59:17.109469Z"
    }
   },
   "outputs": [],
   "source": [
    "#第一个月的留存率取均值 剔除最大、最小值\n",
    "survive_pr = df1.apply(lambda x: (x.sum() - x.min() - x.max()) / (len(x.dropna())-2) if len(x.dropna()) > 2 else x.mean(), axis=1)"
   ]
  },
  {
   "cell_type": "code",
   "execution_count": 133,
   "id": "b5b2079d",
   "metadata": {
    "ExecuteTime": {
     "end_time": "2022-11-24T06:59:17.926810Z",
     "start_time": "2022-11-24T06:59:17.907150Z"
    }
   },
   "outputs": [
    {
     "data": {
      "text/plain": [
       "lag\n",
       "0     0.869070\n",
       "1     0.926710\n",
       "2     0.847724\n",
       "3     0.780177\n",
       "4     0.734155\n",
       "5     0.685423\n",
       "6     0.637522\n",
       "7     0.601806\n",
       "8     0.562439\n",
       "9     0.529323\n",
       "10    0.510677\n",
       "11    0.480592\n",
       "12    0.459416\n",
       "13    0.435104\n",
       "14    0.425650\n",
       "15    0.409266\n",
       "16    0.420752\n",
       "17    0.415033\n",
       "dtype: float64"
      ]
     },
     "execution_count": 133,
     "metadata": {},
     "output_type": "execute_result"
    }
   ],
   "source": [
    "df2.iloc"
   ]
  },
  {
   "cell_type": "code",
   "execution_count": 119,
   "id": "a92865b0",
   "metadata": {
    "ExecuteTime": {
     "end_time": "2022-11-24T06:37:31.935114Z",
     "start_time": "2022-11-24T06:37:31.630954Z"
    }
   },
   "outputs": [
    {
     "name": "stdout",
     "output_type": "stream",
     "text": [
      "最小值: 242400.35922748293\n",
      "最优解: [ 283.16641076 1852.82600011]\n",
      "迭代终止是否成功 True\n",
      "迭代终止原因 Optimization terminated successfully\n"
     ]
    }
   ],
   "source": [
    "from scipy.optimize import minimize\n",
    "\n",
    "def p_func(t, a, b):\n",
    "    p_1 = a / (a + b)\n",
    "    if t == 1:\n",
    "        return a / (a + b)\n",
    "    else:\n",
    "        for i in range(2,t+1):\n",
    "            p_1 = p_1 * (b + i - 2) / (a + b + i - 1)\n",
    "        return p_1\n",
    "\n",
    "\n",
    "def s_func(t, a, b):\n",
    "    r = 1\n",
    "    for i in range(1, t+1):\n",
    "        r = r * (b + i - 1) / (a + b + i - 1)\n",
    "    return r\n",
    "\n",
    "#t=7\n",
    "n = 10\n",
    "def L_func(x):\n",
    "    return -sum(lost_cp.iloc[:n] * [np.log(p_func(i,x[0],x[1])) for i in range(1,n+1)]) - (total_cp - lost_cp.iloc[:n].sum()) * np.log(s_func(n,x[0],x[1]))\n",
    "    \n",
    "#最值优化求解\n",
    "e = 1e-10\n",
    "cons=(\n",
    "    {'type': 'ineq', 'fun': lambda x: x[0] - e},\n",
    "    {'type': 'ineq', 'fun': lambda x: x[1] - e},\n",
    ")\n",
    "x0 = [10,1]\n",
    "res = minimize(L_func,x0,method='SLSQP',constraints=cons)\n",
    "print(\"最小值:\",res.fun)\n",
    "print(\"最优解:\",res.x)\n",
    "print(\"迭代终止是否成功\",res.success)\n",
    "print(\"迭代终止原因\",res.message)"
   ]
  },
  {
   "cell_type": "code",
   "execution_count": 120,
   "id": "0285f83c",
   "metadata": {
    "ExecuteTime": {
     "end_time": "2022-11-24T06:37:35.516347Z",
     "start_time": "2022-11-24T06:37:34.863437Z"
    }
   },
   "outputs": [
    {
     "data": {
      "text/plain": [
       "<matplotlib.legend.Legend at 0x29d204da340>"
      ]
     },
     "execution_count": 120,
     "metadata": {},
     "output_type": "execute_result"
    },
    {
     "data": {
      "image/png": "[encoded data removed]",
      "text/plain": [
       "<Figure size 432x288 with 1 Axes>"
      ]
     },
     "metadata": {
      "needs_background": "light"
     },
     "output_type": "display_data"
    }
   ],
   "source": [
    "y = [s_func(i, *res.x) for i in range(1, survive_pr.shape[0]+1)]\n",
    "plt.plot(survive_pr.index, y, label='pre')\n",
    "plt.plot(survive_pr.index, survive_pr, label='actural')\n",
    "plt.ylim([0,1])\n",
    "plt.legend()"
   ]
  },
  {
   "cell_type": "code",
   "execution_count": 111,
   "id": "7ba25403",
   "metadata": {
    "ExecuteTime": {
     "end_time": "2022-11-24T06:10:31.883252Z",
     "start_time": "2022-11-24T06:10:31.864075Z"
    }
   },
   "outputs": [
    {
     "data": {
      "text/plain": [
       "0.049283012403344414"
      ]
     },
     "execution_count": 111,
     "metadata": {},
     "output_type": "execute_result"
    }
   ],
   "source": [
    "np.mean(abs(y-survive_pr) / survive_pr)"
   ]
  }
 ],
 "metadata": {
  "kernelspec": {
   "display_name": "Python 3",
   "language": "python",
   "name": "python3"
  },
  "language_info": {
   "codemirror_mode": {
    "name": "ipython",
    "version": 3
   },
   "file_extension": ".py",
   "mimetype": "text/x-python",
   "name": "python",
   "nbconvert_exporter": "python",
   "pygments_lexer": "ipython3",
   "version": "3.8.8"
  },
  "toc": {
   "base_numbering": 1,
   "nav_menu": {},
   "number_sections": true,
   "sideBar": true,
   "skip_h1_title": false,
   "title_cell": "Table of Contents",
   "title_sidebar": "Contents",
   "toc_cell": false,
   "toc_position": {},
   "toc_section_display": true,
   "toc_window_display": false
  },
  "varInspector": {
   "cols": {
    "lenName": 16,
    "lenType": 16,
    "lenVar": 40
   },
   "kernels_config": {
    "python": {
     "delete_cmd_postfix": "",
     "delete_cmd_prefix": "del ",
     "library": "var_list.py",
     "varRefreshCmd": "print(var_dic_list())"
    },
    "r": {
     "delete_cmd_postfix": ") ",
     "delete_cmd_prefix": "rm(",
     "library": "var_list.r",
     "varRefreshCmd": "cat(var_dic_list()) "
    }
   },
   "types_to_exclude": [
    "module",
    "function",
    "builtin_function_or_method",
    "instance",
    "_Feature"
   ],
   "window_display": false
  }
 },
 "nbformat": 4,
 "nbformat_minor": 5
}
